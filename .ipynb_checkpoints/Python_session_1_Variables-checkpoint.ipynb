{
 "cells": [
  {
   "cell_type": "markdown",
   "id": "5b403db7-94c4-42bd-806d-0cd24a36ccf3",
   "metadata": {},
   "source": [
    "**Variables**"
   ]
  },
  {
   "cell_type": "markdown",
   "id": "c8120100-4292-40b1-8165-e2e9dffbfea9",
   "metadata": {},
   "source": [
    "- Dont do over action\n",
    "- only action\n",
    "- chat with gpt "
   ]
  },
  {
   "cell_type": "markdown",
   "id": "a2b7eef1-9249-4c3c-9e4c-77bc6019a325",
   "metadata": {},
   "source": [
    "- Variables are used to store the values\n",
    "\n",
    "- Variables can change their values\n",
    "\n",
    "- Varyyyy : Varying "
   ]
  },
  {
   "cell_type": "code",
   "execution_count": 2,
   "id": "16dcbc7d-a228-4305-9ad6-7513d475cd6e",
   "metadata": {},
   "outputs": [
    {
     "data": {
      "text/plain": [
       "100"
      ]
     },
     "execution_count": 2,
     "metadata": {},
     "output_type": "execute_result"
    }
   ],
   "source": [
    "number=100\n",
    "number\n",
    "\n",
    "# 100 is storing in a variable called 'number'"
   ]
  },
  {
   "cell_type": "code",
   "execution_count": 3,
   "id": "e6d61bff-4de6-4402-b58b-5d68736a94b8",
   "metadata": {},
   "outputs": [
    {
     "data": {
      "text/plain": [
       "200"
      ]
     },
     "execution_count": 3,
     "metadata": {},
     "output_type": "execute_result"
    }
   ],
   "source": [
    "number=200\n",
    "number"
   ]
  },
  {
   "cell_type": "markdown",
   "id": "daaf1685-00af-4e2d-bb23-57bbbcd883b1",
   "metadata": {},
   "source": [
    "raviteja is learning python\n",
    "code mode is used to write the code\n",
    "markdown mode is used to write the story\n",
    "\n",
    "square brackets are there before cell : code mode\n",
    "esc+m"
   ]
  },
  {
   "cell_type": "code",
   "execution_count": 4,
   "id": "a439954c-0633-4a4a-8274-fe2490f2a4a3",
   "metadata": {},
   "outputs": [],
   "source": [
    "raviteja=500\n",
    "# 500 is a values stored in a variable raviteja"
   ]
  },
  {
   "cell_type": "code",
   "execution_count": 5,
   "id": "f046b152-a284-45e0-b3ea-cb554494007a",
   "metadata": {},
   "outputs": [
    {
     "data": {
      "text/plain": [
       "50000"
      ]
     },
     "execution_count": 5,
     "metadata": {},
     "output_type": "execute_result"
    }
   ],
   "source": [
    "raviteja= 50000\n",
    "raviteja"
   ]
  },
  {
   "cell_type": "code",
   "execution_count": 6,
   "id": "29804c97-7624-435f-bef1-ab1c84c29c03",
   "metadata": {},
   "outputs": [
    {
     "data": {
      "text/plain": [
       "500000"
      ]
     },
     "execution_count": 6,
     "metadata": {},
     "output_type": "execute_result"
    }
   ],
   "source": [
    "raviteja=500000\n",
    "raviteja"
   ]
  },
  {
   "cell_type": "code",
   "execution_count": 7,
   "id": "bdab2ab7-cefe-43bf-bc43-b463183cb90b",
   "metadata": {},
   "outputs": [
    {
     "data": {
      "text/plain": [
       "25000"
      ]
     },
     "execution_count": 7,
     "metadata": {},
     "output_type": "execute_result"
    }
   ],
   "source": [
    "raviteja1=25000\n",
    "raviteja1\n",
    "# type ra \n",
    "# enter tab\n",
    "# you can see the names which are starting with 'ra'"
   ]
  },
  {
   "cell_type": "code",
   "execution_count": 8,
   "id": "28897d40-486b-46e0-aa0a-887e51e20bf6",
   "metadata": {},
   "outputs": [],
   "source": [
    "lakshmi=100"
   ]
  },
  {
   "cell_type": "code",
   "execution_count": 9,
   "id": "fab80215-8f02-4d2b-a792-186e731118cc",
   "metadata": {},
   "outputs": [
    {
     "data": {
      "text/plain": [
       "200"
      ]
     },
     "execution_count": 9,
     "metadata": {},
     "output_type": "execute_result"
    }
   ],
   "source": [
    "NUMBER=200\n",
    "NUMBER"
   ]
  },
  {
   "cell_type": "code",
   "execution_count": 10,
   "id": "035e9440-2d16-4af7-8ea2-8ea73d4217f5",
   "metadata": {},
   "outputs": [
    {
     "data": {
      "text/plain": [
       "300"
      ]
     },
     "execution_count": 10,
     "metadata": {},
     "output_type": "execute_result"
    }
   ],
   "source": [
    "NUMber=300\n",
    "NUMber"
   ]
  },
  {
   "cell_type": "code",
   "execution_count": 11,
   "id": "f4520744-3f6d-48c7-a661-df4190fc6244",
   "metadata": {},
   "outputs": [
    {
     "data": {
      "text/plain": [
       "400"
      ]
     },
     "execution_count": 11,
     "metadata": {},
     "output_type": "execute_result"
    }
   ],
   "source": [
    "number123=400\n",
    "number123"
   ]
  },
  {
   "cell_type": "code",
   "execution_count": 12,
   "id": "40b2c643-623b-4ebf-83e9-5f3eb474ffeb",
   "metadata": {},
   "outputs": [
    {
     "ename": "SyntaxError",
     "evalue": "invalid decimal literal (3379286347.py, line 1)",
     "output_type": "error",
     "traceback": [
      "\u001b[1;36m  Cell \u001b[1;32mIn[12], line 1\u001b[1;36m\u001b[0m\n\u001b[1;33m    123number=500\u001b[0m\n\u001b[1;37m      ^\u001b[0m\n\u001b[1;31mSyntaxError\u001b[0m\u001b[1;31m:\u001b[0m invalid decimal literal\n"
     ]
    }
   ],
   "source": [
    "123number=500\n",
    "123\n",
    "# Varaibles does not have numbers as prefix\n",
    "# Variables should not start with numbers"
   ]
  },
  {
   "cell_type": "code",
   "execution_count": 13,
   "id": "21972f65-60f9-44fe-9253-4f38a5b22850",
   "metadata": {},
   "outputs": [
    {
     "ename": "SyntaxError",
     "evalue": "cannot assign to expression here. Maybe you meant '==' instead of '='? (2320124088.py, line 1)",
     "output_type": "error",
     "traceback": [
      "\u001b[1;36m  Cell \u001b[1;32mIn[13], line 1\u001b[1;36m\u001b[0m\n\u001b[1;33m    Number*one=500\u001b[0m\n\u001b[1;37m    ^\u001b[0m\n\u001b[1;31mSyntaxError\u001b[0m\u001b[1;31m:\u001b[0m cannot assign to expression here. Maybe you meant '==' instead of '='?\n"
     ]
    }
   ],
   "source": [
    "Number*one=500\n",
    "Number*one\n",
    "\n",
    "# Variables does not have spl characters"
   ]
  },
  {
   "cell_type": "code",
   "execution_count": 14,
   "id": "7ba8b944-b7ae-4c4c-b003-08c965e3d866",
   "metadata": {},
   "outputs": [
    {
     "data": {
      "text/plain": [
       "600"
      ]
     },
     "execution_count": 14,
     "metadata": {},
     "output_type": "execute_result"
    }
   ],
   "source": [
    "number_one=600\n",
    "number_one\n",
    "\n",
    "# Variables can have underscores"
   ]
  },
  {
   "cell_type": "code",
   "execution_count": 15,
   "id": "1cef2688-be5e-4cd9-9793-0574a2ef16d9",
   "metadata": {},
   "outputs": [
    {
     "data": {
      "text/plain": [
       "900"
      ]
     },
     "execution_count": 15,
     "metadata": {},
     "output_type": "execute_result"
    }
   ],
   "source": [
    "_= 900\n",
    "_\n",
    "\n",
    "# Only underscore can represent as variables"
   ]
  },
  {
   "cell_type": "markdown",
   "id": "72b4f324-4d40-4a1c-8624-68921cb7f5bc",
   "metadata": {},
   "source": [
    "- Variables are case sensitive\n",
    "\n",
    "- Variables can represent as Capital letters\n",
    "\n",
    "- Variables can represent as Small letters\n",
    "\n",
    "- Varaibles can have both comninations\n",
    "\n",
    "- Python will consider latest value\n",
    "\n",
    "- Variables does not start with numbers\n",
    "\n",
    "- Variables can have numbers at last\n",
    "\n",
    "- Variables does not contain any spl charcater , except Underscore\n",
    "\n",
    "- Variables does not contain any space between the letters : number one\n",
    "\n",
    "- Only underscore can use as variables\n",
    "\n",
    "- Keywords or reserved words will not use as Variables : if , else"
   ]
  },
  {
   "cell_type": "code",
   "execution_count": 16,
   "id": "7675a4c1-5750-41ad-b937-bb2d31f7c113",
   "metadata": {},
   "outputs": [
    {
     "data": {
      "text/plain": [
       "900"
      ]
     },
     "execution_count": 16,
     "metadata": {},
     "output_type": "execute_result"
    }
   ],
   "source": [
    "number_123_two=900\n",
    "number_123_two"
   ]
  },
  {
   "cell_type": "code",
   "execution_count": null,
   "id": "6a9ecc2e-dd4c-468c-a6ae-4f7668281760",
   "metadata": {},
   "outputs": [],
   "source": []
  }
 ],
 "metadata": {
  "kernelspec": {
   "display_name": "Python 3 (ipykernel)",
   "language": "python",
   "name": "python3"
  },
  "language_info": {
   "codemirror_mode": {
    "name": "ipython",
    "version": 3
   },
   "file_extension": ".py",
   "mimetype": "text/x-python",
   "name": "python",
   "nbconvert_exporter": "python",
   "pygments_lexer": "ipython3",
   "version": "3.12.3"
  }
 },
 "nbformat": 4,
 "nbformat_minor": 5
}
