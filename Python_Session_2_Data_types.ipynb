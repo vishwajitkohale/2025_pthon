{
 "cells": [
  {
   "cell_type": "code",
   "execution_count": null,
   "id": "188403d3-1694-46fa-b585-f6fbb3d2fe83",
   "metadata": {},
   "outputs": [],
   "source": [
    " Sir I don’t know how to get the code suggestion pop up\n",
    "\n",
    "\n",
    "\n"
   ]
  },
  {
   "cell_type": "markdown",
   "id": "e43bebff-77a7-4bf4-8915-a6718d72f020",
   "metadata": {},
   "source": [
    "**Data types**\n",
    "\n",
    "- In python we have many data types are there\n",
    "\n",
    "    - Integer\n",
    "\n",
    "    - float\n",
    "\n",
    "    - string\n",
    "\n",
    "    - boolean\n"
   ]
  },
  {
   "cell_type": "markdown",
   "id": "132ba426-214e-4d12-bf59-09afe90ef76a",
   "metadata": {},
   "source": [
    "**Integer**\n",
    "\n",
    "- In python no need to mention a data type like c\n",
    "\n",
    "- It will consider the data type automatically"
   ]
  },
  {
   "cell_type": "code",
   "execution_count": 1,
   "id": "5d9ed46c-ca14-4128-b052-f5862e73349b",
   "metadata": {},
   "outputs": [],
   "source": [
    "number=100\n",
    "# In order to check the type of a variable we will use\n",
    "# In built functon calles as type"
   ]
  },
  {
   "cell_type": "code",
   "execution_count": 2,
   "id": "685a6f0a-6862-44a3-a201-a82dfceaf779",
   "metadata": {},
   "outputs": [
    {
     "data": {
      "text/plain": [
       "int"
      ]
     },
     "execution_count": 2,
     "metadata": {},
     "output_type": "execute_result"
    }
   ],
   "source": [
    "type(number)"
   ]
  },
  {
   "cell_type": "code",
   "execution_count": 3,
   "id": "2beda4d2-c331-438a-8050-fea8f146dfaa",
   "metadata": {},
   "outputs": [
    {
     "data": {
      "text/plain": [
       "int"
      ]
     },
     "execution_count": 3,
     "metadata": {},
     "output_type": "execute_result"
    }
   ],
   "source": [
    "type(100)"
   ]
  },
  {
   "cell_type": "markdown",
   "id": "0b532b4f-e711-41bd-b00d-7eccd569af46",
   "metadata": {},
   "source": [
    "- In Maths we have different types of represntations available\n",
    "\n",
    "- The following Number systems are:\n",
    "\n",
    "    - Binary\n",
    "\n",
    "    - Octa\n",
    "\n",
    "    - Decimal\n",
    "\n",
    "    - Hexa"
   ]
  },
  {
   "cell_type": "markdown",
   "id": "d71934a5-ec43-45b5-b2ef-161c5ea6b094",
   "metadata": {},
   "source": [
    "**Binary**\n",
    "\n",
    "- Binary has  bi which indicates  two\n",
    "\n",
    "- We have total 0  to  9  digits  to represnt any number\n",
    "\n",
    "- From there we will take only first two digits i.e. 0 and 1\n",
    "\n",
    "- Example :  0b101  , 0B0001\n",
    "\n",
    "- Wrong representation is : 0b002, 1b001"
   ]
  },
  {
   "cell_type": "code",
   "execution_count": 6,
   "id": "2bbd4309-81ef-4d0c-bf64-f4f8309de43c",
   "metadata": {},
   "outputs": [
    {
     "data": {
      "text/plain": [
       "5"
      ]
     },
     "execution_count": 6,
     "metadata": {},
     "output_type": "execute_result"
    }
   ],
   "source": [
    "num=0b001\n",
    "num"
   ]
  },
  {
   "cell_type": "code",
   "execution_count": 7,
   "id": "4ecb10e0-667e-46cb-b938-e96cd9bf6626",
   "metadata": {},
   "outputs": [
    {
     "data": {
      "text/plain": [
       "15"
      ]
     },
     "execution_count": 7,
     "metadata": {},
     "output_type": "execute_result"
    }
   ],
   "source": [
    "0b1111"
   ]
  },
  {
   "cell_type": "code",
   "execution_count": null,
   "id": "bbe5b139-afbd-4083-a74b-bbd35582a050",
   "metadata": {},
   "outputs": [],
   "source": [
    "4   2   1   Num\n",
    "0   0   0   0\n",
    "0   0   1   1\n",
    "0   1   0   2\n",
    "0   1   1   3\n",
    "1   0   0   4\n",
    "1   0   1   5\n",
    "1   1   0   6   # 0b110=6\n",
    "1   1   1   7   # 0b111=7"
   ]
  },
  {
   "cell_type": "markdown",
   "id": "df07342f-ee1b-414d-af11-78cd26d44d86",
   "metadata": {},
   "source": [
    "**Octa**\n",
    "\n",
    "- Octa means 8\n",
    "\n",
    "- We have total 0  to  9  digits  to represnt any number: 0,1,2,3,4,5,6,7,8,9\n",
    "\n",
    "- From there we will take only starting 8 digits i.e. 0 to 7\n",
    "\n",
    "- Example :  0o123  , 0O567, 0o10006\n",
    "\n",
    "- Wrong representation is : 0o786  because 7, 6 but  8 \n",
    "\n",
    "\n"
   ]
  },
  {
   "cell_type": "code",
   "execution_count": 1,
   "id": "4058366a-20d9-4a6b-bee6-fc38df54244c",
   "metadata": {},
   "outputs": [
    {
     "ename": "SyntaxError",
     "evalue": "invalid digit '8' in octal literal (3171049937.py, line 1)",
     "output_type": "error",
     "traceback": [
      "\u001b[1;36m  Cell \u001b[1;32mIn[1], line 1\u001b[1;36m\u001b[0m\n\u001b[1;33m    0o786\u001b[0m\n\u001b[1;37m       ^\u001b[0m\n\u001b[1;31mSyntaxError\u001b[0m\u001b[1;31m:\u001b[0m invalid digit '8' in octal literal\n"
     ]
    }
   ],
   "source": [
    "0o786"
   ]
  },
  {
   "cell_type": "markdown",
   "id": "ade01025-357c-4f6b-bb44-bcd95a099cb6",
   "metadata": {},
   "source": [
    "- A good develope will understand the error easily\n",
    "\n",
    "- almost we will get 20 types \n",
    "\n",
    "- We will focus both on output as well as errors\n",
    "\n"
   ]
  },
  {
   "cell_type": "code",
   "execution_count": 2,
   "id": "72f5e7e2-540b-414c-997a-b1c947f3b835",
   "metadata": {},
   "outputs": [
    {
     "data": {
      "text/plain": [
       "83"
      ]
     },
     "execution_count": 2,
     "metadata": {},
     "output_type": "execute_result"
    }
   ],
   "source": [
    "0o123"
   ]
  },
  {
   "cell_type": "code",
   "execution_count": 3,
   "id": "6a663f8f-fe91-4e6c-84a5-65360199c726",
   "metadata": {},
   "outputs": [
    {
     "data": {
      "text/plain": [
       "302"
      ]
     },
     "execution_count": 3,
     "metadata": {},
     "output_type": "execute_result"
    }
   ],
   "source": [
    "0O456"
   ]
  },
  {
   "cell_type": "markdown",
   "id": "d852e88a-a9f3-4fea-bcff-0eb310eeead9",
   "metadata": {},
   "source": [
    "**Hexa**\n",
    "\n",
    "- Hexa means 16\n",
    "\n",
    "- We have total 0  to  9  digits  to represnt any number: 0,1,2,3,4,5,6,7,8,9, \n",
    "\n",
    "- After 9 we will use A to F A : 10, B:11, C:12,D:13,E:14,F:15\n",
    "\n",
    "- Example :  0x123  , 0XABC, 0x9ad\n",
    "\n",
    "- Wrong representation is : 0xFGH   \n"
   ]
  },
  {
   "cell_type": "code",
   "execution_count": 4,
   "id": "013ee0c3-25bf-4ff8-a12b-26f8d7286aee",
   "metadata": {},
   "outputs": [
    {
     "data": {
      "text/plain": [
       "2748"
      ]
     },
     "execution_count": 4,
     "metadata": {},
     "output_type": "execute_result"
    }
   ],
   "source": [
    "0xabc"
   ]
  },
  {
   "cell_type": "code",
   "execution_count": 5,
   "id": "c6d3b537-7ad2-4726-b2c0-e0579555d9c9",
   "metadata": {},
   "outputs": [
    {
     "data": {
      "text/plain": [
       "2745"
      ]
     },
     "execution_count": 5,
     "metadata": {},
     "output_type": "execute_result"
    }
   ],
   "source": [
    "0xab9  # 2898"
   ]
  },
  {
   "cell_type": "code",
   "execution_count": 7,
   "id": "f14b38bc-5469-4423-bb0f-38f1b313c3f0",
   "metadata": {},
   "outputs": [
    {
     "data": {
      "text/plain": [
       "2898"
      ]
     },
     "execution_count": 7,
     "metadata": {},
     "output_type": "execute_result"
    }
   ],
   "source": [
    "0Xb52"
   ]
  },
  {
   "cell_type": "markdown",
   "id": "522fdba4-828e-47c7-bab4-3b7c524c2a3a",
   "metadata": {},
   "source": [
    "**Float**"
   ]
  },
  {
   "cell_type": "code",
   "execution_count": 8,
   "id": "c703d5e5-16ee-4cbe-9507-7ea33f209809",
   "metadata": {},
   "outputs": [
    {
     "data": {
      "text/plain": [
       "float"
      ]
     },
     "execution_count": 8,
     "metadata": {},
     "output_type": "execute_result"
    }
   ],
   "source": [
    "num=10.5\n",
    "type(num)"
   ]
  },
  {
   "cell_type": "code",
   "execution_count": 10,
   "id": "12d89dd6-8006-4cc6-aeca-5107780c3fbb",
   "metadata": {},
   "outputs": [
    {
     "data": {
      "text/plain": [
       "(int, float)"
      ]
     },
     "execution_count": 10,
     "metadata": {},
     "output_type": "execute_result"
    }
   ],
   "source": [
    "type(10),type(10.5)"
   ]
  },
  {
   "cell_type": "code",
   "execution_count": 13,
   "id": "50dfc85e-64e6-4b63-92b1-2dd73e087d1b",
   "metadata": {},
   "outputs": [
    {
     "data": {
      "text/plain": [
       "10000.0"
      ]
     },
     "execution_count": 13,
     "metadata": {},
     "output_type": "execute_result"
    }
   ],
   "source": [
    "10e1  # 10* <10>  = 100\n",
    "10e2  # 10* <100> = 1000\n",
    "10e3 # 10* <1000> = 10000\n",
    "10e4 # 10* <10000>= 100000"
   ]
  },
  {
   "cell_type": "code",
   "execution_count": 17,
   "id": "bf1a6ae8-9cad-45d1-a679-46d82712c00f",
   "metadata": {},
   "outputs": [
    {
     "data": {
      "text/plain": [
       "20"
      ]
     },
     "execution_count": 17,
     "metadata": {},
     "output_type": "execute_result"
    }
   ],
   "source": [
    "10\n",
    "20 \n",
    "# In juputer note book by default last value will print"
   ]
  },
  {
   "cell_type": "code",
   "execution_count": 16,
   "id": "ba4a92de-0aed-40fa-9a7f-ba00ba1aa981",
   "metadata": {},
   "outputs": [
    {
     "name": "stdout",
     "output_type": "stream",
     "text": [
      "10\n",
      "20\n"
     ]
    }
   ],
   "source": [
    "# If you want to see all the answers apply print\n",
    "print(10)\n",
    "print(20)"
   ]
  },
  {
   "cell_type": "code",
   "execution_count": 18,
   "id": "9bcfd1e2-a460-4659-85c9-1279873a1dcb",
   "metadata": {},
   "outputs": [
    {
     "data": {
      "text/plain": [
       "(10, 20)"
      ]
     },
     "execution_count": 18,
     "metadata": {},
     "output_type": "execute_result"
    }
   ],
   "source": [
    "10,20"
   ]
  },
  {
   "cell_type": "code",
   "execution_count": 19,
   "id": "2c029448-65c7-42e3-a560-4b27f1b3068f",
   "metadata": {},
   "outputs": [
    {
     "name": "stdout",
     "output_type": "stream",
     "text": [
      "100.0\n",
      "1000.0\n",
      "10000.0\n",
      "100000.0\n"
     ]
    }
   ],
   "source": [
    "print(10e1)  \n",
    "print(10e2)  \n",
    "print(10e3) \n",
    "print(10e4) "
   ]
  },
  {
   "cell_type": "code",
   "execution_count": 20,
   "id": "1c86802d-664b-4b0a-b4e6-45c0f667df05",
   "metadata": {},
   "outputs": [
    {
     "data": {
      "text/plain": [
       "(100.0, 1000.0, 10000.0)"
      ]
     },
     "execution_count": 20,
     "metadata": {},
     "output_type": "execute_result"
    }
   ],
   "source": [
    "10e+1,10e+2,10e+3"
   ]
  },
  {
   "cell_type": "code",
   "execution_count": 21,
   "id": "a02be02a-ea8d-4f08-a8fb-3b4d2aaf9270",
   "metadata": {},
   "outputs": [
    {
     "data": {
      "text/plain": [
       "1000.0"
      ]
     },
     "execution_count": 21,
     "metadata": {},
     "output_type": "execute_result"
    }
   ],
   "source": [
    "10E2  # Dont afraid to explore"
   ]
  },
  {
   "cell_type": "code",
   "execution_count": null,
   "id": "2859e9a5-2878-45a8-b787-d669a5e312b4",
   "metadata": {},
   "outputs": [],
   "source": [
    "10e-1  # 10/<10> = 1\n",
    "10e-2  # 10/<100> = 0.1\n",
    "10e-3  # 10/<1000> = 0.01"
   ]
  },
  {
   "cell_type": "code",
   "execution_count": 22,
   "id": "34697591-d08b-46e3-9db2-5662cc939384",
   "metadata": {},
   "outputs": [
    {
     "name": "stdout",
     "output_type": "stream",
     "text": [
      "1.0\n",
      "0.1\n",
      "0.01\n"
     ]
    }
   ],
   "source": [
    "print(10e-1)\n",
    "print(10e-2)\n",
    "print(10e-3)"
   ]
  },
  {
   "cell_type": "markdown",
   "id": "efab0cd3-3367-44f1-82ea-69a4e05073b0",
   "metadata": {},
   "source": [
    "- In the Machine learning we often see the values in exponential format\n",
    "\n",
    "- In some cases we need to search for zero value\n",
    "\n",
    "- In ML with Python we rarely see exatct an asnwer 0.0\n",
    "\n",
    "- Instead of 0.0 it will display as 1.2345e-17"
   ]
  },
  {
   "cell_type": "code",
   "execution_count": 27,
   "id": "d7e673b0-3617-4733-8ae0-894ace365e7f",
   "metadata": {},
   "outputs": [
    {
     "data": {
      "text/plain": [
       "0.000774619736"
      ]
     },
     "execution_count": 27,
     "metadata": {},
     "output_type": "execute_result"
    }
   ],
   "source": [
    "7.74619736e-4"
   ]
  },
  {
   "cell_type": "code",
   "execution_count": null,
   "id": "476ddd9b-cf9f-4dd2-b5be-595ca4fe6ba5",
   "metadata": {},
   "outputs": [],
   "source": [
    "1.2345e-17\n",
    "1.2345/10000000000000000000= 0.0000000000000000012345"
   ]
  },
  {
   "cell_type": "markdown",
   "id": "97907e7b-bdd2-4c3c-bc95-f1c247adbf28",
   "metadata": {},
   "source": [
    "**Strings**"
   ]
  },
  {
   "cell_type": "markdown",
   "id": "a6398a41-4418-4efe-8800-452d95d7d7ec",
   "metadata": {},
   "source": [
    "- strings represents english charcters generally\n",
    "\n",
    "- strings will respresnt with quotes \n",
    "\n",
    "    - Single quotes\n",
    "\n",
    "    - Double quotes\n",
    "\n",
    "    - Triple qoutes"
   ]
  },
  {
   "cell_type": "code",
   "execution_count": 28,
   "id": "4dcaca05-2241-4284-bfb7-049a9c8678e2",
   "metadata": {},
   "outputs": [
    {
     "data": {
      "text/plain": [
       "'python'"
      ]
     },
     "execution_count": 28,
     "metadata": {},
     "output_type": "execute_result"
    }
   ],
   "source": [
    "str1='python'  # single quotes\n",
    "str1"
   ]
  },
  {
   "cell_type": "code",
   "execution_count": 29,
   "id": "475f772f-7931-42ac-97bf-87c287307753",
   "metadata": {},
   "outputs": [
    {
     "data": {
      "text/plain": [
       "str"
      ]
     },
     "execution_count": 29,
     "metadata": {},
     "output_type": "execute_result"
    }
   ],
   "source": [
    "type(str1)"
   ]
  },
  {
   "cell_type": "code",
   "execution_count": 30,
   "id": "b58e9eac-49ec-4e98-bf7a-c324712c1d2d",
   "metadata": {},
   "outputs": [
    {
     "data": {
      "text/plain": [
       "'python'"
      ]
     },
     "execution_count": 30,
     "metadata": {},
     "output_type": "execute_result"
    }
   ],
   "source": [
    "str2=\"python\" # Double quotes\n",
    "str2"
   ]
  },
  {
   "cell_type": "markdown",
   "id": "130031cf-fd91-4c38-a351-4ab6a43f4800",
   "metadata": {},
   "source": [
    "- we can represent in any way but python will give in single quoutes"
   ]
  },
  {
   "cell_type": "code",
   "execution_count": 32,
   "id": "f235f72c-eb67-48f8-9dad-dcaacc6dd020",
   "metadata": {},
   "outputs": [
    {
     "name": "stdout",
     "output_type": "stream",
     "text": [
      "python\n",
      "python\n"
     ]
    }
   ],
   "source": [
    "print(str1)\n",
    "print(str2)"
   ]
  },
  {
   "cell_type": "markdown",
   "id": "29415bc3-cb1d-4450-9c34-86209310bcbf",
   "metadata": {},
   "source": [
    "- When we apply print on string, It will display with out quotes"
   ]
  },
  {
   "cell_type": "code",
   "execution_count": 33,
   "id": "89503705-5993-4528-bd39-599e59592406",
   "metadata": {},
   "outputs": [
    {
     "data": {
      "text/plain": [
       "str"
      ]
     },
     "execution_count": 33,
     "metadata": {},
     "output_type": "execute_result"
    }
   ],
   "source": [
    "str3='abc123'\n",
    "type(str3)"
   ]
  },
  {
   "cell_type": "code",
   "execution_count": 34,
   "id": "3e2716a5-7e69-48e4-b01b-e63838aa6139",
   "metadata": {},
   "outputs": [
    {
     "data": {
      "text/plain": [
       "(str, str, str, str)"
      ]
     },
     "execution_count": 34,
     "metadata": {},
     "output_type": "execute_result"
    }
   ],
   "source": [
    "type('10'),type('10.5'),type('123'),type('apple')"
   ]
  },
  {
   "cell_type": "markdown",
   "id": "da34031c-9640-4b18-b7ab-9793d1799e0e",
   "metadata": {},
   "source": [
    "- any data type or any value is provided by quotes means\n",
    "\n",
    "- It become a string only\n",
    "\n",
    "- Strings always in Red color\n",
    "\n",
    "- variables always in black color\n",
    "\n",
    "- keywords or numbers always in Green color"
   ]
  },
  {
   "cell_type": "code",
   "execution_count": null,
   "id": "5b81935b-d08a-461b-a6c2-640ed44274d8",
   "metadata": {},
   "outputs": [],
   "source": [
    "vicky='vicky'\n",
    "# 'Vicky' is a english letters stored in a variable name called vicky"
   ]
  },
  {
   "cell_type": "code",
   "execution_count": 39,
   "id": "beba5fca-6217-426d-b0d2-db8ada88e771",
   "metadata": {},
   "outputs": [
    {
     "name": "stdout",
     "output_type": "stream",
     "text": [
      "I like 'python'\n"
     ]
    }
   ],
   "source": [
    "str1=\"I like 'python'\"\n",
    "print(str1)"
   ]
  },
  {
   "cell_type": "code",
   "execution_count": 40,
   "id": "4b090f96-4fee-4b6b-89ae-1dd7f982e6a5",
   "metadata": {},
   "outputs": [
    {
     "name": "stdout",
     "output_type": "stream",
     "text": [
      "I like \"python\"\n"
     ]
    }
   ],
   "source": [
    "str1='I like \"python\"'\n",
    "print(str1)"
   ]
  },
  {
   "cell_type": "markdown",
   "id": "2f31ecf7-92bb-485d-88e6-5d94aa7c0273",
   "metadata": {},
   "source": [
    "- If you want to highlite any word \n",
    "\n",
    "- represent entire string in single quotes, highlited word in double quotes vice versa"
   ]
  },
  {
   "cell_type": "code",
   "execution_count": null,
   "id": "d50dd571-d6c9-4eda-a81e-d42a85a9b792",
   "metadata": {},
   "outputs": [],
   "source": [
    "hai\n",
    "how are you"
   ]
  },
  {
   "cell_type": "code",
   "execution_count": 41,
   "id": "02cbb394-b63b-43ce-9a48-dbc62d2d45f6",
   "metadata": {},
   "outputs": [
    {
     "ename": "SyntaxError",
     "evalue": "unterminated string literal (detected at line 1) (3411619208.py, line 1)",
     "output_type": "error",
     "traceback": [
      "\u001b[1;36m  Cell \u001b[1;32mIn[41], line 1\u001b[1;36m\u001b[0m\n\u001b[1;33m    str1='hai\u001b[0m\n\u001b[1;37m         ^\u001b[0m\n\u001b[1;31mSyntaxError\u001b[0m\u001b[1;31m:\u001b[0m unterminated string literal (detected at line 1)\n"
     ]
    }
   ],
   "source": [
    "str1='hai\n",
    "    how are you\n",
    "    im good'"
   ]
  },
  {
   "cell_type": "code",
   "execution_count": 42,
   "id": "fb8d55e9-f734-4758-8c30-30917ab23c70",
   "metadata": {},
   "outputs": [
    {
     "ename": "SyntaxError",
     "evalue": "unterminated string literal (detected at line 1) (3167671635.py, line 1)",
     "output_type": "error",
     "traceback": [
      "\u001b[1;36m  Cell \u001b[1;32mIn[42], line 1\u001b[1;36m\u001b[0m\n\u001b[1;33m    str1=\"hai\u001b[0m\n\u001b[1;37m         ^\u001b[0m\n\u001b[1;31mSyntaxError\u001b[0m\u001b[1;31m:\u001b[0m unterminated string literal (detected at line 1)\n"
     ]
    }
   ],
   "source": [
    "str1=\"hai\n",
    "    how are you\n",
    "    im good\""
   ]
  },
  {
   "cell_type": "code",
   "execution_count": 44,
   "id": "91250755-2248-4331-8fd1-41052fa7cfb2",
   "metadata": {},
   "outputs": [
    {
     "data": {
      "text/plain": [
       "'hai\\n    how are you\\n    im good'"
      ]
     },
     "execution_count": 44,
     "metadata": {},
     "output_type": "execute_result"
    }
   ],
   "source": [
    "str1=\"\"\"hai\n",
    "    how are you\n",
    "    im good\"\"\"\n",
    "str1"
   ]
  },
  {
   "cell_type": "code",
   "execution_count": 45,
   "id": "ecd1cec4-0e10-446a-bae4-4aae7f0fe1dc",
   "metadata": {},
   "outputs": [
    {
     "name": "stdout",
     "output_type": "stream",
     "text": [
      "hai\n",
      "    how are you\n",
      "    im good\n"
     ]
    }
   ],
   "source": [
    "print(str1)"
   ]
  },
  {
   "cell_type": "markdown",
   "id": "48f54906-5278-4648-8f60-ce6e78fb065d",
   "metadata": {},
   "source": [
    "- Triple quoutes is used for write a multiline comments\n",
    "\n",
    "- This is called as **Docstring**\n",
    "\n",
    "- In order to write a story in jupyter notebook we have a markdowm\n",
    "\n",
    "- But other platforms like VScode , Pycharm we dont have a markdown\n",
    "\n",
    "- Then how can we write a story: By using Triple quoutes\n",
    "\n",
    "- If any person writing some thing using triple quotes , which indicates\n",
    "\n",
    "   the user is trying to convey the information\n",
    "\n",
    "- This is process called as Docstring"
   ]
  },
  {
   "cell_type": "markdown",
   "id": "ecd3aac7-01b1-4217-840b-b328bf6ba237",
   "metadata": {},
   "source": [
    "Sir how to execute the text cell can you please tell me the shortcut key\n",
    "\n",
    "esc+m\n",
    "\n",
    "shift+enter"
   ]
  },
  {
   "cell_type": "markdown",
   "id": "1c051cc0-ff56-4e2d-97d9-c44176035d39",
   "metadata": {},
   "source": [
    "**Boolean**"
   ]
  },
  {
   "cell_type": "markdown",
   "id": "5f2f719f-1d6a-4e2f-841c-886631b42bee",
   "metadata": {},
   "source": [
    "- Computer takes the values in Binary Format (1,0)\n",
    "\n",
    "- Computer Gives the answer in Boolean format \n",
    "\n",
    "    - True \n",
    "\n",
    "    - False\n",
    "\n",
    "- True Indicates 1\n",
    "\n",
    "- False indicates 0"
   ]
  },
  {
   "cell_type": "code",
   "execution_count": 46,
   "id": "ae081d26-a45d-4407-8b80-398f0cef8688",
   "metadata": {},
   "outputs": [
    {
     "data": {
      "text/plain": [
       "bool"
      ]
     },
     "execution_count": 46,
     "metadata": {},
     "output_type": "execute_result"
    }
   ],
   "source": [
    "val=True\n",
    "type(val)"
   ]
  },
  {
   "cell_type": "code",
   "execution_count": 47,
   "id": "be9c0f79-1083-4fef-be99-709e64abf36b",
   "metadata": {},
   "outputs": [
    {
     "data": {
      "text/plain": [
       "bool"
      ]
     },
     "execution_count": 47,
     "metadata": {},
     "output_type": "execute_result"
    }
   ],
   "source": [
    "val1=False\n",
    "type(val1)"
   ]
  },
  {
   "cell_type": "code",
   "execution_count": null,
   "id": "faab5c13-bb97-4c3c-a36c-fe4331840f5c",
   "metadata": {},
   "outputs": [],
   "source": [
    "Sir Boolean is case sensitive or not \n",
    "\n",
    "True\n",
    "TRUE\n",
    "true"
   ]
  },
  {
   "cell_type": "code",
   "execution_count": 48,
   "id": "f130b785-ff58-4acc-8e44-c70292af27a5",
   "metadata": {},
   "outputs": [
    {
     "data": {
      "text/plain": [
       "('True', True)"
      ]
     },
     "execution_count": 48,
     "metadata": {},
     "output_type": "execute_result"
    }
   ],
   "source": [
    "true='True'\n",
    "TRUE=True\n",
    "\n",
    "true, TRUE # two are variables"
   ]
  },
  {
   "cell_type": "code",
   "execution_count": 49,
   "id": "cec21530-ea98-47eb-bf8c-3195014d82bb",
   "metadata": {},
   "outputs": [
    {
     "data": {
      "text/plain": [
       "(str, bool)"
      ]
     },
     "execution_count": 49,
     "metadata": {},
     "output_type": "execute_result"
    }
   ],
   "source": [
    "type(true), type(TRUE)"
   ]
  },
  {
   "cell_type": "code",
   "execution_count": null,
   "id": "672385de-92c4-4212-91b9-6440d422edbf",
   "metadata": {},
   "outputs": [],
   "source": [
    "a=10\n",
    "b=10.5\n",
    "c='10'\n",
    "d=True"
   ]
  }
 ],
 "metadata": {
  "kernelspec": {
   "display_name": "Python 3 (ipykernel)",
   "language": "python",
   "name": "python3"
  },
  "language_info": {
   "codemirror_mode": {
    "name": "ipython",
    "version": 3
   },
   "file_extension": ".py",
   "mimetype": "text/x-python",
   "name": "python",
   "nbconvert_exporter": "python",
   "pygments_lexer": "ipython3",
   "version": "3.11.7"
  }
 },
 "nbformat": 4,
 "nbformat_minor": 5
}
