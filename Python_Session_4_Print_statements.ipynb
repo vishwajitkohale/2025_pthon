{
 "cells": [
  {
   "cell_type": "markdown",
   "id": "a9e5417e-6999-4022-aa54-c4e9dde0d8a6",
   "metadata": {},
   "source": [
    "**print statments**"
   ]
  },
  {
   "cell_type": "markdown",
   "id": "cbde97a0-3e5a-4db0-90f3-a6ed1990145f",
   "metadata": {},
   "source": [
    "- print is a inbulit function , to see the answers\n",
    "\n",
    "- In Jupyter notebook we can see latest value with out using print\n",
    "\n",
    "- If you want to see all the values we need to use print\n",
    "\n",
    "- In VScode , pycharm there is no markdown option\n",
    "\n",
    "- If you want to see any answer, we need to use print statement"
   ]
  },
  {
   "cell_type": "code",
   "execution_count": 1,
   "id": "094fffce-55a6-477a-9bf1-03e36228fe60",
   "metadata": {},
   "outputs": [
    {
     "data": {
      "text/plain": [
       "200"
      ]
     },
     "execution_count": 1,
     "metadata": {},
     "output_type": "execute_result"
    }
   ],
   "source": [
    "num1=100\n",
    "num2=200\n",
    "num1\n",
    "num2"
   ]
  },
  {
   "cell_type": "code",
   "execution_count": 2,
   "id": "3b41dc1c-f5fa-4d3f-a639-f918d581f8ee",
   "metadata": {},
   "outputs": [
    {
     "name": "stdout",
     "output_type": "stream",
     "text": [
      "100\n",
      "200\n"
     ]
    }
   ],
   "source": [
    "num1=100\n",
    "num2=200\n",
    "print(num1)\n",
    "print(num2)"
   ]
  },
  {
   "cell_type": "code",
   "execution_count": 5,
   "id": "3de85013-6f39-4d65-9358-26b669432837",
   "metadata": {},
   "outputs": [
    {
     "name": "stdout",
     "output_type": "stream",
     "text": [
      "100 200\n",
      "10 20 30\n",
      "hello\n",
      "hello bye\n",
      "hello bye 100 200 10 20\n"
     ]
    }
   ],
   "source": [
    "num1=100\n",
    "num2=200\n",
    "print(num1,num2)\n",
    "print(10,20,30)\n",
    "print('hello')\n",
    "print('hello','bye')\n",
    "print('hello','bye',num1,num2,10,20)"
   ]
  },
  {
   "cell_type": "code",
   "execution_count": 8,
   "id": "8b1098ac-ca47-4af0-b310-77c0bc8d1141",
   "metadata": {},
   "outputs": [
    {
     "name": "stdout",
     "output_type": "stream",
     "text": [
      "hello\n"
     ]
    }
   ],
   "source": [
    "str1=\"hello\"\n",
    "print(str1)"
   ]
  },
  {
   "cell_type": "code",
   "execution_count": 10,
   "id": "54b61e8f-775c-42d0-9493-0132c8c86eb0",
   "metadata": {},
   "outputs": [
    {
     "ename": "SyntaxError",
     "evalue": "expected ':' (3113249734.py, line 1)",
     "output_type": "error",
     "traceback": [
      "\u001b[1;36m  Cell \u001b[1;32mIn[10], line 1\u001b[1;36m\u001b[0m\n\u001b[1;33m    if True\u001b[0m\n\u001b[1;37m           ^\u001b[0m\n\u001b[1;31mSyntaxError\u001b[0m\u001b[1;31m:\u001b[0m expected ':'\n"
     ]
    }
   ],
   "source": [
    "if True:\n",
    "    print(10)"
   ]
  },
  {
   "cell_type": "code",
   "execution_count": 19,
   "id": "b6e0c088-08b1-4d13-b147-ceb88aa46b93",
   "metadata": {},
   "outputs": [
    {
     "name": "stdout",
     "output_type": "stream",
     "text": [
      "The addition of 10 and 20 is 30\n",
      "The addition of a and b is c\n",
      "The addition of 10 and 20 is 30\n"
     ]
    }
   ],
   "source": [
    "a=10\n",
    "b=20\n",
    "c=a+b\n",
    "c\n",
    "# The addition of 10 and 20 is 30\n",
    "print(\"The addition of 10 and 20 is 30\")\n",
    "print(\"The addition of a and b is c\")\n",
    "print(\"The addition of\",a,'and',b,'is',c)"
   ]
  },
  {
   "cell_type": "code",
   "execution_count": 29,
   "id": "ed10aeca-b881-4b53-83ba-04d60cc3ac30",
   "metadata": {},
   "outputs": [
    {
     "name": "stdout",
     "output_type": "stream",
     "text": [
      "The addition of 10 and 20 is 30\n",
      "The addition of a and b is c\n",
      "The addition of 100 and 200 is 300\n"
     ]
    }
   ],
   "source": [
    "a=100\n",
    "b=200\n",
    "c=a+b\n",
    "c\n",
    "# The addition of 10 and 20 is 30\n",
    "print(\"The addition of 10 and 20 is 30\")\n",
    "print(\"The addition of a and b is c\")\n",
    "print(\"The addition of\",a,\"and\",b,'is',c)"
   ]
  },
  {
   "cell_type": "code",
   "execution_count": 34,
   "id": "48b9a68f-8b5d-4818-81d0-2de2005572ef",
   "metadata": {},
   "outputs": [
    {
     "name": "stdout",
     "output_type": "stream",
     "text": [
      "My name is python, Im 10 years old and I came from Hyd\n",
      "My name is python , Im 10 years old and I came from Hyd\n"
     ]
    }
   ],
   "source": [
    "#Name='python'\n",
    "#Age='10'\n",
    "#City='Hyd'\n",
    "# My name is Python , Im 10 years old and came from Hyd\n",
    "name='python'\n",
    "age=10\n",
    "city='Hyd'\n",
    "print(\"My name is python, Im 10 years old and I came from Hyd\")\n",
    "print(\"My name is\", name,',',\"Im\", age, \"years old and I came from\",city)"
   ]
  },
  {
   "cell_type": "markdown",
   "id": "0ac7cf3f-5cdf-464c-98e9-6cc07943765e",
   "metadata": {},
   "source": [
    "**Format method**"
   ]
  },
  {
   "cell_type": "code",
   "execution_count": 37,
   "id": "b7d0fdce-6f4f-4920-9a39-522bebaa645f",
   "metadata": {},
   "outputs": [
    {
     "name": "stdout",
     "output_type": "stream",
     "text": [
      "The addition of 10,20 is 30\n",
      "The addition of {},{} is {}\n",
      "The addition of 10,20 is 30\n"
     ]
    }
   ],
   "source": [
    "a=10\n",
    "b=20\n",
    "c=a+b\n",
    "# How you want to write the print\n",
    "# the addition of 10, 20 is 30\n",
    "print(\"The addition of 10,20 is 30\")\n",
    "print(\"The addition of {},{} is {}\")\n",
    "print(\"The addition of {},{} is {}\".format(a,b,c))"
   ]
  },
  {
   "cell_type": "code",
   "execution_count": 41,
   "id": "ba4b04d0-9c3f-4e06-af12-520e973ac337",
   "metadata": {},
   "outputs": [
    {
     "name": "stdout",
     "output_type": "stream",
     "text": [
      "My name is python, Im 10 years old and I came from Hyd\n",
      "My name is python, Im 10 years old and I came from Hyd\n",
      "My name is Hyd, Im 10 years old and I came from python\n"
     ]
    }
   ],
   "source": [
    "name='python'\n",
    "age=10\n",
    "city='Hyd'\n",
    "print(\"My name is python, Im 10 years old and I came from Hyd\")\n",
    "print(\"My name is {}, Im {} years old and I came from {}\".format(name,age,city))\n",
    "print(\"My name is {}, Im {} years old and I came from {}\".format(city,age,name))"
   ]
  },
  {
   "cell_type": "code",
   "execution_count": null,
   "id": "7530609f-64a1-4524-be71-d41e852ba306",
   "metadata": {},
   "outputs": [],
   "source": [
    "# Take two number\n",
    "# add\n",
    "# mul\n",
    "# sub\n",
    "# div\n",
    "# n1=<number one>\n",
    "# n2=<number two>\n",
    "# add=<>\n",
    "# sub=<>\n",
    "# mul=<>\n",
    "# div=<>\n",
    "# The addition of n1 and n2 is add\n",
    "# The subtraction of n1 and n2 is sub"
   ]
  },
  {
   "cell_type": "code",
   "execution_count": 42,
   "id": "3119178e-4f2f-4b84-badb-92b747c9a109",
   "metadata": {},
   "outputs": [
    {
     "name": "stdout",
     "output_type": "stream",
     "text": [
      "The addition of 100 and 200 is 300\n",
      "The subtraction of 100 and 200 is -100\n",
      "The multuplication of 100 and 200 is 20000\n",
      "The division of 100 and 200 is 0.5\n"
     ]
    }
   ],
   "source": [
    "n1=100\n",
    "n2=200\n",
    "add=n1+n2\n",
    "sub=n1-n2\n",
    "mul=n1*n2\n",
    "div=n1/n2\n",
    "\n",
    "print(\"The addition of {} and {} is {}\".format(n1,n2,add))\n",
    "print(\"The subtraction of {} and {} is {}\".format(n1,n2,sub))\n",
    "print(\"The multuplication of {} and {} is {}\".format(n1,n2,mul))\n",
    "print(\"The division of {} and {} is {}\".format(n1,n2,div))\n"
   ]
  },
  {
   "cell_type": "markdown",
   "id": "859760f0-5d7e-443d-8e9c-afeb54eda056",
   "metadata": {},
   "source": [
    "**F-string method**"
   ]
  },
  {
   "cell_type": "code",
   "execution_count": 50,
   "id": "eba171aa-b8ce-4d79-8e8c-c54b73474ee6",
   "metadata": {},
   "outputs": [
    {
     "name": "stdout",
     "output_type": "stream",
     "text": [
      "The addition of 10,20 is 30\n",
      "The addition of {},{} is {}\n",
      "The addition of {a},{b} is {c}\n",
      "The addition of 10,20 is 30\n"
     ]
    }
   ],
   "source": [
    "a=10\n",
    "b=20\n",
    "c=a+b\n",
    "# How you want to write the print\n",
    "# the addition of 10, 20 is 30\n",
    "print(\"The addition of 10,20 is 30\")\n",
    "print(\"The addition of {},{} is {}\")\n",
    "print(\"The addition of {a},{b} is {c}\")\n",
    "print(f\"The addition of {a},{b} is {c}\")"
   ]
  },
  {
   "cell_type": "code",
   "execution_count": 52,
   "id": "8f5673c5-376c-49c7-ad71-d1458f4a47a1",
   "metadata": {},
   "outputs": [
    {
     "name": "stdout",
     "output_type": "stream",
     "text": [
      "My name is python, Im 10 years old and I came from Hyd\n",
      "My name is python , Im 10 years old and I came from Hyd\n",
      "My name is python, Im 10 years old and I came from Hyd\n",
      "My name is python, Im 10 years old and I came from Hyd\n"
     ]
    }
   ],
   "source": [
    "name='python'\n",
    "age=10\n",
    "city='Hyd'\n",
    "print(\"My name is python, Im 10 years old and I came from Hyd\")\n",
    "print(\"My name is\", name,',',\"Im\", age, \"years old and I came from\",city)\n",
    "print(\"My name is {}, Im {} years old and I came from {}\".format(name,age,city))\n",
    "print(f\"My name is {name}, Im {age} years old and I came from {city}\")\n"
   ]
  },
  {
   "cell_type": "code",
   "execution_count": 53,
   "id": "ab0c2934-8042-43cc-8880-c5cd07f51b13",
   "metadata": {},
   "outputs": [
    {
     "name": "stdout",
     "output_type": "stream",
     "text": [
      "The addition of 100 and 200 is 300\n",
      "The subtraction of 100 and 200 is -100\n",
      "The multuplication of 100 and 200 is 20000\n",
      "The division of 100 and 200 is 0.5\n"
     ]
    }
   ],
   "source": [
    "n1=100\n",
    "n2=200\n",
    "add=n1+n2\n",
    "sub=n1-n2\n",
    "mul=n1*n2\n",
    "div=n1/n2\n",
    "\n",
    "print(f\"The addition of {n1} and {n2} is {add}\")\n",
    "print(f\"The subtraction of {n1} and {n2} is {sub}\")\n",
    "print(f\"The multuplication of {n1} and {n2} is {mul}\")\n",
    "print(f\"The division of {n1} and {n2} is {div}\")\n",
    "# The addition is add,The subtraction is sub,The multiplication mul, the division is div"
   ]
  },
  {
   "cell_type": "code",
   "execution_count": 54,
   "id": "6d34b5ba-8091-4515-b6bd-de898da392b4",
   "metadata": {},
   "outputs": [
    {
     "name": "stdout",
     "output_type": "stream",
     "text": [
      "The addition is 300,The subtraction is -100,The multiplication 20000, the division is 0.5\n"
     ]
    }
   ],
   "source": [
    "print(f\"The addition is {add},The subtraction is {sub},The multiplication {mul}, the division is {div}\")"
   ]
  },
  {
   "cell_type": "markdown",
   "id": "30ca025e-891d-415e-90ab-48c27771efb9",
   "metadata": {},
   "source": [
    "**end**"
   ]
  },
  {
   "cell_type": "code",
   "execution_count": 55,
   "id": "12be2eb5-659a-46c3-acb3-7068bbd75dd0",
   "metadata": {},
   "outputs": [
    {
     "name": "stdout",
     "output_type": "stream",
     "text": [
      "10\n",
      "20\n"
     ]
    }
   ],
   "source": [
    "print(10)\n",
    "print(20)\n",
    "\n",
    "# Using two print statements \n",
    "# we need to write 10,20"
   ]
  },
  {
   "cell_type": "code",
   "execution_count": 56,
   "id": "98dc42af-fb97-449b-a44c-a4cb89165419",
   "metadata": {},
   "outputs": [
    {
     "name": "stdout",
     "output_type": "stream",
     "text": [
      "10 20\n"
     ]
    }
   ],
   "source": [
    "print(10,20)"
   ]
  },
  {
   "cell_type": "code",
   "execution_count": 64,
   "id": "61dd900c-05c3-4108-b688-e49152289ebc",
   "metadata": {},
   "outputs": [
    {
     "name": "stdout",
     "output_type": "stream",
     "text": [
      "1020\n"
     ]
    }
   ],
   "source": [
    "print(10,end='')\n",
    "print(20)"
   ]
  },
  {
   "cell_type": "code",
   "execution_count": 65,
   "id": "a7d7ecb5-f855-44f8-9a1f-49699b3057d4",
   "metadata": {},
   "outputs": [
    {
     "name": "stdout",
     "output_type": "stream",
     "text": [
      "10-->20\n"
     ]
    }
   ],
   "source": [
    "print(10,end='-->')\n",
    "print(20)"
   ]
  },
  {
   "cell_type": "code",
   "execution_count": 69,
   "id": "1b4041ce-0659-40f1-a203-f0eee79003da",
   "metadata": {},
   "outputs": [
    {
     "name": "stdout",
     "output_type": "stream",
     "text": [
      "10-->20-->30\n"
     ]
    }
   ],
   "source": [
    "print(10,end='-->')\n",
    "print(20,end='-->')\n",
    "print(30)"
   ]
  },
  {
   "cell_type": "markdown",
   "id": "af831330-2872-445c-8d96-b56cbcf7b3ff",
   "metadata": {},
   "source": [
    "**Sep**"
   ]
  },
  {
   "cell_type": "code",
   "execution_count": 76,
   "id": "40cda2d6-cd9b-43ff-a689-b7eb1dcddd32",
   "metadata": {},
   "outputs": [
    {
     "name": "stdout",
     "output_type": "stream",
     "text": [
      "10-->20-->30\n",
      "10*20*30\n"
     ]
    }
   ],
   "source": [
    "# using one print statement\n",
    "# 10-->20-->30\n",
    "# print(10,'-->',20,'-->')\n",
    "\n",
    "# Sepearting the all values inside print statements\n",
    "print(10,20,30,sep='-->')\n",
    "print(10,20,30,sep='*')"
   ]
  },
  {
   "cell_type": "code",
   "execution_count": 78,
   "id": "89352269-98d4-410b-a7a6-0f03f4599b8a",
   "metadata": {},
   "outputs": [
    {
     "name": "stdout",
     "output_type": "stream",
     "text": [
      "10+20=30.\n"
     ]
    }
   ],
   "source": [
    "# 10+20=30\n",
    "print(10,end='+')\n",
    "print(20,end='=')\n",
    "print(30,'.',sep='')"
   ]
  },
  {
   "cell_type": "code",
   "execution_count": 80,
   "id": "76aa108d-6f80-4042-b73f-baa0abaa4031",
   "metadata": {},
   "outputs": [
    {
     "name": "stdout",
     "output_type": "stream",
     "text": [
      "10+20=30\n"
     ]
    }
   ],
   "source": [
    "print(10,20,sep='+',end='=')\n",
    "print(30)"
   ]
  },
  {
   "cell_type": "markdown",
   "id": "96612587-90c5-434b-8f4c-ef32af66c533",
   "metadata": {},
   "source": [
    "- Format method\n",
    "\n",
    "- F string method\n",
    "\n",
    "- sep\n",
    "\n",
    "- end \n"
   ]
  },
  {
   "cell_type": "code",
   "execution_count": 84,
   "id": "4f2aa490-3e34-417d-8f00-1bdb5735c60a",
   "metadata": {},
   "outputs": [
    {
     "name": "stdout",
     "output_type": "stream",
     "text": [
      "my name is vicky\n",
      "my name is vicky\n"
     ]
    }
   ],
   "source": [
    "name='vicky'\n",
    "print(\"my name is vicky\")\n",
    "print(\"my name is {}\".format(name))"
   ]
  },
  {
   "cell_type": "code",
   "execution_count": 85,
   "id": "eb2d99cb-2d33-4b07-8585-84e40af29d4a",
   "metadata": {},
   "outputs": [
    {
     "name": "stdout",
     "output_type": "stream",
     "text": [
      "10 20\n"
     ]
    }
   ],
   "source": [
    "# Sepearting the all values inside print statement\n",
    "# end will join the multiple print statement values\n",
    "print(10,end=' ')\n",
    "print(20)"
   ]
  },
  {
   "cell_type": "code",
   "execution_count": 87,
   "id": "941a3d45-0ee7-446f-b9cf-7b0af415c1b0",
   "metadata": {},
   "outputs": [
    {
     "name": "stdout",
     "output_type": "stream",
     "text": [
      "10Vicky20\n"
     ]
    }
   ],
   "source": [
    "print(10,20,sep='Vicky')"
   ]
  },
  {
   "cell_type": "code",
   "execution_count": null,
   "id": "31dddd95-4c23-4346-bdd5-9c2414ac35d5",
   "metadata": {},
   "outputs": [],
   "source": []
  }
 ],
 "metadata": {
  "kernelspec": {
   "display_name": "Python 3 (ipykernel)",
   "language": "python",
   "name": "python3"
  },
  "language_info": {
   "codemirror_mode": {
    "name": "ipython",
    "version": 3
   },
   "file_extension": ".py",
   "mimetype": "text/x-python",
   "name": "python",
   "nbconvert_exporter": "python",
   "pygments_lexer": "ipython3",
   "version": "3.11.7"
  }
 },
 "nbformat": 4,
 "nbformat_minor": 5
}
