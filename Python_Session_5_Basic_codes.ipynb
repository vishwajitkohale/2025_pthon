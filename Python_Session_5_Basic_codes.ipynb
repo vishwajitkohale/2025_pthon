{
 "cells": [
  {
   "cell_type": "code",
   "execution_count": 2,
   "id": "c591f7cd-40bc-4135-9242-7c79b2873c79",
   "metadata": {},
   "outputs": [
    {
     "ename": "AttributeError",
     "evalue": "'str' object has no attribute 'Format'",
     "output_type": "error",
     "traceback": [
      "\u001b[1;31m---------------------------------------------------------------------------\u001b[0m",
      "\u001b[1;31mAttributeError\u001b[0m                            Traceback (most recent call last)",
      "Cell \u001b[1;32mIn[2], line 1\u001b[0m\n\u001b[1;32m----> 1\u001b[0m \u001b[38;5;28mprint\u001b[39m(\u001b[38;5;124m\"\u001b[39m\u001b[38;5;124mthe addition of \u001b[39m\u001b[38;5;132;01m{}\u001b[39;00m\u001b[38;5;124m and \u001b[39m\u001b[38;5;132;01m{}\u001b[39;00m\u001b[38;5;124m is \u001b[39m\u001b[38;5;132;01m{}\u001b[39;00m\u001b[38;5;124m\"\u001b[39m\u001b[38;5;241m.\u001b[39mFormat(\u001b[38;5;241m10\u001b[39m,\u001b[38;5;241m20\u001b[39m,\u001b[38;5;241m30\u001b[39m))\n",
      "\u001b[1;31mAttributeError\u001b[0m: 'str' object has no attribute 'Format'"
     ]
    }
   ],
   "source": [
    "print(\"the addition of {} and {} is {}\".Format(10,20,30))"
   ]
  },
  {
   "cell_type": "code",
   "execution_count": 3,
   "id": "15bc9375-c7d0-47c0-9b3d-147bfc27a854",
   "metadata": {},
   "outputs": [
    {
     "ename": "AttributeError",
     "evalue": "'str' object has no attribute 'formate'",
     "output_type": "error",
     "traceback": [
      "\u001b[1;31m---------------------------------------------------------------------------\u001b[0m",
      "\u001b[1;31mAttributeError\u001b[0m                            Traceback (most recent call last)",
      "Cell \u001b[1;32mIn[3], line 1\u001b[0m\n\u001b[1;32m----> 1\u001b[0m \u001b[38;5;28mprint\u001b[39m(\u001b[38;5;124m\"\u001b[39m\u001b[38;5;124mthe addition of \u001b[39m\u001b[38;5;132;01m{}\u001b[39;00m\u001b[38;5;124m and \u001b[39m\u001b[38;5;132;01m{}\u001b[39;00m\u001b[38;5;124m is \u001b[39m\u001b[38;5;132;01m{}\u001b[39;00m\u001b[38;5;124m\"\u001b[39m\u001b[38;5;241m.\u001b[39mformate(\u001b[38;5;241m10\u001b[39m,\u001b[38;5;241m20\u001b[39m,\u001b[38;5;241m30\u001b[39m))\n",
      "\u001b[1;31mAttributeError\u001b[0m: 'str' object has no attribute 'formate'"
     ]
    }
   ],
   "source": [
    "print(\"the addition of {} and {} is {}\".formate(10,20,30))"
   ]
  },
  {
   "cell_type": "code",
   "execution_count": 4,
   "id": "2ddb3ce5-d746-4000-ae7c-996f8f5fdcd4",
   "metadata": {},
   "outputs": [
    {
     "ename": "SyntaxError",
     "evalue": "unterminated string literal (detected at line 1) (2486463625.py, line 1)",
     "output_type": "error",
     "traceback": [
      "\u001b[1;36m  Cell \u001b[1;32mIn[4], line 1\u001b[1;36m\u001b[0m\n\u001b[1;33m    print(\"the addition of {} and {} is {}.Format(10,20,30))\u001b[0m\n\u001b[1;37m          ^\u001b[0m\n\u001b[1;31mSyntaxError\u001b[0m\u001b[1;31m:\u001b[0m unterminated string literal (detected at line 1)\n"
     ]
    }
   ],
   "source": [
    "print(\"the addition of {} and {} is {}.Format(10,20,30))"
   ]
  },
  {
   "cell_type": "markdown",
   "id": "69ac6f94-ee9b-43b4-8e42-16531401d19b",
   "metadata": {},
   "source": [
    "- Variables\n",
    "\n",
    "- Data types\n",
    "\n",
    "- Type casting\n",
    "\n",
    "- print"
   ]
  },
  {
   "cell_type": "code",
   "execution_count": 6,
   "id": "1e3af835-1e12-4d71-bb91-d0c5b22fc34a",
   "metadata": {},
   "outputs": [
    {
     "name": "stdout",
     "output_type": "stream",
     "text": [
      "The average of 10,20 and 30 is 20.0\n",
      "The average of 10,20 and 30 is 20.0\n"
     ]
    }
   ],
   "source": [
    "# Q1) WAP ask the user take 3 numbers find the average\n",
    "# the average of num1, num2 and num3 is avg  using f string and format method\n",
    "# idea\n",
    "# n1=\n",
    "# n2=\n",
    "# n3=\n",
    "# avg=(n1+n2+n3)/3\n",
    "# print using format\n",
    "# print using f string\n",
    "\n",
    "n1=10\n",
    "n2=20\n",
    "n3=30\n",
    "avg=(10+20+30)/3\n",
    "print(f\"The average of {n1},{n2} and {n3} is {avg}\")\n",
    "print(\"The average of {},{} and {} is {}\".format(n1,n2,n3,avg))"
   ]
  },
  {
   "cell_type": "code",
   "execution_count": 8,
   "id": "65b2ce45-30f6-440a-b032-eae62eb11da4",
   "metadata": {},
   "outputs": [
    {
     "data": {
      "text/plain": [
       "40.333333333333336"
      ]
     },
     "execution_count": 8,
     "metadata": {},
     "output_type": "execute_result"
    }
   ],
   "source": [
    "(25+35+61)/3"
   ]
  },
  {
   "cell_type": "markdown",
   "id": "f16fd36f-130d-497c-96f8-7f6c4b748461",
   "metadata": {},
   "source": [
    "**round**"
   ]
  },
  {
   "cell_type": "code",
   "execution_count": 9,
   "id": "a634322f-7bfc-4d7a-abdd-ea0bc5d5f086",
   "metadata": {},
   "outputs": [
    {
     "data": {
      "text/plain": [
       "41"
      ]
     },
     "execution_count": 9,
     "metadata": {},
     "output_type": "execute_result"
    }
   ],
   "source": [
    "round(40.5678)\n",
    "# You did not provided  any decimal"
   ]
  },
  {
   "cell_type": "code",
   "execution_count": 19,
   "id": "32f54bff-f690-491e-a398-5167ca90df77",
   "metadata": {},
   "outputs": [
    {
     "data": {
      "text/plain": [
       "34.77"
      ]
     },
     "execution_count": 19,
     "metadata": {},
     "output_type": "execute_result"
    }
   ],
   "source": [
    "round(40.5678,1)\n",
    "# 34.7  marks fail  35\n",
    "# 34.765    fail  35\n",
    "round(34.765,2)\n",
    "\n",
    "# after point provide only 1 value : 34.765 === 34.8\n",
    "# after point provide only 2 values\" 34.77"
   ]
  },
  {
   "cell_type": "code",
   "execution_count": 11,
   "id": "56c97169-a389-4b95-8666-d2bb6de0bc8b",
   "metadata": {},
   "outputs": [
    {
     "data": {
      "text/plain": [
       "40.57"
      ]
     },
     "execution_count": 11,
     "metadata": {},
     "output_type": "execute_result"
    }
   ],
   "source": [
    "round(40.5678,2)"
   ]
  },
  {
   "cell_type": "code",
   "execution_count": 21,
   "id": "1f39323b-9a99-4783-b5ad-5a9355dd9b27",
   "metadata": {},
   "outputs": [
    {
     "data": {
      "text/plain": [
       "42"
      ]
     },
     "execution_count": 21,
     "metadata": {},
     "output_type": "execute_result"
    }
   ],
   "source": [
    "round(41.63456789)"
   ]
  },
  {
   "cell_type": "code",
   "execution_count": 22,
   "id": "cba55a7d-d69c-4a46-a803-80f3768fdabe",
   "metadata": {},
   "outputs": [
    {
     "data": {
      "text/plain": [
       "41.6"
      ]
     },
     "execution_count": 22,
     "metadata": {},
     "output_type": "execute_result"
    }
   ],
   "source": [
    "round(41.63456789,1)  # 41.<6>"
   ]
  },
  {
   "cell_type": "code",
   "execution_count": 23,
   "id": "459c9022-db1d-4edf-b7f4-bcf4fe80b0c1",
   "metadata": {},
   "outputs": [
    {
     "data": {
      "text/plain": [
       "41.7"
      ]
     },
     "execution_count": 23,
     "metadata": {},
     "output_type": "execute_result"
    }
   ],
   "source": [
    "round(41.67456789,1)"
   ]
  },
  {
   "cell_type": "code",
   "execution_count": null,
   "id": "061bbdf5-4ffe-4b53-88ad-ecf3f65c4f8d",
   "metadata": {},
   "outputs": [],
   "source": [
    "n1=10\n",
    "n2=20\n",
    "n3=30\n",
    "avg=(10+20+30)/3\n",
    "avg1=round(avg,2)\n",
    "print(f\"The average of {n1},{n2} and {n3} is {avg1}\")\n",
    "print(\"The average of {},{} and {} is {}\".format(n1,n2,n3,avg1))"
   ]
  },
  {
   "cell_type": "code",
   "execution_count": null,
   "id": "216952b7-564e-4ef5-86e2-97a5636190c5",
   "metadata": {},
   "outputs": [],
   "source": [
    "n1=10\n",
    "n2=20\n",
    "n3=30\n",
    "avg=round((10+20+30)/3,2)\n",
    "print(f\"The average of {n1},{n2} and {n3} is {avg}\")\n",
    "print(\"The average of {},{} and {} is {}\".format(n1,n2,n3,avg))"
   ]
  },
  {
   "cell_type": "code",
   "execution_count": 24,
   "id": "36c60b1e-d9fe-41a0-b996-474aad36d131",
   "metadata": {},
   "outputs": [
    {
     "data": {
      "text/plain": [
       "20.0"
      ]
     },
     "execution_count": 24,
     "metadata": {},
     "output_type": "execute_result"
    }
   ],
   "source": [
    "avg=round((10+20+30)/3,2)\n",
    "avg\n",
    "\n",
    "avg=(10+20+30)/3\n",
    "avg1=round(avg,2)"
   ]
  },
  {
   "cell_type": "code",
   "execution_count": null,
   "id": "5e246d0e-8a74-46b7-a267-9ad80824a209",
   "metadata": {},
   "outputs": [],
   "source": [
    "can we put as round(40.34567,10)?"
   ]
  },
  {
   "cell_type": "code",
   "execution_count": 30,
   "id": "07e96083-6050-4e37-a847-4b31444f5529",
   "metadata": {},
   "outputs": [
    {
     "name": "stdout",
     "output_type": "stream",
     "text": [
      "================= AREA OF RIGHT ANGLE TRAINGLE===================\n",
      "The area of a right angle traingle having 30,40 is 600.0\n",
      "The area of a right angle traingle having 30,40 is 600.0\n",
      "================= AREA OF Circle===================\n",
      "The area of circle having 20 is 1256.0\n",
      "The area of a circle having 20 is 1256.0\n",
      "================= AREA OF THE RECTANGLE===================\n",
      "The area of the rectangle  having 40,30 is 1200\n",
      "The area of the rectangle having 40,30 is 1200\n"
     ]
    }
   ],
   "source": [
    "#Q2) WAP ask the user take height of the traingle\n",
    "#                       breadth of the traingle\n",
    "# calculate the area  of the right angle traingle\n",
    "# Formual: 1/2*b*h\n",
    "\n",
    "print(\"================= AREA OF RIGHT ANGLE TRAINGLE===================\")\n",
    "breadth=30\n",
    "height=40\n",
    "area=0.5*breadth*height  \n",
    "print(f\"The area of a right angle traingle having {breadth},{height} is {area}\")\n",
    "print(\"The area of a right angle traingle having {},{} is {}\".format(breadth,height,area))\n",
    "\n",
    "#######################################################################################################\n",
    "#Q3) Wap ask the user take the radius of circle\n",
    "#    calculate the area of the circle\n",
    "# Formula: pi*r*r  where pi=3.14\n",
    "print(\"================= AREA OF Circle===================\")\n",
    "radius= 20\n",
    "pi=3.14\n",
    "area=pi*radius*radius\n",
    "print(f\"The area of circle having {radius} is {area}\")\n",
    "print(\"The area of a circle having {} is {}\".format(radius,area))\n",
    "##########################################################################################################\n",
    "#Q4) wap ask the user take the length and breadth\n",
    "#    calculate area of the rectangle\n",
    "# Formulae:  lenghth * breadth\n",
    "print(\"================= AREA OF THE RECTANGLE===================\")\n",
    "length=30\n",
    "breadth=40\n",
    "area=length*breadth  \n",
    "print(f\"The area of the rectangle  having {breadth},{length} is {area}\")\n",
    "print(\"The area of the rectangle having {},{} is {}\".format(breadth,length,area))"
   ]
  },
  {
   "cell_type": "code",
   "execution_count": 31,
   "id": "0334319c-a55c-41d3-8c81-32c593f9892f",
   "metadata": {},
   "outputs": [
    {
     "name": "stdout",
     "output_type": "stream",
     "text": [
      "The total bill is : 1100.0\n"
     ]
    }
   ],
   "source": [
    "#Q5) Wap ask the how much bill he wants to pay\n",
    "#                how much tip percentage he wants to give\n",
    "#                calculate the total bill amount\n",
    "\n",
    "# bill amount =1000\n",
    "#  you want give 10% tip = 1000*10/100\n",
    "# total bill= 1000+100=1100\n",
    "bill_amount=1000\n",
    "tip_percentage=10\n",
    "tip_amount= bill_amount*tip_percentage/100\n",
    "total_bill= bill_amount+tip_amount\n",
    "print(f\"The total bill is : {total_bill}\")"
   ]
  },
  {
   "cell_type": "code",
   "execution_count": null,
   "id": "cf11fafe-babe-44d0-9776-6faf3d6af794",
   "metadata": {},
   "outputs": [],
   "source": [
    "# Q6)\n",
    "# A story you and your dad\n",
    "# He wants to knwo your marks\n",
    "# He wants to know your percentage of marks\n",
    "\n",
    "# son: Hey dad\n",
    "# Dad: Hi beta\n",
    "# Son: wahtsup dad\n",
    "# Dad : i got to know that your exams results are out\n",
    "# Son : yes dad\n",
    "# Dad : Do you pass the exam\n",
    "# Son : Ofcourse dad\n",
    "# Dad: Tell me the percentage\n",
    "# Son: You know maths , I will give the score cal per\n",
    "# Dad: Okay\n",
    "# Telugu : 91\n",
    "# Hindi  : 82\n",
    "# English : 92\n",
    "# Maths  : 89\n",
    "# Science : 90\n",
    "# Social  : 94\n",
    "# Perc \n",
    "# Print the per"
   ]
  },
  {
   "cell_type": "code",
   "execution_count": 35,
   "id": "4dc98ebf-2488-40ff-a34c-c76d2cc5ad16",
   "metadata": {},
   "outputs": [
    {
     "name": "stdout",
     "output_type": "stream",
     "text": [
      "Son: Hey dad!\n",
      "Dad: Heyyyyy son!\n",
      "Son: Whatsupp!\n",
      "Dad: I heard that you results are out, did you pass?\n",
      "Son: Why won't I? I am your son!\n",
      "Dad: What's your score?\n",
      "Son: I'll tell you the marks you calculate the percentage\n",
      "Dad: Okay!\n",
      "Dad: You scored 89.67%\n"
     ]
    }
   ],
   "source": [
    "print(\"Son: Hey dad!\")\n",
    "print(\"Dad: Heyyyyy son!\")\n",
    "print(\"Son: Whatsupp!\")\n",
    "print(\"Dad: I heard that you results are out, did you pass?\")\n",
    "print(\"Son: Why won't I? I am your son!\")\n",
    "print(\"Dad: What's your score?\")\n",
    "print(\"Son: I'll tell you the marks you calculate the percentage\")\n",
    "print(\"Dad: Okay!\")\n",
    "Telugu = 91 \n",
    "Hindi = 82\n",
    "English = 92\n",
    "Maths = 89\n",
    "Science = 90\n",
    "Social =94 \n",
    "percentage = (Telugu+Hindi+English+Maths+Science+Social)/6\n",
    "round_percentage=round(percentage,2)\n",
    "print(f\"Dad: You scored {round_percentage}%\")"
   ]
  },
  {
   "cell_type": "code",
   "execution_count": 37,
   "id": "86296006-a0cd-4934-8f7a-d96cb656fef1",
   "metadata": {},
   "outputs": [
    {
     "name": "stdout",
     "output_type": "stream",
     "text": [
      "Guy: One tequila please.\n",
      "Bartender: Coming right up!\n",
      "Guy: That hits the spot, thanks!\n",
      "Bartender: Do you want anything else?\n",
      "Guy: No, thanks. Bill me.\n",
      "Bartender: That will be around...₹ 504/-\n",
      "Guy: I don't have rupeesHow much in dollars?\n",
      "Bartender: we will accept only indian rupees\n",
      "Guy:How much in dollars?\n",
      "Bartender: Around...$ 6.0\n",
      "Guy: Here you go.\n"
     ]
    }
   ],
   "source": [
    "#Q7)\n",
    "# you went pub : bill 10k\n",
    "# american guy\n",
    "# you have only dollars\n",
    "# pub will take only rupees\n",
    "# You need to create a story between American guy and pub manager\n",
    "\n",
    "# where you want to apply print\n",
    "# where you want to take variables\n",
    "# where you will do calculations\n",
    "\n",
    "print(\"Guy: One tequila please.\")\n",
    "print(\"Bartender: Coming right up!\")\n",
    "print(\"Guy: That hits the spot, thanks!\")\n",
    "print(\"Bartender: Do you want anything else?\")\n",
    "print(\"Guy: No, thanks. Bill me.\")\n",
    "print(\"Bartender: That will be around...₹ 504/-\")\n",
    "bill=504\n",
    "print(\"Guy: I don't have rupeesHow much in dollars?\")\n",
    "print(\"Bartender: we will accept only indian rupees\")\n",
    "print(\"Guy:How much in dollars?\")\n",
    "one_dollar_in_rupees=84\n",
    "in_dollars=bill/one_dollar_in_rupees\n",
    "print(f\"Bartender: Around...$ {in_dollars}\")\n",
    "print(\"Guy: Here you go.\")"
   ]
  },
  {
   "cell_type": "code",
   "execution_count": null,
   "id": "396a41c5-5c08-4d2c-971b-a95c3dea9468",
   "metadata": {},
   "outputs": [],
   "source": [
    "print(\"Pub mang:your bill is 10k rupees\")\n",
    "print(\"Guy: ok! i have only dollars\")\n",
    "print(\"Pub mang: Sorry sir we accept only rupees\")\n",
    "print(\"Guy: Pls take my dollars and accept\")\n",
    "print(\"Pub mang:sorry sir u can visit exchange center and give me rupees\")\n",
    "print(\"Guy :ok where it is??\")\n",
    "print(\"pub mang: it is opp to another road\")\n",
    "amnt_doll=10000/80\n",
    "print(f\"Guy:ur amount in dollar is {amnt_doll}\")\n",
    "print(\"Pub mang: Thank u sir!!\")\n",
    "# variables also not mentioned"
   ]
  },
  {
   "cell_type": "code",
   "execution_count": 38,
   "id": "7807bb51-8407-4664-93c3-b8c37b63abfb",
   "metadata": {},
   "outputs": [
    {
     "name": "stdout",
     "output_type": "stream",
     "text": [
      "American Customer: What is the bill\n",
      "Hyderabad Hotel manager: Total bill is 10000\n",
      "American Customer: I can only pay in USD\n",
      "Hyderabad Hotel manager: Okay pay in USD\n",
      "Hyderabad Hotel manager: USD to INR conversion rate is 80\n",
      "Hyderabad Hotel manager: Total bill in USD:125.0\n"
     ]
    }
   ],
   "source": [
    "TotalBillInRupees = 10000\n",
    "USDToINRConversionRate = 80\n",
    "TotalBillInUSD=TotalBillInRupees/USDToINRConversionRate\n",
    "print('American Customer: What is the bill')\n",
    "print(f'Hyderabad Hotel manager: Total bill is {TotalBillInRupees}')\n",
    "print('American Customer: I can only pay in USD')\n",
    "print('Hyderabad Hotel manager: Okay pay in USD')\n",
    "print('Hyderabad Hotel manager: USD to INR conversion rate is 80')\n",
    "print(f'Hyderabad Hotel manager: Total bill in USD:{TotalBillInUSD}')"
   ]
  },
  {
   "cell_type": "code",
   "execution_count": 39,
   "id": "2d9c5013-7470-4f20-9b82-a68877b65ad8",
   "metadata": {},
   "outputs": [
    {
     "data": {
      "text/plain": [
       "1.0"
      ]
     },
     "execution_count": 39,
     "metadata": {},
     "output_type": "execute_result"
    }
   ],
   "source": [
    "10e-1    # 10/10"
   ]
  },
  {
   "cell_type": "code",
   "execution_count": 40,
   "id": "d8bc1b92-ba0f-4af3-bbb1-cd1c40ad5677",
   "metadata": {},
   "outputs": [
    {
     "data": {
      "text/plain": [
       "0.01"
      ]
     },
     "execution_count": 40,
     "metadata": {},
     "output_type": "execute_result"
    }
   ],
   "source": [
    "10e-3   # 10/1000 = 0.01"
   ]
  },
  {
   "cell_type": "code",
   "execution_count": 41,
   "id": "4559d9ce-c80a-42f5-ba7c-0bfa28803981",
   "metadata": {},
   "outputs": [
    {
     "data": {
      "text/plain": [
       "1e-05"
      ]
     },
     "execution_count": 41,
     "metadata": {},
     "output_type": "execute_result"
    }
   ],
   "source": [
    "10e-6"
   ]
  },
  {
   "cell_type": "code",
   "execution_count": 42,
   "id": "b1d6d1fe-4b3a-4aa3-bb30-ce5efc23c9b9",
   "metadata": {},
   "outputs": [
    {
     "ename": "SyntaxError",
     "evalue": "invalid syntax (440139519.py, line 1)",
     "output_type": "error",
     "traceback": [
      "\u001b[1;36m  Cell \u001b[1;32mIn[42], line 1\u001b[1;36m\u001b[0m\n\u001b[1;33m    12***3\u001b[0m\n\u001b[1;37m        ^\u001b[0m\n\u001b[1;31mSyntaxError\u001b[0m\u001b[1;31m:\u001b[0m invalid syntax\n"
     ]
    }
   ],
   "source": [
    "12***3"
   ]
  },
  {
   "cell_type": "code",
   "execution_count": 44,
   "id": "d03bdb93-f2fc-4235-a23b-69c7131aab46",
   "metadata": {},
   "outputs": [
    {
     "data": {
      "text/plain": [
       "0.012"
      ]
     },
     "execution_count": 44,
     "metadata": {},
     "output_type": "execute_result"
    }
   ],
   "source": [
    "12e-3  # 12*1000 12/1000"
   ]
  },
  {
   "cell_type": "code",
   "execution_count": null,
   "id": "3bf777b0-37c8-4131-82ac-edc32e917e0a",
   "metadata": {},
   "outputs": [],
   "source": [
    "e3= 10^3"
   ]
  }
 ],
 "metadata": {
  "kernelspec": {
   "display_name": "Python 3 (ipykernel)",
   "language": "python",
   "name": "python3"
  },
  "language_info": {
   "codemirror_mode": {
    "name": "ipython",
    "version": 3
   },
   "file_extension": ".py",
   "mimetype": "text/x-python",
   "name": "python",
   "nbconvert_exporter": "python",
   "pygments_lexer": "ipython3",
   "version": "3.12.4"
  }
 },
 "nbformat": 4,
 "nbformat_minor": 5
}
