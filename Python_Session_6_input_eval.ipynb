{
 "cells": [
  {
   "cell_type": "code",
   "execution_count": 1,
   "id": "95c8ca03-406b-4737-a7ff-bbf4fa00eda0",
   "metadata": {},
   "outputs": [
    {
     "data": {
      "text/plain": [
       "'C:\\\\Users\\\\omkar'"
      ]
     },
     "execution_count": 1,
     "metadata": {},
     "output_type": "execute_result"
    }
   ],
   "source": [
    "import os\n",
    "os.getcwd()"
   ]
  },
  {
   "cell_type": "markdown",
   "id": "e8b9d686-11ce-4c86-ac17-ab21f2e4098b",
   "metadata": {},
   "source": [
    "**name error**\n",
    "\n",
    "- variable not defined\n",
    "\n",
    "- variable is in black color\n",
    "\n",
    "- string is in red color\n",
    "\n",
    "- keywords are in green color"
   ]
  },
  {
   "cell_type": "code",
   "execution_count": 3,
   "id": "d134de8d-0fd2-404f-88b3-05b24bc9085a",
   "metadata": {},
   "outputs": [
    {
     "ename": "NameError",
     "evalue": "name 'q4' is not defined",
     "output_type": "error",
     "traceback": [
      "\u001b[1;31m---------------------------------------------------------------------------\u001b[0m",
      "\u001b[1;31mNameError\u001b[0m                                 Traceback (most recent call last)",
      "Cell \u001b[1;32mIn[3], line 1\u001b[0m\n\u001b[1;32m----> 1\u001b[0m q4\n\u001b[0;32m      2\u001b[0m a\u001b[38;5;241m=\u001b[39m\u001b[38;5;241m10\u001b[39m\n\u001b[0;32m      3\u001b[0m \u001b[38;5;28mprint\u001b[39m(a)\n",
      "\u001b[1;31mNameError\u001b[0m: name 'q4' is not defined"
     ]
    }
   ],
   "source": [
    "q4\n",
    "a=10\n",
    "print(a)"
   ]
  },
  {
   "cell_type": "markdown",
   "id": "98e2cb3b-45f1-4ed9-a163-41543efe777c",
   "metadata": {},
   "source": [
    "a=10\n",
    "a"
   ]
  },
  {
   "cell_type": "code",
   "execution_count": null,
   "id": "01867f56-b5e4-4c7d-9000-85d0a0fd61a4",
   "metadata": {},
   "outputs": [],
   "source": [
    "true\n",
    "True\n",
    "TRUE"
   ]
  },
  {
   "cell_type": "markdown",
   "id": "3aecc8d8-59fd-4aee-babf-e111a678d0bd",
   "metadata": {},
   "source": [
    "**input**"
   ]
  },
  {
   "cell_type": "code",
   "execution_count": 5,
   "id": "4a756fc2-faa9-4bd6-bbd7-e9f682ad00a7",
   "metadata": {},
   "outputs": [
    {
     "data": {
      "text/plain": [
       "46"
      ]
     },
     "execution_count": 5,
     "metadata": {},
     "output_type": "execute_result"
    }
   ],
   "source": [
    "# variable name can be any thing\n",
    "round(45.789) # \n",
    "\n",
    "\n",
    "# How do you say 46"
   ]
  },
  {
   "cell_type": "code",
   "execution_count": 6,
   "id": "ba83860c-f290-4154-bbfb-0e4eacf7fa82",
   "metadata": {},
   "outputs": [
    {
     "data": {
      "text/plain": [
       "45.6"
      ]
     },
     "execution_count": 6,
     "metadata": {},
     "output_type": "execute_result"
    }
   ],
   "source": [
    "round(45.56789,1)  # 45.<value>"
   ]
  },
  {
   "cell_type": "code",
   "execution_count": null,
   "id": "3cb66fc4-8ff1-4268-8fa6-df10bbb53cbe",
   "metadata": {},
   "outputs": [],
   "source": [
    "0.5679 ==== > 0.6"
   ]
  },
  {
   "cell_type": "code",
   "execution_count": 7,
   "id": "a9bdb915-e8a0-4651-8a79-8c52574b9f26",
   "metadata": {},
   "outputs": [
    {
     "data": {
      "text/plain": [
       "45.57"
      ]
     },
     "execution_count": 7,
     "metadata": {},
     "output_type": "execute_result"
    }
   ],
   "source": [
    "round(45.56789,2)   # 45.<v1><v2> \n",
    "                    # 45.5 <0.6789>"
   ]
  },
  {
   "cell_type": "code",
   "execution_count": 8,
   "id": "d06d66dd-95a0-421e-9430-95f8b793ecc5",
   "metadata": {},
   "outputs": [
    {
     "data": {
      "text/plain": [
       "45.568"
      ]
     },
     "execution_count": 8,
     "metadata": {},
     "output_type": "execute_result"
    }
   ],
   "source": [
    "round(45.56789,3)\n",
    "# 45.<5><6><8>"
   ]
  },
  {
   "cell_type": "markdown",
   "id": "c2d443db-27f2-489d-a8e4-5d5f2d36a33b",
   "metadata": {},
   "source": [
    "- we can take the values directly in python code\n",
    "\n",
    "    - ex: num=10\n",
    "\n",
    "- we can take the values from user like from keyboard\n",
    "\n",
    "- Imagine there is application form we need to fill\n",
    "\n",
    "- In the application form name: square box will appear\n",
    "\n",
    "- you need to enter your name\n",
    "\n",
    "- This is achieved by a keyword **input**"
   ]
  },
  {
   "cell_type": "code",
   "execution_count": 10,
   "id": "88610ffc-d9e9-4ef1-a931-16865c60238e",
   "metadata": {},
   "outputs": [
    {
     "name": "stdin",
     "output_type": "stream",
     "text": [
      " naresh it\n"
     ]
    },
    {
     "data": {
      "text/plain": [
       "'naresh it'"
      ]
     },
     "execution_count": 10,
     "metadata": {},
     "output_type": "execute_result"
    }
   ],
   "source": [
    "input()"
   ]
  },
  {
   "cell_type": "markdown",
   "id": "793f4489-dd41-43cd-9743-bb9a9cd3951a",
   "metadata": {},
   "source": [
    "- when we type input()\n",
    "\n",
    "- a square box will appear\n",
    "\n",
    "- you need to observe 3 things\n",
    "\n",
    "    - square box\n",
    "\n",
    "    - \"*\" mark inside square brackets that is before the code cell\n",
    "\n",
    "    - python kernel is black color\n",
    "\n",
    "- * mark and black color means kernel is busy\n",
    "\n",
    "- first fill the box with some value\n",
    "\n",
    "- then do enter\n",
    "\n"
   ]
  },
  {
   "cell_type": "code",
   "execution_count": 11,
   "id": "4cdcf41e-e7f7-461d-ac35-d2675ca37634",
   "metadata": {},
   "outputs": [
    {
     "name": "stdin",
     "output_type": "stream",
     "text": [
      " omkar\n"
     ]
    },
    {
     "data": {
      "text/plain": [
       "'omkar'"
      ]
     },
     "execution_count": 11,
     "metadata": {},
     "output_type": "execute_result"
    }
   ],
   "source": [
    "input()"
   ]
  },
  {
   "cell_type": "code",
   "execution_count": null,
   "id": "4ee91c30-e06f-429d-b2cf-0b8271d75525",
   "metadata": {},
   "outputs": [],
   "source": []
  },
  {
   "cell_type": "code",
   "execution_count": 14,
   "id": "0fc3ebbe-b395-4242-b809-dc42cb09bbdf",
   "metadata": {},
   "outputs": [
    {
     "name": "stdin",
     "output_type": "stream",
     "text": [
      " 100 abc True\n"
     ]
    },
    {
     "data": {
      "text/plain": [
       "'100 abc True'"
      ]
     },
     "execution_count": 14,
     "metadata": {},
     "output_type": "execute_result"
    }
   ],
   "source": [
    "input()"
   ]
  },
  {
   "cell_type": "markdown",
   "id": "6384a297-47da-4d71-b80f-7f8ac232782c",
   "metadata": {},
   "source": [
    "**Note**\n",
    "\n",
    "- What ever we type in square brackets , the output display in quotes\n",
    "\n",
    "- the output default type is string type"
   ]
  },
  {
   "cell_type": "code",
   "execution_count": 15,
   "id": "0742c003-a262-444a-a73e-ce73ff46f0de",
   "metadata": {},
   "outputs": [
    {
     "name": "stdin",
     "output_type": "stream",
     "text": [
      " sandeep\n"
     ]
    },
    {
     "data": {
      "text/plain": [
       "'sandeep'"
      ]
     },
     "execution_count": 15,
     "metadata": {},
     "output_type": "execute_result"
    }
   ],
   "source": [
    "input()"
   ]
  },
  {
   "cell_type": "code",
   "execution_count": 17,
   "id": "0fc7194e-ad3f-4aa9-bad6-cac003704da3",
   "metadata": {},
   "outputs": [
    {
     "name": "stdin",
     "output_type": "stream",
     "text": [
      " nareshit\n",
      " 100\n",
      " data science\n"
     ]
    },
    {
     "data": {
      "text/plain": [
       "'data science'"
      ]
     },
     "execution_count": 17,
     "metadata": {},
     "output_type": "execute_result"
    }
   ],
   "source": [
    "input()\n",
    "input()\n",
    "input()"
   ]
  },
  {
   "cell_type": "code",
   "execution_count": 16,
   "id": "b3d1441f-572b-42d8-9660-5a1aa247c5d6",
   "metadata": {},
   "outputs": [
    {
     "data": {
      "text/plain": [
       "10"
      ]
     },
     "execution_count": 16,
     "metadata": {},
     "output_type": "execute_result"
    }
   ],
   "source": [
    "a=10\n",
    "a"
   ]
  },
  {
   "cell_type": "code",
   "execution_count": 18,
   "id": "8ee7f56d-ea77-4c19-8244-188e8942cb65",
   "metadata": {},
   "outputs": [
    {
     "name": "stdin",
     "output_type": "stream",
     "text": [
      " 10\n"
     ]
    },
    {
     "data": {
      "text/plain": [
       "'10'"
      ]
     },
     "execution_count": 18,
     "metadata": {},
     "output_type": "execute_result"
    }
   ],
   "source": [
    "input()"
   ]
  },
  {
   "cell_type": "markdown",
   "id": "7bdca33e-b3bc-4ce8-a0f4-e3eff9fd8991",
   "metadata": {},
   "source": [
    "input()"
   ]
  },
  {
   "cell_type": "code",
   "execution_count": 20,
   "id": "7d75372f-5f85-4b76-83a5-3051b380f89b",
   "metadata": {},
   "outputs": [
    {
     "name": "stdin",
     "output_type": "stream",
     "text": [
      " 10\n",
      " 20\n"
     ]
    },
    {
     "name": "stdout",
     "output_type": "stream",
     "text": [
      "10\n",
      "20\n",
      "The value of a is: 10 and b is:20\n"
     ]
    }
   ],
   "source": [
    "a=input()\n",
    "b=input()\n",
    "print(a)\n",
    "print(b)\n",
    "print(f'The value of a is: {a} and b is:{b}')"
   ]
  },
  {
   "cell_type": "code",
   "execution_count": null,
   "id": "a3582789-3b08-4a85-b58e-f2296d03b814",
   "metadata": {},
   "outputs": [],
   "source": [
    "# Ask the user enter the name \n",
    "# city and country\n",
    "# Print the statement\n",
    "name='naresh it'\n",
    "city='Hyd'\n",
    "Country='India'\n"
   ]
  },
  {
   "cell_type": "code",
   "execution_count": 23,
   "id": "7a17a9dc-2e44-4d02-9191-1e6f6daaa525",
   "metadata": {},
   "outputs": [
    {
     "name": "stdout",
     "output_type": "stream",
     "text": [
      "My name is Amit, Im from MH\n"
     ]
    }
   ],
   "source": [
    "name='Amit'\n",
    "State='MH'\n",
    "print(f\"My name is {name}, Im from {State}\")"
   ]
  },
  {
   "cell_type": "code",
   "execution_count": 24,
   "id": "956e51b0-1e48-4a03-990a-fd2f011d1c83",
   "metadata": {},
   "outputs": [
    {
     "name": "stdin",
     "output_type": "stream",
     "text": [
      " Fredy\n",
      " nasik\n",
      " india\n"
     ]
    },
    {
     "name": "stdout",
     "output_type": "stream",
     "text": [
      "My name is Fredy and I am from nasik city which is located in india\n"
     ]
    }
   ],
   "source": [
    "name=input()  # The value of the input stored in a varabile 'name'\n",
    "city=input()\n",
    "country=input()\n",
    "print(f'My name is {name} and I am from {city} city which is located in {country}')"
   ]
  },
  {
   "cell_type": "code",
   "execution_count": 25,
   "id": "4da3afe1-f21c-45ea-b57f-c033531d43e0",
   "metadata": {},
   "outputs": [
    {
     "name": "stdin",
     "output_type": "stream",
     "text": [
      " 10\n",
      "Enter the Name sudakar\n",
      "Enter the name: fredy\n",
      "Enter the city: Pune\n",
      "Enter okay\n"
     ]
    },
    {
     "data": {
      "text/plain": [
       "'okay'"
      ]
     },
     "execution_count": 25,
     "metadata": {},
     "output_type": "execute_result"
    }
   ],
   "source": [
    "input()\n",
    "input(\"Enter the Name\")\n",
    "input(\"Enter the name:\")\n",
    "input(\"Enter the city:\")\n",
    "input(\"Enter\")"
   ]
  },
  {
   "cell_type": "code",
   "execution_count": 26,
   "id": "20a7deeb-8e5f-46d6-af7e-f18af7260613",
   "metadata": {},
   "outputs": [
    {
     "name": "stdin",
     "output_type": "stream",
     "text": [
      "Enter the name: sanat\n",
      "Enter the City: hyd\n",
      "Enter the Country: india\n"
     ]
    },
    {
     "name": "stdout",
     "output_type": "stream",
     "text": [
      "My name is sanat, I'm from hyd which is located in india\n"
     ]
    }
   ],
   "source": [
    "name = input(\"Enter the name:\")\n",
    "city = input(\"Enter the City:\")\n",
    "country = input(\"Enter the Country:\")\n",
    "print(f\"My name is {name}, I'm from {city} which is located in {country}\")"
   ]
  },
  {
   "cell_type": "code",
   "execution_count": 27,
   "id": "8b135146-97f9-424e-ac13-06698e0f594e",
   "metadata": {},
   "outputs": [
    {
     "name": "stdin",
     "output_type": "stream",
     "text": [
      "Enter the Number1: 100\n",
      "Enter the Number2: 200\n"
     ]
    },
    {
     "data": {
      "text/plain": [
       "'100200'"
      ]
     },
     "execution_count": 27,
     "metadata": {},
     "output_type": "execute_result"
    }
   ],
   "source": [
    "# wap ask the user take two numbers\n",
    "# n1 and n2\n",
    "# add the two numbers\n",
    "#n1=input(\"E\")\n",
    "n1=input(\"Enter the Number1:\") # n1='100'\n",
    "n2=input(\"Enter the Number2:\") # n2='200'\n",
    "n1+n2  # '100'+'200'='100200'"
   ]
  },
  {
   "cell_type": "code",
   "execution_count": 28,
   "id": "2c2bab9a-043d-42dc-aac9-470b82433922",
   "metadata": {},
   "outputs": [
    {
     "name": "stdin",
     "output_type": "stream",
     "text": [
      " 100\n"
     ]
    },
    {
     "data": {
      "text/plain": [
       "'100'"
      ]
     },
     "execution_count": 28,
     "metadata": {},
     "output_type": "execute_result"
    }
   ],
   "source": [
    "input()"
   ]
  },
  {
   "cell_type": "code",
   "execution_count": 29,
   "id": "bead5205-b1a1-4b59-ac16-764ae790b648",
   "metadata": {},
   "outputs": [
    {
     "data": {
      "text/plain": [
       "100"
      ]
     },
     "execution_count": 29,
     "metadata": {},
     "output_type": "execute_result"
    }
   ],
   "source": [
    "int('100')"
   ]
  },
  {
   "cell_type": "code",
   "execution_count": 31,
   "id": "35cc830e-f6c3-4749-b535-33f1fb20617b",
   "metadata": {},
   "outputs": [
    {
     "data": {
      "text/plain": [
       "300"
      ]
     },
     "execution_count": 31,
     "metadata": {},
     "output_type": "execute_result"
    }
   ],
   "source": [
    "n1=int('100')\n",
    "n2=int('200')\n",
    "n1+n2"
   ]
  },
  {
   "cell_type": "code",
   "execution_count": 32,
   "id": "f6643730-df8b-4eed-afb4-85a568939181",
   "metadata": {},
   "outputs": [
    {
     "name": "stdin",
     "output_type": "stream",
     "text": [
      "Enter the Number1: 100\n",
      "Enter the Number2: 200\n"
     ]
    },
    {
     "data": {
      "text/plain": [
       "300"
      ]
     },
     "execution_count": 32,
     "metadata": {},
     "output_type": "execute_result"
    }
   ],
   "source": [
    "n1=int(input(\"Enter the Number1:\")) # n1=int('100') =100\n",
    "n2=int(input(\"Enter the Number2:\")) # n2=int('200') =200\n",
    "n1+n2  # 100+200=300"
   ]
  },
  {
   "cell_type": "code",
   "execution_count": 34,
   "id": "d90b57c1-f227-41c6-81a0-ed9adddd6be2",
   "metadata": {},
   "outputs": [
    {
     "data": {
      "text/plain": [
       "300"
      ]
     },
     "execution_count": 34,
     "metadata": {},
     "output_type": "execute_result"
    }
   ],
   "source": [
    "n1=int('100')\n",
    "n2=int('200')\n",
    "n1+n2"
   ]
  },
  {
   "cell_type": "code",
   "execution_count": 35,
   "id": "5b1ef156-ed51-409b-b804-4d767196445c",
   "metadata": {},
   "outputs": [
    {
     "data": {
      "text/plain": [
       "300"
      ]
     },
     "execution_count": 35,
     "metadata": {},
     "output_type": "execute_result"
    }
   ],
   "source": [
    "n1='100'\n",
    "n2='200'\n",
    "int(n1)+int(n2)   #  int('100')+int('200')"
   ]
  },
  {
   "cell_type": "code",
   "execution_count": 36,
   "id": "f0f8cc25-6518-4b08-8240-6745b93544cf",
   "metadata": {},
   "outputs": [
    {
     "data": {
      "text/plain": [
       "100200"
      ]
     },
     "execution_count": 36,
     "metadata": {},
     "output_type": "execute_result"
    }
   ],
   "source": [
    "# Wrong\n",
    "n1='100'\n",
    "n2='200'\n",
    "int(n1+n2)   #  int('100'+'200')"
   ]
  },
  {
   "cell_type": "code",
   "execution_count": 37,
   "id": "6b6a5a46-ea00-49ba-aa97-6f77e6bac084",
   "metadata": {},
   "outputs": [
    {
     "name": "stdin",
     "output_type": "stream",
     "text": [
      "Enter the number1: 100\n",
      "Enter the number2: 200.25\n"
     ]
    },
    {
     "ename": "ValueError",
     "evalue": "invalid literal for int() with base 10: '200.25'",
     "output_type": "error",
     "traceback": [
      "\u001b[1;31m---------------------------------------------------------------------------\u001b[0m",
      "\u001b[1;31mValueError\u001b[0m                                Traceback (most recent call last)",
      "Cell \u001b[1;32mIn[37], line 2\u001b[0m\n\u001b[0;32m      1\u001b[0m n1\u001b[38;5;241m=\u001b[39m\u001b[38;5;28mint\u001b[39m(\u001b[38;5;28minput\u001b[39m(\u001b[38;5;124m\"\u001b[39m\u001b[38;5;124mEnter the number1:\u001b[39m\u001b[38;5;124m\"\u001b[39m))\n\u001b[1;32m----> 2\u001b[0m n2\u001b[38;5;241m=\u001b[39m\u001b[38;5;28mint\u001b[39m(\u001b[38;5;28minput\u001b[39m(\u001b[38;5;124m\"\u001b[39m\u001b[38;5;124mEnter the number2:\u001b[39m\u001b[38;5;124m\"\u001b[39m))\n\u001b[0;32m      3\u001b[0m n1\u001b[38;5;241m+\u001b[39mn2\n",
      "\u001b[1;31mValueError\u001b[0m: invalid literal for int() with base 10: '200.25'"
     ]
    }
   ],
   "source": [
    "n1=int(input(\"Enter the number1:\"))\n",
    "n2=int(input(\"Enter the number2:\"))\n",
    "n1+n2"
   ]
  },
  {
   "cell_type": "code",
   "execution_count": 39,
   "id": "479f7af8-a267-415d-a346-a860ebc0282a",
   "metadata": {},
   "outputs": [
    {
     "name": "stdin",
     "output_type": "stream",
     "text": [
      "Enter the number1: 200.235\n"
     ]
    },
    {
     "ename": "ValueError",
     "evalue": "invalid literal for int() with base 10: '200.235'",
     "output_type": "error",
     "traceback": [
      "\u001b[1;31m---------------------------------------------------------------------------\u001b[0m",
      "\u001b[1;31mValueError\u001b[0m                                Traceback (most recent call last)",
      "Cell \u001b[1;32mIn[39], line 1\u001b[0m\n\u001b[1;32m----> 1\u001b[0m n1\u001b[38;5;241m=\u001b[39m\u001b[38;5;28mint\u001b[39m(\u001b[38;5;28minput\u001b[39m(\u001b[38;5;124m\"\u001b[39m\u001b[38;5;124mEnter the number1:\u001b[39m\u001b[38;5;124m\"\u001b[39m))\n\u001b[0;32m      2\u001b[0m n2\u001b[38;5;241m=\u001b[39m\u001b[38;5;28mfloat\u001b[39m(\u001b[38;5;28minput\u001b[39m(\u001b[38;5;124m\"\u001b[39m\u001b[38;5;124mEnter the number2:\u001b[39m\u001b[38;5;124m\"\u001b[39m))\n\u001b[0;32m      3\u001b[0m n1\u001b[38;5;241m+\u001b[39mn2\n",
      "\u001b[1;31mValueError\u001b[0m: invalid literal for int() with base 10: '200.235'"
     ]
    }
   ],
   "source": [
    "n1=int(input(\"Enter the number1:\"))\n",
    "n2=float(input(\"Enter the number2:\"))\n",
    "n1+n2"
   ]
  },
  {
   "cell_type": "markdown",
   "id": "f6faa58f-ab42-402f-8403-ce2a667eba2e",
   "metadata": {},
   "source": [
    "**eval**\n",
    "\n",
    "- whenever you listen eval : evaluate\n",
    "\n",
    "- evaluate is belongs to math family\n",
    "\n",
    "- It will convert integer value to the integer\n",
    "\n",
    "- It will convert float value to the float only\n",
    "\n",
    "- directly apply the eval and it will convert into corresponding data type\n",
    "\n",
    "- Wheneever you use eval, dont provide strings: It will give the error"
   ]
  },
  {
   "cell_type": "code",
   "execution_count": 43,
   "id": "4dbcb8aa-c665-4b6f-af58-141490eeebe2",
   "metadata": {},
   "outputs": [
    {
     "name": "stdin",
     "output_type": "stream",
     "text": [
      "Enter the number1: 23.6\n",
      "Enter the number2: 34.7\n"
     ]
    },
    {
     "name": "stdout",
     "output_type": "stream",
     "text": [
      "58.300000000000004\n"
     ]
    }
   ],
   "source": [
    "n1=eval(input(\"Enter the number1:\"))\n",
    "n2=eval(input(\"Enter the number2:\"))\n",
    "print(n1+n2)"
   ]
  },
  {
   "cell_type": "code",
   "execution_count": 44,
   "id": "4b117d56-a913-4ba8-b179-7df417021e6d",
   "metadata": {},
   "outputs": [
    {
     "name": "stdin",
     "output_type": "stream",
     "text": [
      "Enter the number1: 100\n",
      "Enter the number2: 100.5\n"
     ]
    },
    {
     "data": {
      "text/plain": [
       "200.5"
      ]
     },
     "execution_count": 44,
     "metadata": {},
     "output_type": "execute_result"
    }
   ],
   "source": [
    "# eval ==== two cases at a time\n",
    "n1=float(input(\"Enter the number1:\"))\n",
    "n2=float(input(\"Enter the number2:\"))\n",
    "n1+n2"
   ]
  },
  {
   "cell_type": "code",
   "execution_count": null,
   "id": "b3e6e080-6f08-41a5-b6c7-289ad4659690",
   "metadata": {},
   "outputs": [],
   "source": [
    "n1=10\n",
    "n2=20\n",
    "n3=30\n",
    "avg=(10+20+30)/3\n",
    "avg1=round(avg,2)\n",
    "print(f\"The average of {n1},{n2} and {n3} is {avg1}\")\n",
    "print(\"The average of {},{} and {} is {}\".format(n1,n2,n3,avg1))"
   ]
  },
  {
   "cell_type": "code",
   "execution_count": null,
   "id": "0f4fa394-a19c-4809-96d5-916369c9d473",
   "metadata": {},
   "outputs": [],
   "source": [
    "# Q1) ASk the user take the 3 numbers from the keyboard find the avg\n",
    "# Q2) Ask the user take the height and bredath find the Right angle traingle area\n",
    "# Q3) Ask the user ask the enter length and beadth, calculate area of rectangle\n",
    "# Q4) Ask the user take the radius calculate area of the circle\n",
    "# Q5) Ask the user how much billl amount\n",
    "#         How much tip_per you want to pay\n",
    "#         calculate the total bill"
   ]
  }
 ],
 "metadata": {
  "kernelspec": {
   "display_name": "Python 3 (ipykernel)",
   "language": "python",
   "name": "python3"
  },
  "language_info": {
   "codemirror_mode": {
    "name": "ipython",
    "version": 3
   },
   "file_extension": ".py",
   "mimetype": "text/x-python",
   "name": "python",
   "nbconvert_exporter": "python",
   "pygments_lexer": "ipython3",
   "version": "3.11.7"
  }
 },
 "nbformat": 4,
 "nbformat_minor": 5
}
