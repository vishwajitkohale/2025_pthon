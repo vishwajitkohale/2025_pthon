{
 "cells": [
  {
   "cell_type": "code",
   "execution_count": null,
   "id": "e721119e-1dce-4087-9630-c5cc64afdd4b",
   "metadata": {},
   "outputs": [],
   "source": [
    "# step-1: import package name\n",
    "# step-2: dir(packagename) === All the methods\n",
    "# step-3: You can pick one method\n",
    "#         help(pacckage_name.methodname)\n",
    "# step-4:  package_name.method_name\n",
    "\n",
    "    # for constnats no brackets\n",
    "    # for not a constants we need to use brackets\n",
    "    #      inside brackets do you need to provide any thing"
   ]
  },
  {
   "cell_type": "code",
   "execution_count": 1,
   "id": "1c454105-2894-435c-9838-1416194f35de",
   "metadata": {},
   "outputs": [],
   "source": [
    "import random"
   ]
  },
  {
   "cell_type": "code",
   "execution_count": 2,
   "id": "3caf9ebe-57d8-4c71-83ec-ce387f7597d8",
   "metadata": {},
   "outputs": [
    {
     "data": {
      "text/plain": [
       "<bound method Random.randint of <random.Random object at 0x000001049572C400>>"
      ]
     },
     "execution_count": 2,
     "metadata": {},
     "output_type": "execute_result"
    }
   ],
   "source": [
    "random.randint"
   ]
  },
  {
   "cell_type": "markdown",
   "id": "c2903ac2-a5a0-4636-81da-7a438d174934",
   "metadata": {},
   "source": [
    "**bound method means provide the brackets**"
   ]
  },
  {
   "cell_type": "code",
   "execution_count": 5,
   "id": "9f3cdc82-4247-43b3-9eb5-0d5a5504643a",
   "metadata": {},
   "outputs": [
    {
     "data": {
      "text/plain": [
       "11"
      ]
     },
     "execution_count": 5,
     "metadata": {},
     "output_type": "execute_result"
    }
   ],
   "source": [
    "random.randint(10,20)\n",
    "\n",
    "# take the cursor inside the bracket\n",
    "# apply shift+tab at a time"
   ]
  },
  {
   "cell_type": "code",
   "execution_count": 6,
   "id": "ad311a2c-3ad3-4274-b813-fa09f0272cac",
   "metadata": {},
   "outputs": [
    {
     "data": {
      "text/plain": [
       "<function Random.random()>"
      ]
     },
     "execution_count": 6,
     "metadata": {},
     "output_type": "execute_result"
    }
   ],
   "source": [
    "random.random"
   ]
  },
  {
   "cell_type": "markdown",
   "id": "46ae7229-7442-4c53-b676-44a877c46e30",
   "metadata": {},
   "source": [
    "**function also means provide a brackets**"
   ]
  },
  {
   "cell_type": "code",
   "execution_count": 7,
   "id": "3fdb94ad-6164-4871-ac08-40b081892713",
   "metadata": {},
   "outputs": [
    {
     "data": {
      "text/plain": [
       "0.3284581607730608"
      ]
     },
     "execution_count": 7,
     "metadata": {},
     "output_type": "execute_result"
    }
   ],
   "source": [
    "random.random()"
   ]
  },
  {
   "cell_type": "code",
   "execution_count": 8,
   "id": "98a37de5-5ce0-4eb4-898a-6299d1796dee",
   "metadata": {},
   "outputs": [
    {
     "data": {
      "text/plain": [
       "2.718281828459045"
      ]
     },
     "execution_count": 8,
     "metadata": {},
     "output_type": "execute_result"
    }
   ],
   "source": [
    "import math\n",
    "math.e"
   ]
  },
  {
   "cell_type": "markdown",
   "id": "9b2eb795-7bcd-4520-ad4d-6a2957aa2c71",
   "metadata": {},
   "source": [
    "**constants does not required brackets**\n",
    "\n",
    "- Import the packages\n",
    "\n",
    "- call the method\n",
    "\n",
    "- dont give the brackets \n",
    "\n",
    "    - bound method or function\n",
    "\n",
    "    - then give the brackets\n",
    "\n",
    "- after give the bracket take your cursor inside the brackets apply shift+tab"
   ]
  },
  {
   "cell_type": "code",
   "execution_count": 9,
   "id": "68e80bb8-09f9-4907-bbcc-953292f730ba",
   "metadata": {},
   "outputs": [
    {
     "ename": "AttributeError",
     "evalue": "module 'random' has no attribute 'Radom'",
     "output_type": "error",
     "traceback": [
      "\u001b[1;31m---------------------------------------------------------------------------\u001b[0m",
      "\u001b[1;31mAttributeError\u001b[0m                            Traceback (most recent call last)",
      "Cell \u001b[1;32mIn[9], line 1\u001b[0m\n\u001b[1;32m----> 1\u001b[0m random\u001b[38;5;241m.\u001b[39mRadom\n",
      "\u001b[1;31mAttributeError\u001b[0m: module 'random' has no attribute 'Radom'"
     ]
    }
   ],
   "source": [
    "random.Radom"
   ]
  },
  {
   "cell_type": "code",
   "execution_count": 12,
   "id": "52e91edf-9089-42cf-a6ec-799f7b041db8",
   "metadata": {},
   "outputs": [
    {
     "name": "stdout",
     "output_type": "stream",
     "text": [
      "Help on class Random in module random:\n",
      "\n",
      "class Random(_random.Random)\n",
      " |  Random(x=None)\n",
      " |  \n",
      " |  Random number generator base class used by bound module functions.\n",
      " |  \n",
      " |  Used to instantiate instances of Random to get generators that don't\n",
      " |  share state.\n",
      " |  \n",
      " |  Class Random can also be subclassed if you want to use a different basic\n",
      " |  generator of your own devising: in that case, override the following\n",
      " |  methods:  random(), seed(), getstate(), and setstate().\n",
      " |  Optionally, implement a getrandbits() method so that randrange()\n",
      " |  can cover arbitrarily large ranges.\n",
      " |  \n",
      " |  Method resolution order:\n",
      " |      Random\n",
      " |      _random.Random\n",
      " |      builtins.object\n",
      " |  \n",
      " |  Methods defined here:\n",
      " |  \n",
      " |  __getstate__(self)\n",
      " |      Helper for pickle.\n",
      " |  \n",
      " |  __init__(self, x=None)\n",
      " |      Initialize an instance.\n",
      " |      \n",
      " |      Optional argument x controls seeding, as for Random.seed().\n",
      " |  \n",
      " |  __reduce__(self)\n",
      " |      Helper for pickle.\n",
      " |  \n",
      " |  __setstate__(self, state)\n",
      " |  \n",
      " |  betavariate(self, alpha, beta)\n",
      " |      Beta distribution.\n",
      " |      \n",
      " |      Conditions on the parameters are alpha > 0 and beta > 0.\n",
      " |      Returned values range between 0 and 1.\n",
      " |  \n",
      " |  choice(self, seq)\n",
      " |      Choose a random element from a non-empty sequence.\n",
      " |  \n",
      " |  choices(self, population, weights=None, *, cum_weights=None, k=1)\n",
      " |      Return a k sized list of population elements chosen with replacement.\n",
      " |      \n",
      " |      If the relative weights or cumulative weights are not specified,\n",
      " |      the selections are made with equal probability.\n",
      " |  \n",
      " |  expovariate(self, lambd)\n",
      " |      Exponential distribution.\n",
      " |      \n",
      " |      lambd is 1.0 divided by the desired mean.  It should be\n",
      " |      nonzero.  (The parameter would be called \"lambda\", but that is\n",
      " |      a reserved word in Python.)  Returned values range from 0 to\n",
      " |      positive infinity if lambd is positive, and from negative\n",
      " |      infinity to 0 if lambd is negative.\n",
      " |  \n",
      " |  gammavariate(self, alpha, beta)\n",
      " |      Gamma distribution.  Not the gamma function!\n",
      " |      \n",
      " |      Conditions on the parameters are alpha > 0 and beta > 0.\n",
      " |      \n",
      " |      The probability distribution function is:\n",
      " |      \n",
      " |                  x ** (alpha - 1) * math.exp(-x / beta)\n",
      " |        pdf(x) =  --------------------------------------\n",
      " |                    math.gamma(alpha) * beta ** alpha\n",
      " |  \n",
      " |  gauss(self, mu=0.0, sigma=1.0)\n",
      " |      Gaussian distribution.\n",
      " |      \n",
      " |      mu is the mean, and sigma is the standard deviation.  This is\n",
      " |      slightly faster than the normalvariate() function.\n",
      " |      \n",
      " |      Not thread-safe without a lock around calls.\n",
      " |  \n",
      " |  getstate(self)\n",
      " |      Return internal state; can be passed to setstate() later.\n",
      " |  \n",
      " |  lognormvariate(self, mu, sigma)\n",
      " |      Log normal distribution.\n",
      " |      \n",
      " |      If you take the natural logarithm of this distribution, you'll get a\n",
      " |      normal distribution with mean mu and standard deviation sigma.\n",
      " |      mu can have any value, and sigma must be greater than zero.\n",
      " |  \n",
      " |  normalvariate(self, mu=0.0, sigma=1.0)\n",
      " |      Normal distribution.\n",
      " |      \n",
      " |      mu is the mean, and sigma is the standard deviation.\n",
      " |  \n",
      " |  paretovariate(self, alpha)\n",
      " |      Pareto distribution.  alpha is the shape parameter.\n",
      " |  \n",
      " |  randbytes(self, n)\n",
      " |      Generate n random bytes.\n",
      " |  \n",
      " |  randint(self, a, b)\n",
      " |      Return random integer in range [a, b], including both end points.\n",
      " |  \n",
      " |  randrange(self, start, stop=None, step=1)\n",
      " |      Choose a random item from range(stop) or range(start, stop[, step]).\n",
      " |      \n",
      " |      Roughly equivalent to ``choice(range(start, stop, step))`` but\n",
      " |      supports arbitrarily large ranges and is optimized for common cases.\n",
      " |  \n",
      " |  sample(self, population, k, *, counts=None)\n",
      " |      Chooses k unique random elements from a population sequence.\n",
      " |      \n",
      " |      Returns a new list containing elements from the population while\n",
      " |      leaving the original population unchanged.  The resulting list is\n",
      " |      in selection order so that all sub-slices will also be valid random\n",
      " |      samples.  This allows raffle winners (the sample) to be partitioned\n",
      " |      into grand prize and second place winners (the subslices).\n",
      " |      \n",
      " |      Members of the population need not be hashable or unique.  If the\n",
      " |      population contains repeats, then each occurrence is a possible\n",
      " |      selection in the sample.\n",
      " |      \n",
      " |      Repeated elements can be specified one at a time or with the optional\n",
      " |      counts parameter.  For example:\n",
      " |      \n",
      " |          sample(['red', 'blue'], counts=[4, 2], k=5)\n",
      " |      \n",
      " |      is equivalent to:\n",
      " |      \n",
      " |          sample(['red', 'red', 'red', 'red', 'blue', 'blue'], k=5)\n",
      " |      \n",
      " |      To choose a sample from a range of integers, use range() for the\n",
      " |      population argument.  This is especially fast and space efficient\n",
      " |      for sampling from a large population:\n",
      " |      \n",
      " |          sample(range(10000000), 60)\n",
      " |  \n",
      " |  seed(self, a=None, version=2)\n",
      " |      Initialize internal state from a seed.\n",
      " |      \n",
      " |      The only supported seed types are None, int, float,\n",
      " |      str, bytes, and bytearray.\n",
      " |      \n",
      " |      None or no argument seeds from current time or from an operating\n",
      " |      system specific randomness source if available.\n",
      " |      \n",
      " |      If *a* is an int, all bits are used.\n",
      " |      \n",
      " |      For version 2 (the default), all of the bits are used if *a* is a str,\n",
      " |      bytes, or bytearray.  For version 1 (provided for reproducing random\n",
      " |      sequences from older versions of Python), the algorithm for str and\n",
      " |      bytes generates a narrower range of seeds.\n",
      " |  \n",
      " |  setstate(self, state)\n",
      " |      Restore internal state from object returned by getstate().\n",
      " |  \n",
      " |  shuffle(self, x)\n",
      " |      Shuffle list x in place, and return None.\n",
      " |  \n",
      " |  triangular(self, low=0.0, high=1.0, mode=None)\n",
      " |      Triangular distribution.\n",
      " |      \n",
      " |      Continuous distribution bounded by given lower and upper limits,\n",
      " |      and having a given mode value in-between.\n",
      " |      \n",
      " |      http://en.wikipedia.org/wiki/Triangular_distribution\n",
      " |  \n",
      " |  uniform(self, a, b)\n",
      " |      Get a random number in the range [a, b) or [a, b] depending on rounding.\n",
      " |  \n",
      " |  vonmisesvariate(self, mu, kappa)\n",
      " |      Circular data distribution.\n",
      " |      \n",
      " |      mu is the mean angle, expressed in radians between 0 and 2*pi, and\n",
      " |      kappa is the concentration parameter, which must be greater than or\n",
      " |      equal to zero.  If kappa is equal to zero, this distribution reduces\n",
      " |      to a uniform random angle over the range 0 to 2*pi.\n",
      " |  \n",
      " |  weibullvariate(self, alpha, beta)\n",
      " |      Weibull distribution.\n",
      " |      \n",
      " |      alpha is the scale parameter and beta is the shape parameter.\n",
      " |  \n",
      " |  ----------------------------------------------------------------------\n",
      " |  Class methods defined here:\n",
      " |  \n",
      " |  __init_subclass__(**kwargs) from builtins.type\n",
      " |      Control how subclasses generate random integers.\n",
      " |      \n",
      " |      The algorithm a subclass can use depends on the random() and/or\n",
      " |      getrandbits() implementation available to it and determines\n",
      " |      whether it can generate random integers from arbitrarily large\n",
      " |      ranges.\n",
      " |  \n",
      " |  ----------------------------------------------------------------------\n",
      " |  Data descriptors defined here:\n",
      " |  \n",
      " |  __dict__\n",
      " |      dictionary for instance variables\n",
      " |  \n",
      " |  __weakref__\n",
      " |      list of weak references to the object\n",
      " |  \n",
      " |  ----------------------------------------------------------------------\n",
      " |  Data and other attributes defined here:\n",
      " |  \n",
      " |  VERSION = 3\n",
      " |  \n",
      " |  ----------------------------------------------------------------------\n",
      " |  Methods inherited from _random.Random:\n",
      " |  \n",
      " |  getrandbits(self, k, /)\n",
      " |      getrandbits(k) -> x.  Generates an int with k random bits.\n",
      " |  \n",
      " |  random(self, /)\n",
      " |      random() -> x in the interval [0, 1).\n",
      " |  \n",
      " |  ----------------------------------------------------------------------\n",
      " |  Static methods inherited from _random.Random:\n",
      " |  \n",
      " |  __new__(*args, **kwargs) from builtins.type\n",
      " |      Create and return a new object.  See help(type) for accurate signature.\n",
      "\n"
     ]
    }
   ],
   "source": [
    "help(random.Random)"
   ]
  },
  {
   "cell_type": "code",
   "execution_count": 11,
   "id": "a806c902-6fbf-419d-95df-e611ffdee728",
   "metadata": {},
   "outputs": [
    {
     "data": {
      "text/plain": [
       "['BPF',\n",
       " 'LOG4',\n",
       " 'NV_MAGICCONST',\n",
       " 'RECIP_BPF',\n",
       " 'Random',\n",
       " 'SG_MAGICCONST',\n",
       " 'SystemRandom',\n",
       " 'TWOPI',\n",
       " '_ONE',\n",
       " '_Sequence',\n",
       " '_Set',\n",
       " '__all__',\n",
       " '__builtins__',\n",
       " '__cached__',\n",
       " '__doc__',\n",
       " '__file__',\n",
       " '__loader__',\n",
       " '__name__',\n",
       " '__package__',\n",
       " '__spec__',\n",
       " '_accumulate',\n",
       " '_acos',\n",
       " '_bisect',\n",
       " '_ceil',\n",
       " '_cos',\n",
       " '_e',\n",
       " '_exp',\n",
       " '_floor',\n",
       " '_index',\n",
       " '_inst',\n",
       " '_isfinite',\n",
       " '_log',\n",
       " '_os',\n",
       " '_pi',\n",
       " '_random',\n",
       " '_repeat',\n",
       " '_sha512',\n",
       " '_sin',\n",
       " '_sqrt',\n",
       " '_test',\n",
       " '_test_generator',\n",
       " '_urandom',\n",
       " '_warn',\n",
       " 'betavariate',\n",
       " 'choice',\n",
       " 'choices',\n",
       " 'expovariate',\n",
       " 'gammavariate',\n",
       " 'gauss',\n",
       " 'getrandbits',\n",
       " 'getstate',\n",
       " 'lognormvariate',\n",
       " 'normalvariate',\n",
       " 'paretovariate',\n",
       " 'randbytes',\n",
       " 'randint',\n",
       " 'random',\n",
       " 'randrange',\n",
       " 'sample',\n",
       " 'seed',\n",
       " 'setstate',\n",
       " 'shuffle',\n",
       " 'triangular',\n",
       " 'uniform',\n",
       " 'vonmisesvariate',\n",
       " 'weibullvariate']"
      ]
     },
     "execution_count": 11,
     "metadata": {},
     "output_type": "execute_result"
    }
   ],
   "source": [
    "dir(random)"
   ]
  },
  {
   "cell_type": "markdown",
   "id": "93bea4ad-9f7e-472e-9bda-d58cff72a0f4",
   "metadata": {},
   "source": [
    "**How to install the packages**"
   ]
  },
  {
   "cell_type": "code",
   "execution_count": null,
   "id": "366f1822-c98a-4ad6-ae23-369ffc9b1c6c",
   "metadata": {},
   "outputs": [],
   "source": [
    "# package name: cv2 : image read \n",
    "               # Computer vision\n",
    "# package name: streamlit\n",
    "              # Creating applications\n",
    "# package name: flask\n",
    "             # flask for API testing\n",
    "\n",
    "# Lucky :  not able to install\n",
    "# unlucky : Can instal\n",
    "# In order to install we need internet\n",
    "# while you are installing suppose : http "
   ]
  },
  {
   "cell_type": "markdown",
   "id": "c4687d8d-83f0-4d83-bc97-3ee48a3c9787",
   "metadata": {},
   "source": [
    "- To install packages we need a terminal\n",
    "\n",
    "- In our laptop : **Anaconda prompt**\n",
    "\n",
    "- all the installations will use only one command\n",
    "\n",
    "    - pip install packagename\n",
    "\n",
    "- some times the import package name and installation package name might be different\n",
    "\n",
    "- 90% both names are same"
   ]
  },
  {
   "cell_type": "code",
   "execution_count": 13,
   "id": "4cf47e61-6cac-4ee4-83a2-864b645181af",
   "metadata": {},
   "outputs": [],
   "source": [
    "import cv2"
   ]
  },
  {
   "cell_type": "code",
   "execution_count": null,
   "id": "37e870ab-e467-4c75-a82d-675d9646bc0a",
   "metadata": {},
   "outputs": [],
   "source": [
    "# error no module name cv2\n",
    "# in the google : install cv2\n",
    "# check in python organization: PYPI\n",
    "\n",
    "\n",
    "pip install opencv-python\n",
    "pip install opencv-python\n",
    "pip install streamlit"
   ]
  },
  {
   "cell_type": "code",
   "execution_count": 14,
   "id": "3fcd0d3f-d5a9-491c-bfbb-d81c3ae362c2",
   "metadata": {},
   "outputs": [],
   "source": [
    "import streamlit"
   ]
  },
  {
   "cell_type": "code",
   "execution_count": 15,
   "id": "09cdceea-67c5-4cd4-8fe5-895cf1d86c12",
   "metadata": {},
   "outputs": [
    {
     "ename": "ModuleNotFoundError",
     "evalue": "No module named 'Flask'",
     "output_type": "error",
     "traceback": [
      "\u001b[1;31m---------------------------------------------------------------------------\u001b[0m",
      "\u001b[1;31mModuleNotFoundError\u001b[0m                       Traceback (most recent call last)",
      "Cell \u001b[1;32mIn[15], line 1\u001b[0m\n\u001b[1;32m----> 1\u001b[0m \u001b[38;5;28;01mimport\u001b[39;00m \u001b[38;5;21;01mFlask\u001b[39;00m\n",
      "\u001b[1;31mModuleNotFoundError\u001b[0m: No module named 'Flask'"
     ]
    }
   ],
   "source": [
    "import Flask"
   ]
  },
  {
   "cell_type": "code",
   "execution_count": 16,
   "id": "e2c53751-8ca9-47ab-a006-761e3b2d55d2",
   "metadata": {},
   "outputs": [],
   "source": [
    "import flask"
   ]
  },
  {
   "cell_type": "code",
   "execution_count": 19,
   "id": "601af30d-fb27-4ae1-bddb-97ad8cc32d41",
   "metadata": {},
   "outputs": [],
   "source": [
    "import cv2"
   ]
  },
  {
   "cell_type": "code",
   "execution_count": null,
   "id": "d0f8aa08-e1bf-42bd-9b17-527705e9d289",
   "metadata": {},
   "outputs": [],
   "source": [
    "# Those who are feeling\n",
    "# It is installed but It is not running\n",
    "# are you seeing error>\n",
    "# Whenever you import any packages it will not print\n",
    "# If it is not installed , then only error will display"
   ]
  },
  {
   "cell_type": "markdown",
   "id": "2741753d-209b-48c7-97bd-fd8e1d083df5",
   "metadata": {},
   "source": [
    "**Method-2**\n",
    "\n",
    "- we can install packages in the notebook itself\n",
    "\n",
    "- the only difference is add ! before pip"
   ]
  },
  {
   "cell_type": "code",
   "execution_count": 20,
   "id": "481cb365-4317-41f9-a3f8-97ffb0fb1dc0",
   "metadata": {},
   "outputs": [
    {
     "name": "stdout",
     "output_type": "stream",
     "text": [
      "Requirement already satisfied: opencv-python in c:\\users\\omkar\\anaconda3\\lib\\site-packages (4.9.0.80)\n",
      "Requirement already satisfied: numpy>=1.21.2 in c:\\users\\omkar\\anaconda3\\lib\\site-packages (from opencv-python) (1.26.4)\n"
     ]
    }
   ],
   "source": [
    "!pip install opencv-python"
   ]
  },
  {
   "cell_type": "markdown",
   "id": "e14e2a78-83d5-4d1a-808f-9174157d6206",
   "metadata": {},
   "source": [
    "- Those who are installed \n",
    "\n",
    "- but still showing the error\n",
    "\n",
    "- close it and open it "
   ]
  },
  {
   "cell_type": "code",
   "execution_count": 21,
   "id": "a0561b21-6304-4de3-ae18-f21fe3fb93ce",
   "metadata": {},
   "outputs": [],
   "source": [
    "# Packag name: tensorflow developed by Google\n",
    "\n",
    "# Http error:  Internet error\n",
    "# Could not satisfy the version\n",
    "\n",
    "import tensorflow"
   ]
  },
  {
   "cell_type": "markdown",
   "id": "7ede965a-c11e-4ac3-a35b-ed68c1924668",
   "metadata": {},
   "source": [
    "- Http error:  Internet error\n",
    "  \n",
    "- Could not satisfy the version\n",
    "  \n",
    "- In the future also we will get installation error\n",
    "\n",
    "- Thats why many people will do using google colab only\n",
    "\n",
    "    - we need to create a virtual enviornment\n",
    "\n",
    "    - we will use google colab"
   ]
  },
  {
   "cell_type": "markdown",
   "id": "0f209bf2-239f-45e5-91ff-a6468a1b7630",
   "metadata": {},
   "source": [
    "- We know what is the meaning package\n",
    "\n",
    "- we know how to import the package\n",
    "\n",
    "- we know how to find the methods of the packages\n",
    "\n",
    "- we know how to understand the use of method\n",
    "\n",
    "- we know how to install the package"
   ]
  },
  {
   "cell_type": "code",
   "execution_count": 22,
   "id": "0ce7a92d-77dc-4cd1-b4ed-c874e65f7e48",
   "metadata": {},
   "outputs": [
    {
     "data": {
      "text/plain": [
       "3.141592653589793"
      ]
     },
     "execution_count": 22,
     "metadata": {},
     "output_type": "execute_result"
    }
   ],
   "source": [
    "math.pi"
   ]
  },
  {
   "cell_type": "code",
   "execution_count": 23,
   "id": "6081ab60-0fbb-4fe5-bf7b-4c11b64864e4",
   "metadata": {},
   "outputs": [
    {
     "ename": "TypeError",
     "evalue": "eval() arg 1 must be a string, bytes or code object",
     "output_type": "error",
     "traceback": [
      "\u001b[1;31m---------------------------------------------------------------------------\u001b[0m",
      "\u001b[1;31mTypeError\u001b[0m                                 Traceback (most recent call last)",
      "Cell \u001b[1;32mIn[23], line 1\u001b[0m\n\u001b[1;32m----> 1\u001b[0m \u001b[38;5;28meval\u001b[39m(math\u001b[38;5;241m.\u001b[39mpi)\n",
      "\u001b[1;31mTypeError\u001b[0m: eval() arg 1 must be a string, bytes or code object"
     ]
    }
   ],
   "source": [
    "eval(math.pi)"
   ]
  },
  {
   "cell_type": "code",
   "execution_count": 24,
   "id": "656aac2e-0a7e-4c09-81ea-c0eca7297a39",
   "metadata": {},
   "outputs": [
    {
     "name": "stdin",
     "output_type": "stream",
     "text": [
      " 3.1456\n"
     ]
    },
    {
     "data": {
      "text/plain": [
       "3.1456"
      ]
     },
     "execution_count": 24,
     "metadata": {},
     "output_type": "execute_result"
    }
   ],
   "source": [
    "eval(input())\n",
    "\n",
    "# eval('3.1456')"
   ]
  },
  {
   "cell_type": "code",
   "execution_count": 25,
   "id": "a2679ae4-9455-4c27-b2e1-8a81db0a6391",
   "metadata": {},
   "outputs": [
    {
     "data": {
      "text/plain": [
       "3.1456"
      ]
     },
     "execution_count": 25,
     "metadata": {},
     "output_type": "execute_result"
    }
   ],
   "source": [
    "eval('3.1456')"
   ]
  },
  {
   "cell_type": "code",
   "execution_count": 26,
   "id": "05d780f3-4f7a-4d37-97aa-e208fe5468e2",
   "metadata": {},
   "outputs": [
    {
     "ename": "TypeError",
     "evalue": "eval expected at least 1 argument, got 0",
     "output_type": "error",
     "traceback": [
      "\u001b[1;31m---------------------------------------------------------------------------\u001b[0m",
      "\u001b[1;31mTypeError\u001b[0m                                 Traceback (most recent call last)",
      "Cell \u001b[1;32mIn[26], line 1\u001b[0m\n\u001b[1;32m----> 1\u001b[0m \u001b[38;5;28meval\u001b[39m()\n",
      "\u001b[1;31mTypeError\u001b[0m: eval expected at least 1 argument, got 0"
     ]
    }
   ],
   "source": [
    "eval()"
   ]
  },
  {
   "cell_type": "code",
   "execution_count": 27,
   "id": "35413652-7616-49cb-a063-be6e4f72a951",
   "metadata": {},
   "outputs": [
    {
     "ename": "TypeError",
     "evalue": "eval() arg 1 must be a string, bytes or code object",
     "output_type": "error",
     "traceback": [
      "\u001b[1;31m---------------------------------------------------------------------------\u001b[0m",
      "\u001b[1;31mTypeError\u001b[0m                                 Traceback (most recent call last)",
      "Cell \u001b[1;32mIn[27], line 1\u001b[0m\n\u001b[1;32m----> 1\u001b[0m \u001b[38;5;28meval\u001b[39m(\u001b[38;5;241m10\u001b[39m)\n",
      "\u001b[1;31mTypeError\u001b[0m: eval() arg 1 must be a string, bytes or code object"
     ]
    }
   ],
   "source": [
    "eval(10)"
   ]
  },
  {
   "cell_type": "code",
   "execution_count": 28,
   "id": "fd08275a-d90d-47f3-ae81-42492356c1d6",
   "metadata": {},
   "outputs": [
    {
     "ename": "NameError",
     "evalue": "name 'ten' is not defined",
     "output_type": "error",
     "traceback": [
      "\u001b[1;31m---------------------------------------------------------------------------\u001b[0m",
      "\u001b[1;31mNameError\u001b[0m                                 Traceback (most recent call last)",
      "Cell \u001b[1;32mIn[28], line 1\u001b[0m\n\u001b[1;32m----> 1\u001b[0m \u001b[38;5;28meval\u001b[39m(\u001b[38;5;124m'\u001b[39m\u001b[38;5;124mten\u001b[39m\u001b[38;5;124m'\u001b[39m)\n",
      "File \u001b[1;32m<string>:1\u001b[0m\n",
      "\u001b[1;31mNameError\u001b[0m: name 'ten' is not defined"
     ]
    }
   ],
   "source": [
    "eval('ten')"
   ]
  },
  {
   "cell_type": "code",
   "execution_count": 32,
   "id": "929b64a7-0157-4cd5-8a5d-e1cc5531f73e",
   "metadata": {},
   "outputs": [
    {
     "ename": "NameError",
     "evalue": "name 'ten' is not defined",
     "output_type": "error",
     "traceback": [
      "\u001b[1;31m---------------------------------------------------------------------------\u001b[0m",
      "\u001b[1;31mNameError\u001b[0m                                 Traceback (most recent call last)",
      "Cell \u001b[1;32mIn[32], line 1\u001b[0m\n\u001b[1;32m----> 1\u001b[0m \u001b[38;5;28meval\u001b[39m(\u001b[38;5;124m'\u001b[39m\u001b[38;5;124mten\u001b[39m\u001b[38;5;124m'\u001b[39m)\n",
      "File \u001b[1;32m<string>:1\u001b[0m\n",
      "\u001b[1;31mNameError\u001b[0m: name 'ten' is not defined"
     ]
    }
   ],
   "source": [
    "eval('ten')"
   ]
  },
  {
   "cell_type": "code",
   "execution_count": null,
   "id": "2176d5d6-3965-4bb1-b200-87d627bd26d9",
   "metadata": {},
   "outputs": [],
   "source": [
    "eval\n",
    "eval()\n",
    "eval(10)\n",
    "eval('ten')\n",
    "eval('10')"
   ]
  },
  {
   "cell_type": "code",
   "execution_count": 1,
   "id": "e6781295-285f-41fd-9608-cafeec5114bf",
   "metadata": {},
   "outputs": [],
   "source": [
    "#Package name: keyword\n",
    "import keyword"
   ]
  },
  {
   "cell_type": "code",
   "execution_count": 2,
   "id": "1b351949-7ae5-45b3-af5f-79bbf545e090",
   "metadata": {},
   "outputs": [
    {
     "data": {
      "text/plain": [
       "['__all__',\n",
       " '__builtins__',\n",
       " '__cached__',\n",
       " '__doc__',\n",
       " '__file__',\n",
       " '__loader__',\n",
       " '__name__',\n",
       " '__package__',\n",
       " '__spec__',\n",
       " 'iskeyword',\n",
       " 'issoftkeyword',\n",
       " 'kwlist',\n",
       " 'softkwlist']"
      ]
     },
     "execution_count": 2,
     "metadata": {},
     "output_type": "execute_result"
    }
   ],
   "source": [
    "dir(keyword)"
   ]
  },
  {
   "cell_type": "code",
   "execution_count": 4,
   "id": "9f74fc39-a01b-4bcd-9a6c-df83cbfe585b",
   "metadata": {},
   "outputs": [
    {
     "data": {
      "text/plain": [
       "35"
      ]
     },
     "execution_count": 4,
     "metadata": {},
     "output_type": "execute_result"
    }
   ],
   "source": [
    "len(keyword.kwlist)"
   ]
  },
  {
   "cell_type": "code",
   "execution_count": 5,
   "id": "f09c1585-912f-42de-b592-bcc4c6fc2e6a",
   "metadata": {},
   "outputs": [
    {
     "data": {
      "text/plain": [
       "['False',\n",
       " 'None',\n",
       " 'True',\n",
       " 'and',\n",
       " 'as',\n",
       " 'assert',\n",
       " 'async',\n",
       " 'await',\n",
       " 'break',\n",
       " 'class',\n",
       " 'continue',\n",
       " 'def',\n",
       " 'del',\n",
       " 'elif',\n",
       " 'else',\n",
       " 'except',\n",
       " 'finally',\n",
       " 'for',\n",
       " 'from',\n",
       " 'global',\n",
       " 'if',\n",
       " 'import',\n",
       " 'in',\n",
       " 'is',\n",
       " 'lambda',\n",
       " 'nonlocal',\n",
       " 'not',\n",
       " 'or',\n",
       " 'pass',\n",
       " 'raise',\n",
       " 'return',\n",
       " 'try',\n",
       " 'while',\n",
       " 'with',\n",
       " 'yield']"
      ]
     },
     "execution_count": 5,
     "metadata": {},
     "output_type": "execute_result"
    }
   ],
   "source": [
    "keyword.kwlist"
   ]
  },
  {
   "cell_type": "code",
   "execution_count": null,
   "id": "a2084a51-b77e-4563-84ce-6fc2818b1782",
   "metadata": {},
   "outputs": [],
   "source": [
    "in\n",
    "as\n",
    "True\n",
    "False\n",
    "if\n",
    "else\n",
    "elif\n",
    "for\n",
    "while\n",
    "break\n",
    "or\n",
    "not\n"
   ]
  }
 ],
 "metadata": {
  "kernelspec": {
   "display_name": "Python 3 (ipykernel)",
   "language": "python",
   "name": "python3"
  },
  "language_info": {
   "codemirror_mode": {
    "name": "ipython",
    "version": 3
   },
   "file_extension": ".py",
   "mimetype": "text/x-python",
   "name": "python",
   "nbconvert_exporter": "python",
   "pygments_lexer": "ipython3",
   "version": "3.11.7"
  }
 },
 "nbformat": 4,
 "nbformat_minor": 5
}
