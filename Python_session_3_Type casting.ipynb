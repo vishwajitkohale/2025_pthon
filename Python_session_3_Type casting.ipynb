{
 "cells": [
  {
   "cell_type": "markdown",
   "id": "ff0f4aa1-a845-41fb-b70b-f31ee89a4a0c",
   "metadata": {},
   "source": [
    "- integer ==== int\n",
    "\n",
    "- float  ==== float\n",
    "\n",
    "- string  === str\n",
    "\n",
    "- boolean  === bool"
   ]
  },
  {
   "cell_type": "markdown",
   "id": "a3719c1e-fdc7-4ae4-8100-1a1fa0994126",
   "metadata": {},
   "source": [
    "**Integer to other data types**"
   ]
  },
  {
   "cell_type": "code",
   "execution_count": 1,
   "id": "57181425-aa37-42da-8102-aadcdffc6aa0",
   "metadata": {},
   "outputs": [
    {
     "data": {
      "text/plain": [
       "int"
      ]
     },
     "execution_count": 1,
     "metadata": {},
     "output_type": "execute_result"
    }
   ],
   "source": [
    "num1=100\n",
    "type(num1)"
   ]
  },
  {
   "cell_type": "code",
   "execution_count": 3,
   "id": "567257dc-6c62-45ec-a68a-7249f0451520",
   "metadata": {},
   "outputs": [
    {
     "data": {
      "text/plain": [
       "100.0"
      ]
     },
     "execution_count": 3,
     "metadata": {},
     "output_type": "execute_result"
    }
   ],
   "source": [
    "num_float=float(num1)\n",
    "num_float"
   ]
  },
  {
   "cell_type": "code",
   "execution_count": 4,
   "id": "3c5907df-8fc7-42b7-8279-4d55b15713d9",
   "metadata": {},
   "outputs": [
    {
     "data": {
      "text/plain": [
       "float"
      ]
     },
     "execution_count": 4,
     "metadata": {},
     "output_type": "execute_result"
    }
   ],
   "source": [
    "type(num_float)"
   ]
  },
  {
   "cell_type": "markdown",
   "id": "d7a5f9b0-9cdc-4bdb-9f29-edca5ef870ee",
   "metadata": {},
   "source": [
    "- num1 is a variable, stored value: 100\n",
    "\n",
    "- num1 is an integer type\n",
    "\n",
    "- to convert float,  float(num1)\n",
    "\n",
    "- float(num1) gives 100.0\n",
    "\n",
    "- float(num1) stored in a variable: num_float\n",
    "\n",
    "- num_float is float type"
   ]
  },
  {
   "cell_type": "code",
   "execution_count": 7,
   "id": "dcd94a67-2f86-4496-b303-0f6b76aad6e0",
   "metadata": {},
   "outputs": [
    {
     "data": {
      "text/plain": [
       "10"
      ]
     },
     "execution_count": 7,
     "metadata": {},
     "output_type": "execute_result"
    }
   ],
   "source": [
    "python"
   ]
  },
  {
   "cell_type": "code",
   "execution_count": 6,
   "id": "77293388-438c-4e2e-afc5-08fc690117aa",
   "metadata": {},
   "outputs": [],
   "source": [
    "python=10"
   ]
  },
  {
   "cell_type": "code",
   "execution_count": 8,
   "id": "8115b9e6-7369-4af6-bcbf-4c95343bc3af",
   "metadata": {},
   "outputs": [
    {
     "ename": "NameError",
     "evalue": "name 'naresh' is not defined",
     "output_type": "error",
     "traceback": [
      "\u001b[1;31m---------------------------------------------------------------------------\u001b[0m",
      "\u001b[1;31mNameError\u001b[0m                                 Traceback (most recent call last)",
      "Cell \u001b[1;32mIn[8], line 1\u001b[0m\n\u001b[1;32m----> 1\u001b[0m naresh\n",
      "\u001b[1;31mNameError\u001b[0m: name 'naresh' is not defined"
     ]
    }
   ],
   "source": [
    "naresh"
   ]
  },
  {
   "cell_type": "markdown",
   "id": "2be80d98-779c-4ce6-80be-20b6d5747fa3",
   "metadata": {},
   "source": [
    "**Name error**\n",
    "\n",
    "- whenever if we see name error means that corresponding variable not intialized\n",
    "\n",
    "- For example in above naresh is a variable\n",
    "\n",
    "- Is Not defined before, thats why we are getting error\n",
    "\n",
    "- So go above the lines and search for variable: naresh\n",
    "\n",
    "- if you fell that is already defined then run again\n"
   ]
  },
  {
   "cell_type": "code",
   "execution_count": 10,
   "id": "f5ad64d1-6f74-4a31-98b0-8f48558c0564",
   "metadata": {},
   "outputs": [
    {
     "data": {
      "text/plain": [
       "'100'"
      ]
     },
     "execution_count": 10,
     "metadata": {},
     "output_type": "execute_result"
    }
   ],
   "source": [
    "# Integer to string conversion\n",
    "num1=100\n",
    "num_string=str(num1)\n",
    "num_string"
   ]
  },
  {
   "cell_type": "code",
   "execution_count": 11,
   "id": "94855554-6bb0-46f5-90d0-09481fe8e23e",
   "metadata": {},
   "outputs": [
    {
     "data": {
      "text/plain": [
       "str"
      ]
     },
     "execution_count": 11,
     "metadata": {},
     "output_type": "execute_result"
    }
   ],
   "source": [
    "type(num_string)"
   ]
  },
  {
   "cell_type": "code",
   "execution_count": 12,
   "id": "078bf16d-b0e4-436a-bf4b-8197054ff111",
   "metadata": {},
   "outputs": [
    {
     "data": {
      "text/plain": [
       "True"
      ]
     },
     "execution_count": 12,
     "metadata": {},
     "output_type": "execute_result"
    }
   ],
   "source": [
    "# Integer to bool conversion\n",
    "num1=100\n",
    "num_bool=bool(num1)\n",
    "num_bool"
   ]
  },
  {
   "cell_type": "code",
   "execution_count": 13,
   "id": "03e9bd6e-affa-4d7a-b705-5a3b27eb06e7",
   "metadata": {},
   "outputs": [
    {
     "data": {
      "text/plain": [
       "bool"
      ]
     },
     "execution_count": 13,
     "metadata": {},
     "output_type": "execute_result"
    }
   ],
   "source": [
    "type(num_bool)"
   ]
  },
  {
   "cell_type": "code",
   "execution_count": 14,
   "id": "de780c77-8158-4aed-8378-c4d09ac8f672",
   "metadata": {},
   "outputs": [
    {
     "data": {
      "text/plain": [
       "True"
      ]
     },
     "execution_count": 14,
     "metadata": {},
     "output_type": "execute_result"
    }
   ],
   "source": [
    "num2=-100\n",
    "num2_bool=bool(num2)\n",
    "num2_bool"
   ]
  },
  {
   "cell_type": "code",
   "execution_count": 15,
   "id": "f2037363-3aa6-4f64-b713-5f53b81fcafd",
   "metadata": {},
   "outputs": [
    {
     "data": {
      "text/plain": [
       "False"
      ]
     },
     "execution_count": 15,
     "metadata": {},
     "output_type": "execute_result"
    }
   ],
   "source": [
    "num3=0\n",
    "num3_bool=bool(num3)\n",
    "num3_bool"
   ]
  },
  {
   "cell_type": "markdown",
   "id": "2cd87c0c-16e4-44b1-ab47-0a64a6ca9c97",
   "metadata": {},
   "source": [
    "**Note**\n",
    "\n",
    "- When boolean conversion of integer gives False\n",
    "\n",
    "    - For  0 value , It gives Flase"
   ]
  },
  {
   "cell_type": "code",
   "execution_count": 16,
   "id": "89e7b669-e3b0-44ad-8f33-a7eb3b4fca05",
   "metadata": {},
   "outputs": [
    {
     "data": {
      "text/plain": [
       "(100.0, '100', True)"
      ]
     },
     "execution_count": 16,
     "metadata": {},
     "output_type": "execute_result"
    }
   ],
   "source": [
    "num1=100\n",
    "num1_float=float(num1)\n",
    "num1_str=str(num1)\n",
    "num1_bool=bool(num1)\n",
    "num1_float,num1_str,num1_bool"
   ]
  },
  {
   "cell_type": "code",
   "execution_count": 17,
   "id": "965a3951-a12f-4f06-8297-c6ee341db97a",
   "metadata": {},
   "outputs": [
    {
     "data": {
      "text/plain": [
       "(1000.0, '1000', True)"
      ]
     },
     "execution_count": 17,
     "metadata": {},
     "output_type": "execute_result"
    }
   ],
   "source": [
    "float(1000),str(1000),bool(1000)"
   ]
  },
  {
   "cell_type": "code",
   "execution_count": 20,
   "id": "ed159b92-38ad-4ea2-be79-368122b4a7a7",
   "metadata": {},
   "outputs": [
    {
     "data": {
      "text/plain": [
       "(10, 20, 30)"
      ]
     },
     "execution_count": 20,
     "metadata": {},
     "output_type": "execute_result"
    }
   ],
   "source": [
    "10,20,30"
   ]
  },
  {
   "cell_type": "markdown",
   "id": "587477e1-1161-4397-bf83-7e956db3960c",
   "metadata": {},
   "source": [
    "**Float to other data types**"
   ]
  },
  {
   "cell_type": "code",
   "execution_count": 24,
   "id": "27297a05-e42b-45d9-98e1-759837d1d071",
   "metadata": {},
   "outputs": [
    {
     "data": {
      "text/plain": [
       "(100, '100.5', True)"
      ]
     },
     "execution_count": 24,
     "metadata": {},
     "output_type": "execute_result"
    }
   ],
   "source": [
    "num1=100.5  # Float\n",
    "num1_int=int(num1)\n",
    "num1_str=str(num1)\n",
    "num1_bool=bool(num1)\n",
    "num1_int,num1_str,num1_bool"
   ]
  },
  {
   "cell_type": "code",
   "execution_count": 23,
   "id": "5dee18d7-890a-4cc0-b829-6c5b4604bdf8",
   "metadata": {},
   "outputs": [
    {
     "name": "stdout",
     "output_type": "stream",
     "text": [
      "100\n"
     ]
    }
   ],
   "source": [
    "print(num1_str)"
   ]
  },
  {
   "cell_type": "markdown",
   "id": "06c7c7ae-20a8-4972-8919-49c8a39f0357",
   "metadata": {},
   "source": [
    "- first mistake conversion\n",
    "\n",
    "- printing the string value\n",
    "\n",
    "- providing some gap"
   ]
  },
  {
   "cell_type": "code",
   "execution_count": 25,
   "id": "719aea06-b4f4-404a-b211-1b315bfb59b5",
   "metadata": {},
   "outputs": [
    {
     "data": {
      "text/plain": [
       "(0, '0.0', False)"
      ]
     },
     "execution_count": 25,
     "metadata": {},
     "output_type": "execute_result"
    }
   ],
   "source": [
    "int(0.0),str(0.0),bool(0.0)"
   ]
  },
  {
   "cell_type": "markdown",
   "id": "2991fa5e-8a7e-4e2f-842c-b3e4bfe180b2",
   "metadata": {},
   "source": [
    "**String to other data type**"
   ]
  },
  {
   "cell_type": "code",
   "execution_count": 42,
   "id": "dbc29b4d-f8e1-468d-8d05-4d5bf2918dce",
   "metadata": {},
   "outputs": [
    {
     "ename": "ValueError",
     "evalue": "invalid literal for int() with base 10: 'apple'",
     "output_type": "error",
     "traceback": [
      "\u001b[1;31m---------------------------------------------------------------------------\u001b[0m",
      "\u001b[1;31mValueError\u001b[0m                                Traceback (most recent call last)",
      "Cell \u001b[1;32mIn[42], line 3\u001b[0m\n\u001b[0;32m      1\u001b[0m \u001b[38;5;66;03m# Case-1:\u001b[39;00m\n\u001b[0;32m      2\u001b[0m \u001b[38;5;28mstr\u001b[39m\u001b[38;5;241m=\u001b[39m\u001b[38;5;124m'\u001b[39m\u001b[38;5;124mapple\u001b[39m\u001b[38;5;124m'\u001b[39m\n\u001b[1;32m----> 3\u001b[0m \u001b[38;5;28mint\u001b[39m(\u001b[38;5;124m'\u001b[39m\u001b[38;5;124mapple\u001b[39m\u001b[38;5;124m'\u001b[39m) \u001b[38;5;66;03m# error\u001b[39;00m\n\u001b[0;32m      4\u001b[0m \u001b[38;5;28mfloat\u001b[39m(\u001b[38;5;124m'\u001b[39m\u001b[38;5;124mapple\u001b[39m\u001b[38;5;124m'\u001b[39m) \u001b[38;5;66;03m# error\u001b[39;00m\n\u001b[0;32m      5\u001b[0m \u001b[38;5;28mbool\u001b[39m(\u001b[38;5;124m'\u001b[39m\u001b[38;5;124mapple\u001b[39m\u001b[38;5;124m'\u001b[39m)\n",
      "\u001b[1;31mValueError\u001b[0m: invalid literal for int() with base 10: 'apple'"
     ]
    }
   ],
   "source": [
    "# Case-1:\n",
    "str='apple'\n",
    "int('apple') # error\n",
    "float('apple') # error\n",
    "bool('apple')  # True"
   ]
  },
  {
   "cell_type": "code",
   "execution_count": null,
   "id": "f8cdc4fd-5aaa-4b40-a608-72607081e388",
   "metadata": {},
   "outputs": [],
   "source": [
    "# Case-2:\n",
    "str='apple123'\n",
    "int('apple123') # Error\n",
    "float('apple123') # Error\n",
    "bool('apple123')  # True"
   ]
  },
  {
   "cell_type": "code",
   "execution_count": null,
   "id": "456cb091-ce0f-4db6-a4f3-f1a5763bedcb",
   "metadata": {},
   "outputs": [],
   "source": [
    "# Case-3:\n",
    "str='0'\n",
    "int('0') # 0\n",
    "float('0') # 0.0\n",
    "bool('0')  # True "
   ]
  },
  {
   "cell_type": "code",
   "execution_count": null,
   "id": "85addc6e-940f-4fe3-b957-4140f366f042",
   "metadata": {},
   "outputs": [],
   "source": [
    "# Case-4:\n",
    "str=''\n",
    "int('') # error\n",
    "float('') # error\n",
    "bool('')  # False"
   ]
  },
  {
   "cell_type": "code",
   "execution_count": null,
   "id": "7590814e-e4ce-4f56-98c0-fc7cac482242",
   "metadata": {},
   "outputs": [],
   "source": [
    "# Case-5:\n",
    "str='10'\n",
    "int('10') # 10\n",
    "float('10') # 10.0\n",
    "bool('10')  # True "
   ]
  },
  {
   "cell_type": "code",
   "execution_count": 28,
   "id": "7db8aa8e-7c66-429f-9936-7ed8ca9b93bf",
   "metadata": {},
   "outputs": [
    {
     "ename": "ValueError",
     "evalue": "invalid literal for int() with base 10: 'apple'",
     "output_type": "error",
     "traceback": [
      "\u001b[1;31m---------------------------------------------------------------------------\u001b[0m",
      "\u001b[1;31mValueError\u001b[0m                                Traceback (most recent call last)",
      "Cell \u001b[1;32mIn[28], line 1\u001b[0m\n\u001b[1;32m----> 1\u001b[0m \u001b[38;5;28mint\u001b[39m(\u001b[38;5;124m'\u001b[39m\u001b[38;5;124mapple\u001b[39m\u001b[38;5;124m'\u001b[39m)\n",
      "\u001b[1;31mValueError\u001b[0m: invalid literal for int() with base 10: 'apple'"
     ]
    }
   ],
   "source": [
    "int('apple')"
   ]
  },
  {
   "cell_type": "code",
   "execution_count": 29,
   "id": "fdc049d1-a4e1-4e02-bbf8-fd2485be91db",
   "metadata": {},
   "outputs": [
    {
     "ename": "ValueError",
     "evalue": "could not convert string to float: 'apple'",
     "output_type": "error",
     "traceback": [
      "\u001b[1;31m---------------------------------------------------------------------------\u001b[0m",
      "\u001b[1;31mValueError\u001b[0m                                Traceback (most recent call last)",
      "Cell \u001b[1;32mIn[29], line 1\u001b[0m\n\u001b[1;32m----> 1\u001b[0m \u001b[38;5;28mfloat\u001b[39m(\u001b[38;5;124m'\u001b[39m\u001b[38;5;124mapple\u001b[39m\u001b[38;5;124m'\u001b[39m)\n",
      "\u001b[1;31mValueError\u001b[0m: could not convert string to float: 'apple'"
     ]
    }
   ],
   "source": [
    "float('apple') "
   ]
  },
  {
   "cell_type": "code",
   "execution_count": 27,
   "id": "5294d500-5844-4fc7-bd91-cf0914a83ac8",
   "metadata": {},
   "outputs": [
    {
     "data": {
      "text/plain": [
       "True"
      ]
     },
     "execution_count": 27,
     "metadata": {},
     "output_type": "execute_result"
    }
   ],
   "source": [
    "bool('apple') "
   ]
  },
  {
   "cell_type": "code",
   "execution_count": 30,
   "id": "0a502d0d-f24d-42b9-8192-eb87a628c84d",
   "metadata": {},
   "outputs": [
    {
     "ename": "ValueError",
     "evalue": "invalid literal for int() with base 10: 'apple123'",
     "output_type": "error",
     "traceback": [
      "\u001b[1;31m---------------------------------------------------------------------------\u001b[0m",
      "\u001b[1;31mValueError\u001b[0m                                Traceback (most recent call last)",
      "Cell \u001b[1;32mIn[30], line 1\u001b[0m\n\u001b[1;32m----> 1\u001b[0m \u001b[38;5;28mint\u001b[39m(\u001b[38;5;124m'\u001b[39m\u001b[38;5;124mapple123\u001b[39m\u001b[38;5;124m'\u001b[39m)\n",
      "\u001b[1;31mValueError\u001b[0m: invalid literal for int() with base 10: 'apple123'"
     ]
    }
   ],
   "source": [
    "int('apple123')"
   ]
  },
  {
   "cell_type": "code",
   "execution_count": 31,
   "id": "22394838-df13-49c6-9e6b-c47564074911",
   "metadata": {},
   "outputs": [
    {
     "ename": "ValueError",
     "evalue": "could not convert string to float: 'apple123'",
     "output_type": "error",
     "traceback": [
      "\u001b[1;31m---------------------------------------------------------------------------\u001b[0m",
      "\u001b[1;31mValueError\u001b[0m                                Traceback (most recent call last)",
      "Cell \u001b[1;32mIn[31], line 1\u001b[0m\n\u001b[1;32m----> 1\u001b[0m \u001b[38;5;28mfloat\u001b[39m(\u001b[38;5;124m'\u001b[39m\u001b[38;5;124mapple123\u001b[39m\u001b[38;5;124m'\u001b[39m)\n",
      "\u001b[1;31mValueError\u001b[0m: could not convert string to float: 'apple123'"
     ]
    }
   ],
   "source": [
    "float('apple123')"
   ]
  },
  {
   "cell_type": "code",
   "execution_count": 32,
   "id": "6c5180ab-4f00-4c09-931a-c9ad09e8967f",
   "metadata": {},
   "outputs": [
    {
     "data": {
      "text/plain": [
       "True"
      ]
     },
     "execution_count": 32,
     "metadata": {},
     "output_type": "execute_result"
    }
   ],
   "source": [
    "bool('apple123')"
   ]
  },
  {
   "cell_type": "code",
   "execution_count": 33,
   "id": "4417539a-a837-437a-ba02-3d07fcd66cde",
   "metadata": {},
   "outputs": [
    {
     "data": {
      "text/plain": [
       "0"
      ]
     },
     "execution_count": 33,
     "metadata": {},
     "output_type": "execute_result"
    }
   ],
   "source": [
    "int('0')"
   ]
  },
  {
   "cell_type": "code",
   "execution_count": 34,
   "id": "4a175ee7-5a93-4d6e-b4cf-6fba579e3f00",
   "metadata": {},
   "outputs": [
    {
     "data": {
      "text/plain": [
       "0.0"
      ]
     },
     "execution_count": 34,
     "metadata": {},
     "output_type": "execute_result"
    }
   ],
   "source": [
    "float('0')"
   ]
  },
  {
   "cell_type": "code",
   "execution_count": 35,
   "id": "caeccef2-ce57-4850-b7ce-964d728b0520",
   "metadata": {},
   "outputs": [
    {
     "data": {
      "text/plain": [
       "True"
      ]
     },
     "execution_count": 35,
     "metadata": {},
     "output_type": "execute_result"
    }
   ],
   "source": [
    "bool('0')"
   ]
  },
  {
   "cell_type": "code",
   "execution_count": 36,
   "id": "c0fc2f85-0d4d-4d5c-b765-069f1e5f4133",
   "metadata": {},
   "outputs": [
    {
     "ename": "ValueError",
     "evalue": "invalid literal for int() with base 10: ''",
     "output_type": "error",
     "traceback": [
      "\u001b[1;31m---------------------------------------------------------------------------\u001b[0m",
      "\u001b[1;31mValueError\u001b[0m                                Traceback (most recent call last)",
      "Cell \u001b[1;32mIn[36], line 1\u001b[0m\n\u001b[1;32m----> 1\u001b[0m \u001b[38;5;28mint\u001b[39m(\u001b[38;5;124m'\u001b[39m\u001b[38;5;124m'\u001b[39m)\n",
      "\u001b[1;31mValueError\u001b[0m: invalid literal for int() with base 10: ''"
     ]
    }
   ],
   "source": [
    "int('')"
   ]
  },
  {
   "cell_type": "code",
   "execution_count": 37,
   "id": "bb2e5a58-330d-4557-b6d2-a976f83e76bb",
   "metadata": {},
   "outputs": [
    {
     "ename": "ValueError",
     "evalue": "could not convert string to float: ''",
     "output_type": "error",
     "traceback": [
      "\u001b[1;31m---------------------------------------------------------------------------\u001b[0m",
      "\u001b[1;31mValueError\u001b[0m                                Traceback (most recent call last)",
      "Cell \u001b[1;32mIn[37], line 1\u001b[0m\n\u001b[1;32m----> 1\u001b[0m \u001b[38;5;28mfloat\u001b[39m(\u001b[38;5;124m'\u001b[39m\u001b[38;5;124m'\u001b[39m)\n",
      "\u001b[1;31mValueError\u001b[0m: could not convert string to float: ''"
     ]
    }
   ],
   "source": [
    "float('')"
   ]
  },
  {
   "cell_type": "code",
   "execution_count": 38,
   "id": "5677cc07-2958-4a4f-a5aa-405d28c6d1e5",
   "metadata": {},
   "outputs": [
    {
     "data": {
      "text/plain": [
       "False"
      ]
     },
     "execution_count": 38,
     "metadata": {},
     "output_type": "execute_result"
    }
   ],
   "source": [
    "bool('')"
   ]
  },
  {
   "cell_type": "code",
   "execution_count": 39,
   "id": "3b9300d5-c17e-426d-a28f-1f4828538e99",
   "metadata": {},
   "outputs": [
    {
     "data": {
      "text/plain": [
       "10"
      ]
     },
     "execution_count": 39,
     "metadata": {},
     "output_type": "execute_result"
    }
   ],
   "source": [
    "int('10')"
   ]
  },
  {
   "cell_type": "code",
   "execution_count": 40,
   "id": "1dd29900-8f3d-4260-b739-0b8119196c9e",
   "metadata": {},
   "outputs": [
    {
     "data": {
      "text/plain": [
       "10.0"
      ]
     },
     "execution_count": 40,
     "metadata": {},
     "output_type": "execute_result"
    }
   ],
   "source": [
    "float('10')"
   ]
  },
  {
   "cell_type": "code",
   "execution_count": 41,
   "id": "1d9869d3-31ef-4e86-8531-2af043cbe19f",
   "metadata": {},
   "outputs": [
    {
     "data": {
      "text/plain": [
       "True"
      ]
     },
     "execution_count": 41,
     "metadata": {},
     "output_type": "execute_result"
    }
   ],
   "source": [
    "bool('10')"
   ]
  },
  {
   "cell_type": "code",
   "execution_count": null,
   "id": "20ee16b2-6326-4270-9cfc-5acb5d699650",
   "metadata": {},
   "outputs": [],
   "source": [
    "# Case-6:\n",
    "str='10.5'\n",
    "int('10.5') # 10 ==== > error\n",
    "float('10.5') # 10.5 \n",
    "bool('10.5')  # True "
   ]
  },
  {
   "cell_type": "markdown",
   "id": "702b3e95-d2e0-4138-bf3b-aa113d5ad1b9",
   "metadata": {},
   "source": [
    "- english letters as string represntation\n",
    "\n",
    "    - apple\n",
    "\n",
    "        - intger coversion fail\n",
    "\n",
    "        - float conversion fail\n",
    "\n",
    "        - boolean coversion True\n",
    "\n",
    "- english letters with numbers as string  representation\n",
    "\n",
    "    - apple123\n",
    "\n",
    "        - intger coversion fail\n",
    "\n",
    "        - float conversion fail\n",
    "\n",
    "        - boolean coversion True\n",
    "\n",
    "- 0 as string  representation\n",
    "\n",
    "    - intger coversion will give 0\n",
    "\n",
    "    - float conversion will give 0.0\n",
    "\n",
    "    - boolean coversion True\n",
    "\n",
    "- empty string as string  representation\n",
    "\n",
    "    - intger coversion fail\n",
    "\n",
    "    - float conversion fail\n",
    "\n",
    "    - boolean coversion False\n",
    "\n",
    "- 10 as string  representation\n",
    "\n",
    "    - intger coversion will give 10\n",
    "\n",
    "    - float conversion will give 10.0\n",
    "\n",
    "    - boolean coversion True\n",
    "\n",
    "- 10.5 as string  representation\n",
    "\n",
    "     - intger coversion will fail\n",
    "\n",
    "    - float conversion will give 010.5\n",
    "\n",
    "    - boolean coversion True"
   ]
  },
  {
   "cell_type": "code",
   "execution_count": 43,
   "id": "c1579bae-afa8-4165-a156-d55a4e2955b7",
   "metadata": {},
   "outputs": [
    {
     "data": {
      "text/plain": [
       "10"
      ]
     },
     "execution_count": 43,
     "metadata": {},
     "output_type": "execute_result"
    }
   ],
   "source": [
    "int('10')"
   ]
  },
  {
   "cell_type": "code",
   "execution_count": 44,
   "id": "afad70f5-b5fe-4a80-a8ae-dd8cd093ad1c",
   "metadata": {},
   "outputs": [
    {
     "data": {
      "text/plain": [
       "10.5"
      ]
     },
     "execution_count": 44,
     "metadata": {},
     "output_type": "execute_result"
    }
   ],
   "source": [
    "float('10.5')"
   ]
  },
  {
   "cell_type": "code",
   "execution_count": 45,
   "id": "943e7dbd-61aa-4da2-9387-fcff98b32a51",
   "metadata": {},
   "outputs": [
    {
     "data": {
      "text/plain": [
       "10.0"
      ]
     },
     "execution_count": 45,
     "metadata": {},
     "output_type": "execute_result"
    }
   ],
   "source": [
    "float('10')\n",
    "\n"
   ]
  },
  {
   "cell_type": "code",
   "execution_count": 46,
   "id": "c089db7c-88bd-4c35-906c-92d411791abd",
   "metadata": {},
   "outputs": [
    {
     "ename": "ValueError",
     "evalue": "invalid literal for int() with base 10: '10.5'",
     "output_type": "error",
     "traceback": [
      "\u001b[1;31m---------------------------------------------------------------------------\u001b[0m",
      "\u001b[1;31mValueError\u001b[0m                                Traceback (most recent call last)",
      "Cell \u001b[1;32mIn[46], line 1\u001b[0m\n\u001b[1;32m----> 1\u001b[0m \u001b[38;5;28mint\u001b[39m(\u001b[38;5;124m'\u001b[39m\u001b[38;5;124m10.5\u001b[39m\u001b[38;5;124m'\u001b[39m)\n",
      "\u001b[1;31mValueError\u001b[0m: invalid literal for int() with base 10: '10.5'"
     ]
    }
   ],
   "source": [
    "int('10.5678')"
   ]
  },
  {
   "cell_type": "code",
   "execution_count": 47,
   "id": "15080fe6-f816-43ac-bf26-d695b03ba910",
   "metadata": {},
   "outputs": [
    {
     "data": {
      "text/plain": [
       "10.678"
      ]
     },
     "execution_count": 47,
     "metadata": {},
     "output_type": "execute_result"
    }
   ],
   "source": [
    "10.678\n",
    "\n",
    "# 10.68\n",
    "# 10.7\n",
    "# 10.0\n",
    "# 10"
   ]
  },
  {
   "cell_type": "code",
   "execution_count": 49,
   "id": "c8feb04a-050c-4ed1-b1d3-b13aeb1c2494",
   "metadata": {},
   "outputs": [
    {
     "data": {
      "text/plain": [
       "10"
      ]
     },
     "execution_count": 49,
     "metadata": {},
     "output_type": "execute_result"
    }
   ],
   "source": [
    "int(float('10.5678'))"
   ]
  },
  {
   "cell_type": "markdown",
   "id": "95f48af1-17be-4cf3-a86c-cbbfad1e173f",
   "metadata": {},
   "source": [
    "**float is the boss**\n",
    "\n",
    "float('10')\n",
    "\n",
    "float('10.5')\n",
    "\n",
    "**integer will works only int famliy**\n",
    "int('10')\n",
    "\n",
    "int('10.5') # Error\n",
    "\n",
    "- boolean conversion of empty string gives False\n",
    "\n",
    "- Otherwise True"
   ]
  },
  {
   "cell_type": "code",
   "execution_count": 52,
   "id": "e7d6192c-5c92-40a5-ab06-21142080f264",
   "metadata": {},
   "outputs": [
    {
     "data": {
      "text/plain": [
       "(False, True)"
      ]
     },
     "execution_count": 52,
     "metadata": {},
     "output_type": "execute_result"
    }
   ],
   "source": [
    "bool(''),bool(' ')"
   ]
  },
  {
   "cell_type": "code",
   "execution_count": 53,
   "id": "d635784c-b96a-42b3-b59d-18ea4224ab98",
   "metadata": {},
   "outputs": [
    {
     "data": {
      "text/plain": [
       "0"
      ]
     },
     "execution_count": 53,
     "metadata": {},
     "output_type": "execute_result"
    }
   ],
   "source": [
    "len('')"
   ]
  },
  {
   "cell_type": "code",
   "execution_count": 54,
   "id": "59b9d182-7541-4aeb-812f-46dd1c158849",
   "metadata": {},
   "outputs": [
    {
     "data": {
      "text/plain": [
       "1"
      ]
     },
     "execution_count": 54,
     "metadata": {},
     "output_type": "execute_result"
    }
   ],
   "source": [
    "len(' ')"
   ]
  },
  {
   "cell_type": "code",
   "execution_count": null,
   "id": "cf942d99-7105-412a-b6f7-2cad535600f8",
   "metadata": {},
   "outputs": [],
   "source": [
    "int(10.8) # Number system It will works\n",
    "int('10.5') # This will not works"
   ]
  },
  {
   "cell_type": "code",
   "execution_count": null,
   "id": "a3bd1252-1405-4cac-9b4d-f80598e7a8d3",
   "metadata": {},
   "outputs": [],
   "source": [
    "int(True)  # 1\n",
    "float(True) # 1.0\n",
    "str(True)   # 'True'"
   ]
  },
  {
   "cell_type": "code",
   "execution_count": null,
   "id": "4645fc84-7fa1-446e-bed0-9feebe6e2c82",
   "metadata": {},
   "outputs": [],
   "source": [
    "int(False)  # 0\n",
    "float(False) # 0.0\n",
    "str(False)   # 'False'"
   ]
  },
  {
   "cell_type": "code",
   "execution_count": 1,
   "id": "5c4cd7ec-5c21-4aab-9e25-7224b42f0db0",
   "metadata": {},
   "outputs": [
    {
     "data": {
      "text/plain": [
       "'True'"
      ]
     },
     "execution_count": 1,
     "metadata": {},
     "output_type": "execute_result"
    }
   ],
   "source": [
    "str(True)"
   ]
  },
  {
   "cell_type": "code",
   "execution_count": 2,
   "id": "a90b59ae-c5b7-4ff2-af4f-8d4d09e05c9d",
   "metadata": {},
   "outputs": [
    {
     "data": {
      "text/plain": [
       "'False'"
      ]
     },
     "execution_count": 2,
     "metadata": {},
     "output_type": "execute_result"
    }
   ],
   "source": [
    "str(False)"
   ]
  },
  {
   "cell_type": "code",
   "execution_count": null,
   "id": "9514cc53-be06-449b-b1bc-cbb136cde149",
   "metadata": {},
   "outputs": [],
   "source": [
    "sir, one doubt, in my note book , str/int/float is in green colour as it's keyword but at your end it's in black colour"
   ]
  },
  {
   "cell_type": "code",
   "execution_count": null,
   "id": "a8a85406-f947-4a8c-8391-85fcfd30e592",
   "metadata": {},
   "outputs": [],
   "source": [
    "9701962333"
   ]
  }
 ],
 "metadata": {
  "kernelspec": {
   "display_name": "Python 3 (ipykernel)",
   "language": "python",
   "name": "python3"
  },
  "language_info": {
   "codemirror_mode": {
    "name": "ipython",
    "version": 3
   },
   "file_extension": ".py",
   "mimetype": "text/x-python",
   "name": "python",
   "nbconvert_exporter": "python",
   "pygments_lexer": "ipython3",
   "version": "3.11.7"
  }
 },
 "nbformat": 4,
 "nbformat_minor": 5
}
