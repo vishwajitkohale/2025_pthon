{
 "cells": [
  {
   "cell_type": "code",
   "execution_count": null,
   "id": "50716ade-d016-475c-9326-2b83903ddfac",
   "metadata": {},
   "outputs": [],
   "source": [
    "Raj has developed a addition program\n",
    "Raj knows that in the entire world he only cretaed addition program\n",
    "\n",
    "Raj has decided to share the entire addition code to the total world\n",
    "\n",
    "\n",
    "1) How can he share?\n",
    "\n",
    "He went to Anaconda organization\n",
    "He told them ==== Addition ==== every one should\n",
    "\n",
    "2) OKay we will take your code \n",
    "   Put that code in a pacakge\n",
    "\n",
    "Package name: Addition\n",
    "He handover to Anaconda organization\n",
    "\n",
    "Who ever installed anaconda, this package automatically download in thier laptop\n",
    "Greenc color pop up : All the packages are installing downloading"
   ]
  },
  {
   "cell_type": "code",
   "execution_count": null,
   "id": "0a5d44e8-a0e0-4fd0-b4da-10fc46fd1c03",
   "metadata": {},
   "outputs": [],
   "source": [
    "package is avialable in your laptop \n",
    "\n",
    "how to use that "
   ]
  },
  {
   "cell_type": "markdown",
   "id": "24121241-3e51-49ae-80e3-3fec7b6e7a88",
   "metadata": {},
   "source": [
    "**import**\n",
    "\n",
    "- import is a keyword to use the pacakge\n",
    "\n",
    "- syntax is :\n",
    "\n",
    "    - **import package_name**"
   ]
  },
  {
   "cell_type": "code",
   "execution_count": null,
   "id": "11465fef-ccbe-42df-8245-e7b3bee651da",
   "metadata": {},
   "outputs": [],
   "source": [
    "# package name: random\n",
    "# package name : math\n",
    "# package name : time\n",
    "# package name : cv2"
   ]
  },
  {
   "cell_type": "code",
   "execution_count": 1,
   "id": "b9861697-5b12-4cf4-acd1-319f9b230ba6",
   "metadata": {},
   "outputs": [],
   "source": [
    "import random"
   ]
  },
  {
   "cell_type": "code",
   "execution_count": 2,
   "id": "17370e55-3711-45e7-96a8-1f695f5ffe3a",
   "metadata": {},
   "outputs": [],
   "source": [
    "import math"
   ]
  },
  {
   "cell_type": "code",
   "execution_count": 3,
   "id": "bf1c3fca-7512-4cc4-b245-c8e078f7f1dc",
   "metadata": {},
   "outputs": [],
   "source": [
    "import time"
   ]
  },
  {
   "cell_type": "code",
   "execution_count": 4,
   "id": "63e41484-9153-4bfb-bea5-fa422e6a01ff",
   "metadata": {},
   "outputs": [],
   "source": [
    "import cv2"
   ]
  },
  {
   "cell_type": "code",
   "execution_count": 5,
   "id": "1e99e2dd-6583-43f4-b6f7-c5b6c19b4293",
   "metadata": {},
   "outputs": [
    {
     "ename": "ModuleNotFoundError",
     "evalue": "No module named 'tensorflow'",
     "output_type": "error",
     "traceback": [
      "\u001b[1;31m---------------------------------------------------------------------------\u001b[0m",
      "\u001b[1;31mModuleNotFoundError\u001b[0m                       Traceback (most recent call last)",
      "Cell \u001b[1;32mIn[5], line 1\u001b[0m\n\u001b[1;32m----> 1\u001b[0m \u001b[38;5;28;01mimport\u001b[39;00m \u001b[38;5;21;01mtensorflow\u001b[39;00m\n",
      "\u001b[1;31mModuleNotFoundError\u001b[0m: No module named 'tensorflow'"
     ]
    }
   ],
   "source": [
    "import tensorflow"
   ]
  },
  {
   "cell_type": "markdown",
   "id": "3fb36d15-962f-453e-bebf-f059c600f90f",
   "metadata": {},
   "source": [
    "**Module not found error**\n",
    "\n",
    "- whenever we import any package\n",
    "\n",
    "- if it is available in our laptop then no error\n",
    "\n",
    "- if it is not available then we will get error"
   ]
  },
  {
   "cell_type": "code",
   "execution_count": 7,
   "id": "49b4ac46-4162-4281-8a4e-a3eaa979a9cd",
   "metadata": {},
   "outputs": [
    {
     "data": {
      "text/plain": [
       "10"
      ]
     },
     "execution_count": 7,
     "metadata": {},
     "output_type": "execute_result"
    }
   ],
   "source": [
    "a=10\n",
    "a"
   ]
  },
  {
   "cell_type": "code",
   "execution_count": null,
   "id": "2b57b49f-37eb-4515-ae6a-e80aff7b5cbd",
   "metadata": {},
   "outputs": [],
   "source": [
    " raj addition\n",
    "     subtraction\n",
    "     multiplication\n",
    "     division \n",
    "Name: ALLINONE\n",
    "\n",
    "import ALLINONE"
   ]
  },
  {
   "cell_type": "markdown",
   "id": "243dbfc9-e91a-437e-9f89-2fa7f8dd9ace",
   "metadata": {},
   "source": [
    "**dir**\n",
    "\n",
    "- It is a directory \n",
    "\n",
    "- to know how many sub methods are avaiable in a single package\n",
    "\n",
    "- syntax is \n",
    "\n",
    "    - dir(package_name)"
   ]
  },
  {
   "cell_type": "code",
   "execution_count": 8,
   "id": "6107f7fb-6572-417a-9af8-9c186588211c",
   "metadata": {},
   "outputs": [
    {
     "data": {
      "text/plain": [
       "['BPF',\n",
       " 'LOG4',\n",
       " 'NV_MAGICCONST',\n",
       " 'RECIP_BPF',\n",
       " 'Random',\n",
       " 'SG_MAGICCONST',\n",
       " 'SystemRandom',\n",
       " 'TWOPI',\n",
       " '_ONE',\n",
       " '_Sequence',\n",
       " '_Set',\n",
       " '__all__',\n",
       " '__builtins__',\n",
       " '__cached__',\n",
       " '__doc__',\n",
       " '__file__',\n",
       " '__loader__',\n",
       " '__name__',\n",
       " '__package__',\n",
       " '__spec__',\n",
       " '_accumulate',\n",
       " '_acos',\n",
       " '_bisect',\n",
       " '_ceil',\n",
       " '_cos',\n",
       " '_e',\n",
       " '_exp',\n",
       " '_floor',\n",
       " '_index',\n",
       " '_inst',\n",
       " '_isfinite',\n",
       " '_log',\n",
       " '_os',\n",
       " '_pi',\n",
       " '_random',\n",
       " '_repeat',\n",
       " '_sha512',\n",
       " '_sin',\n",
       " '_sqrt',\n",
       " '_test',\n",
       " '_test_generator',\n",
       " '_urandom',\n",
       " '_warn',\n",
       " 'betavariate',\n",
       " 'choice',\n",
       " 'choices',\n",
       " 'expovariate',\n",
       " 'gammavariate',\n",
       " 'gauss',\n",
       " 'getrandbits',\n",
       " 'getstate',\n",
       " 'lognormvariate',\n",
       " 'normalvariate',\n",
       " 'paretovariate',\n",
       " 'randbytes',\n",
       " 'randint',\n",
       " 'random',\n",
       " 'randrange',\n",
       " 'sample',\n",
       " 'seed',\n",
       " 'setstate',\n",
       " 'shuffle',\n",
       " 'triangular',\n",
       " 'uniform',\n",
       " 'vonmisesvariate',\n",
       " 'weibullvariate']"
      ]
     },
     "execution_count": 8,
     "metadata": {},
     "output_type": "execute_result"
    }
   ],
   "source": [
    "# package name :  random\n",
    "dir(random)"
   ]
  },
  {
   "cell_type": "code",
   "execution_count": 9,
   "id": "0f335994-6088-4480-8c59-ed938c7fa82c",
   "metadata": {},
   "outputs": [
    {
     "data": {
      "text/plain": [
       "['BPF',\n",
       " 'LOG4',\n",
       " 'NV_MAGICCONST',\n",
       " 'RECIP_BPF',\n",
       " 'Random',\n",
       " 'SG_MAGICCONST',\n",
       " 'SystemRandom',\n",
       " 'TWOPI',\n",
       " '_ONE',\n",
       " '_Sequence',\n",
       " '_Set',\n",
       " '__all__',\n",
       " '__builtins__',\n",
       " '__cached__',\n",
       " '__doc__',\n",
       " '__file__',\n",
       " '__loader__',\n",
       " '__name__',\n",
       " '__package__',\n",
       " '__spec__',\n",
       " '_accumulate',\n",
       " '_acos',\n",
       " '_bisect',\n",
       " '_ceil',\n",
       " '_cos',\n",
       " '_e',\n",
       " '_exp',\n",
       " '_floor',\n",
       " '_index',\n",
       " '_inst',\n",
       " '_isfinite',\n",
       " '_log',\n",
       " '_os',\n",
       " '_pi',\n",
       " '_random',\n",
       " '_repeat',\n",
       " '_sha512',\n",
       " '_sin',\n",
       " '_sqrt',\n",
       " '_test',\n",
       " '_test_generator',\n",
       " '_urandom',\n",
       " '_warn',\n",
       " 'betavariate',\n",
       " 'choice',\n",
       " 'choices',\n",
       " 'expovariate',\n",
       " 'gammavariate',\n",
       " 'gauss',\n",
       " 'getrandbits',\n",
       " 'getstate',\n",
       " 'lognormvariate',\n",
       " 'normalvariate',\n",
       " 'paretovariate',\n",
       " 'randbytes',\n",
       " 'randint',\n",
       " 'random',\n",
       " 'randrange',\n",
       " 'sample',\n",
       " 'seed',\n",
       " 'setstate',\n",
       " 'shuffle',\n",
       " 'triangular',\n",
       " 'uniform',\n",
       " 'vonmisesvariate',\n",
       " 'weibullvariate']"
      ]
     },
     "execution_count": 9,
     "metadata": {},
     "output_type": "execute_result"
    }
   ],
   "source": [
    "# step-1:  import package name\n",
    "# step-2:  dir(package name)\n",
    "\n",
    "import random\n",
    "dir(random)"
   ]
  },
  {
   "cell_type": "markdown",
   "id": "70dc0293-0fb9-4d47-9a8b-fb6be70b231f",
   "metadata": {},
   "source": [
    "**How to use this methods**\n"
   ]
  },
  {
   "cell_type": "code",
   "execution_count": 10,
   "id": "2cda9bb5-821e-4144-9b0f-ecb92a966412",
   "metadata": {},
   "outputs": [
    {
     "data": {
      "text/plain": [
       "['BPF',\n",
       " 'LOG4',\n",
       " 'NV_MAGICCONST',\n",
       " 'RECIP_BPF',\n",
       " 'Random',\n",
       " 'SG_MAGICCONST',\n",
       " 'SystemRandom',\n",
       " 'TWOPI',\n",
       " '_ONE',\n",
       " '_Sequence',\n",
       " '_Set',\n",
       " '__all__',\n",
       " '__builtins__',\n",
       " '__cached__',\n",
       " '__doc__',\n",
       " '__file__',\n",
       " '__loader__',\n",
       " '__name__',\n",
       " '__package__',\n",
       " '__spec__',\n",
       " '_accumulate',\n",
       " '_acos',\n",
       " '_bisect',\n",
       " '_ceil',\n",
       " '_cos',\n",
       " '_e',\n",
       " '_exp',\n",
       " '_floor',\n",
       " '_index',\n",
       " '_inst',\n",
       " '_isfinite',\n",
       " '_log',\n",
       " '_os',\n",
       " '_pi',\n",
       " '_random',\n",
       " '_repeat',\n",
       " '_sha512',\n",
       " '_sin',\n",
       " '_sqrt',\n",
       " '_test',\n",
       " '_test_generator',\n",
       " '_urandom',\n",
       " '_warn',\n",
       " 'betavariate',\n",
       " 'choice',\n",
       " 'choices',\n",
       " 'expovariate',\n",
       " 'gammavariate',\n",
       " 'gauss',\n",
       " 'getrandbits',\n",
       " 'getstate',\n",
       " 'lognormvariate',\n",
       " 'normalvariate',\n",
       " 'paretovariate',\n",
       " 'randbytes',\n",
       " 'randint',\n",
       " 'random',\n",
       " 'randrange',\n",
       " 'sample',\n",
       " 'seed',\n",
       " 'setstate',\n",
       " 'shuffle',\n",
       " 'triangular',\n",
       " 'uniform',\n",
       " 'vonmisesvariate',\n",
       " 'weibullvariate']"
      ]
     },
     "execution_count": 10,
     "metadata": {},
     "output_type": "execute_result"
    }
   ],
   "source": [
    "dir(random)"
   ]
  },
  {
   "cell_type": "code",
   "execution_count": 11,
   "id": "ae1c732e-982f-4c5b-acc3-bb3fd12037b3",
   "metadata": {},
   "outputs": [
    {
     "data": {
      "text/plain": [
       "<bound method Random.randint of <random.Random object at 0x000001ECDBB4D000>>"
      ]
     },
     "execution_count": 11,
     "metadata": {},
     "output_type": "execute_result"
    }
   ],
   "source": [
    "#package_name.method_name\n",
    "#package_name: random\n",
    "#method_name: randint\n",
    "\n",
    "random.randint"
   ]
  },
  {
   "cell_type": "code",
   "execution_count": null,
   "id": "66cbfb17-9475-4e19-9d3e-9a01c2f90e04",
   "metadata": {},
   "outputs": [],
   "source": [
    "# step-1: import package_name\n",
    "# step-2: dir(package_name)\n",
    "# step-3: package_name.method_name"
   ]
  },
  {
   "cell_type": "code",
   "execution_count": 12,
   "id": "474d6ca2-73ae-4d4c-b4f6-a80de9ae83f2",
   "metadata": {},
   "outputs": [
    {
     "ename": "AttributeError",
     "evalue": "module 'random' has no attribute 'omkar'",
     "output_type": "error",
     "traceback": [
      "\u001b[1;31m---------------------------------------------------------------------------\u001b[0m",
      "\u001b[1;31mAttributeError\u001b[0m                            Traceback (most recent call last)",
      "Cell \u001b[1;32mIn[12], line 1\u001b[0m\n\u001b[1;32m----> 1\u001b[0m random\u001b[38;5;241m.\u001b[39momkar\n",
      "\u001b[1;31mAttributeError\u001b[0m: module 'random' has no attribute 'omkar'"
     ]
    }
   ],
   "source": [
    "random.omkar"
   ]
  },
  {
   "cell_type": "markdown",
   "id": "49268756-d9dd-4c02-902a-26eb3c2faad1",
   "metadata": {},
   "source": [
    "**Attribute error**\n",
    "\n",
    "- If the method is not available we will get attribute error"
   ]
  },
  {
   "cell_type": "code",
   "execution_count": null,
   "id": "8bd7f4a1-cfa6-46cb-b366-9d8d10f2efd2",
   "metadata": {},
   "outputs": [],
   "source": [
    "# You know how to import the package\n",
    "# you know how many methods are available inside the package\n",
    "# you know how to call the method\n",
    "      # package_name.method_name\n",
    "      # nallagoni.omkar\n",
    "\n",
    "# if package is not there: Module not found error\n",
    "# if method is not there : Attribute error"
   ]
  },
  {
   "cell_type": "markdown",
   "id": "dfdbac45-ea75-446d-9f24-ccf47a47964d",
   "metadata": {},
   "source": [
    "**How to use**\n",
    "\n",
    "**help**\n",
    "\n",
    "- in order to understand the use of method\n",
    "\n",
    "- first call the method\n",
    "\n",
    "- then apply help\n",
    "\n",
    "- syntax is\n",
    "\n",
    "    - help(packagename.methodname)"
   ]
  },
  {
   "cell_type": "code",
   "execution_count": 13,
   "id": "371ef5d9-7cb3-4dac-a487-2d8bd44d0471",
   "metadata": {},
   "outputs": [
    {
     "name": "stdout",
     "output_type": "stream",
     "text": [
      "Help on method randint in module random:\n",
      "\n",
      "randint(a, b) method of random.Random instance\n",
      "    Return random integer in range [a, b], including both end points.\n",
      "\n"
     ]
    }
   ],
   "source": [
    "# package name: random\n",
    "# method name: randint\n",
    "help(random.randint)"
   ]
  },
  {
   "cell_type": "code",
   "execution_count": 20,
   "id": "fd75c45b-1653-48d2-adf6-96d5dfd29ef5",
   "metadata": {},
   "outputs": [
    {
     "data": {
      "text/plain": [
       "2"
      ]
     },
     "execution_count": 20,
     "metadata": {},
     "output_type": "execute_result"
    }
   ],
   "source": [
    "# you want to get a random number between 10,100\n",
    "random.randint(1,5)"
   ]
  },
  {
   "cell_type": "code",
   "execution_count": 22,
   "id": "c7839f9e-cba1-4b8f-bdbc-10577d8f7f6f",
   "metadata": {},
   "outputs": [
    {
     "ename": "TypeError",
     "evalue": "'method' object is not subscriptable",
     "output_type": "error",
     "traceback": [
      "\u001b[1;31m---------------------------------------------------------------------------\u001b[0m",
      "\u001b[1;31mTypeError\u001b[0m                                 Traceback (most recent call last)",
      "Cell \u001b[1;32mIn[22], line 1\u001b[0m\n\u001b[1;32m----> 1\u001b[0m random\u001b[38;5;241m.\u001b[39mrandint[\u001b[38;5;241m10\u001b[39m,\u001b[38;5;241m20\u001b[39m]\n",
      "\u001b[1;31mTypeError\u001b[0m: 'method' object is not subscriptable"
     ]
    }
   ],
   "source": [
    "random.randint[10,20]  # error"
   ]
  },
  {
   "cell_type": "code",
   "execution_count": 21,
   "id": "476145b4-8283-4016-861e-d4c05932e4fe",
   "metadata": {},
   "outputs": [
    {
     "name": "stdout",
     "output_type": "stream",
     "text": [
      "Help on method randint in module random:\n",
      "\n",
      "randint(a, b) method of random.Random instance\n",
      "    Return random integer in range [a, b], including both end points.\n",
      "\n"
     ]
    },
    {
     "data": {
      "text/plain": [
       "10"
      ]
     },
     "execution_count": 21,
     "metadata": {},
     "output_type": "execute_result"
    }
   ],
   "source": [
    "import random\n",
    "dir(random) # So many\n",
    "help(random.randint)\n",
    "random.randint(10,20)"
   ]
  },
  {
   "cell_type": "code",
   "execution_count": 23,
   "id": "9d885cc7-4ca2-4d33-97d1-713fad2fb325",
   "metadata": {},
   "outputs": [
    {
     "data": {
      "text/plain": [
       "20"
      ]
     },
     "execution_count": 23,
     "metadata": {},
     "output_type": "execute_result"
    }
   ],
   "source": [
    "a=10\n",
    "b=20\n",
    "a\n",
    "b"
   ]
  },
  {
   "cell_type": "code",
   "execution_count": 25,
   "id": "cb56ec83-0ce5-4787-be17-3ceeadc049f1",
   "metadata": {},
   "outputs": [
    {
     "data": {
      "text/plain": [
       "['__doc__',\n",
       " '__loader__',\n",
       " '__name__',\n",
       " '__package__',\n",
       " '__spec__',\n",
       " 'acos',\n",
       " 'acosh',\n",
       " 'asin',\n",
       " 'asinh',\n",
       " 'atan',\n",
       " 'atan2',\n",
       " 'atanh',\n",
       " 'cbrt',\n",
       " 'ceil',\n",
       " 'comb',\n",
       " 'copysign',\n",
       " 'cos',\n",
       " 'cosh',\n",
       " 'degrees',\n",
       " 'dist',\n",
       " 'e',\n",
       " 'erf',\n",
       " 'erfc',\n",
       " 'exp',\n",
       " 'exp2',\n",
       " 'expm1',\n",
       " 'fabs',\n",
       " 'factorial',\n",
       " 'floor',\n",
       " 'fmod',\n",
       " 'frexp',\n",
       " 'fsum',\n",
       " 'gamma',\n",
       " 'gcd',\n",
       " 'hypot',\n",
       " 'inf',\n",
       " 'isclose',\n",
       " 'isfinite',\n",
       " 'isinf',\n",
       " 'isnan',\n",
       " 'isqrt',\n",
       " 'lcm',\n",
       " 'ldexp',\n",
       " 'lgamma',\n",
       " 'log',\n",
       " 'log10',\n",
       " 'log1p',\n",
       " 'log2',\n",
       " 'modf',\n",
       " 'nan',\n",
       " 'nextafter',\n",
       " 'perm',\n",
       " 'pi',\n",
       " 'pow',\n",
       " 'prod',\n",
       " 'radians',\n",
       " 'remainder',\n",
       " 'sin',\n",
       " 'sinh',\n",
       " 'sqrt',\n",
       " 'tan',\n",
       " 'tanh',\n",
       " 'tau',\n",
       " 'trunc',\n",
       " 'ulp']"
      ]
     },
     "execution_count": 25,
     "metadata": {},
     "output_type": "execute_result"
    }
   ],
   "source": [
    "import math\n",
    "dir(math)"
   ]
  },
  {
   "cell_type": "code",
   "execution_count": 26,
   "id": "71e22c22-6835-4b41-a194-83914db3bacb",
   "metadata": {},
   "outputs": [
    {
     "name": "stdout",
     "output_type": "stream",
     "text": [
      "Help on built-in function sqrt in module math:\n",
      "\n",
      "sqrt(x, /)\n",
      "    Return the square root of x.\n",
      "\n"
     ]
    }
   ],
   "source": [
    "help(math.sqrt)"
   ]
  },
  {
   "cell_type": "code",
   "execution_count": 27,
   "id": "1f87d4e9-07e8-4a23-b4b1-25a125320136",
   "metadata": {},
   "outputs": [
    {
     "data": {
      "text/plain": [
       "5.0"
      ]
     },
     "execution_count": 27,
     "metadata": {},
     "output_type": "execute_result"
    }
   ],
   "source": [
    "random.randint(10,20)\n",
    "math.sqrt(25)"
   ]
  },
  {
   "cell_type": "code",
   "execution_count": 28,
   "id": "bcc24d2a-d766-4492-81d6-dea8e3b2ffc0",
   "metadata": {},
   "outputs": [
    {
     "name": "stdout",
     "output_type": "stream",
     "text": [
      "Help on method randint in module random:\n",
      "\n",
      "randint(a, b) method of random.Random instance\n",
      "    Return random integer in range [a, b], including both end points.\n",
      "\n"
     ]
    }
   ],
   "source": [
    "import random\n",
    "dir(random)\n",
    "help(random.randint)"
   ]
  },
  {
   "cell_type": "code",
   "execution_count": 29,
   "id": "005b7a4b-fb17-4905-9f26-c96832e7645f",
   "metadata": {},
   "outputs": [
    {
     "data": {
      "text/plain": [
       "<bound method Random.randint of <random.Random object at 0x000001ECDBB4D000>>"
      ]
     },
     "execution_count": 29,
     "metadata": {},
     "output_type": "execute_result"
    }
   ],
   "source": [
    "random.randint"
   ]
  },
  {
   "cell_type": "markdown",
   "id": "f5189548-cbdd-486e-90c9-ad7f2fee645a",
   "metadata": {},
   "source": [
    "- bound method means brackets are missed"
   ]
  },
  {
   "cell_type": "code",
   "execution_count": 30,
   "id": "81b87f6f-2ce1-4fa1-a013-c0b933af59a9",
   "metadata": {},
   "outputs": [
    {
     "ename": "TypeError",
     "evalue": "Random.randint() missing 2 required positional arguments: 'a' and 'b'",
     "output_type": "error",
     "traceback": [
      "\u001b[1;31m---------------------------------------------------------------------------\u001b[0m",
      "\u001b[1;31mTypeError\u001b[0m                                 Traceback (most recent call last)",
      "Cell \u001b[1;32mIn[30], line 1\u001b[0m\n\u001b[1;32m----> 1\u001b[0m random\u001b[38;5;241m.\u001b[39mrandint()\n",
      "\u001b[1;31mTypeError\u001b[0m: Random.randint() missing 2 required positional arguments: 'a' and 'b'"
     ]
    }
   ],
   "source": [
    "random.randint()"
   ]
  },
  {
   "cell_type": "code",
   "execution_count": 31,
   "id": "7686343e-dbe5-4a22-9a9d-ce984a17dde9",
   "metadata": {},
   "outputs": [
    {
     "ename": "TypeError",
     "evalue": "Random.randint() missing 1 required positional argument: 'b'",
     "output_type": "error",
     "traceback": [
      "\u001b[1;31m---------------------------------------------------------------------------\u001b[0m",
      "\u001b[1;31mTypeError\u001b[0m                                 Traceback (most recent call last)",
      "Cell \u001b[1;32mIn[31], line 1\u001b[0m\n\u001b[1;32m----> 1\u001b[0m random\u001b[38;5;241m.\u001b[39mrandint(\u001b[38;5;241m10\u001b[39m)\n",
      "\u001b[1;31mTypeError\u001b[0m: Random.randint() missing 1 required positional argument: 'b'"
     ]
    }
   ],
   "source": [
    "random.randint(10)"
   ]
  },
  {
   "cell_type": "code",
   "execution_count": 33,
   "id": "47c7a178-72bc-416e-9dfb-d93f7540cbb0",
   "metadata": {},
   "outputs": [
    {
     "data": {
      "text/plain": [
       "18"
      ]
     },
     "execution_count": 33,
     "metadata": {},
     "output_type": "execute_result"
    }
   ],
   "source": [
    "random.randint(10,20)"
   ]
  },
  {
   "cell_type": "code",
   "execution_count": null,
   "id": "6aca25f8-a6aa-44d8-9b04-3cd47b427bab",
   "metadata": {},
   "outputs": [],
   "source": [
    "random.randint\n",
    "random.randint()\n",
    "random.randint(10)\n",
    "random.randint(10,20)\n",
    "\n",
    "print()\n",
    "type()\n",
    "eval()\n",
    "input()"
   ]
  },
  {
   "cell_type": "code",
   "execution_count": null,
   "id": "0143da04-4f88-40cd-9654-0e063523f7a2",
   "metadata": {},
   "outputs": [],
   "source": [
    "math.sqrt"
   ]
  },
  {
   "cell_type": "code",
   "execution_count": null,
   "id": "9b12aa1c-d402-4439-87bb-83f1b8c22fe9",
   "metadata": {},
   "outputs": [],
   "source": [
    "math.sqrt()"
   ]
  },
  {
   "cell_type": "code",
   "execution_count": null,
   "id": "7fe5bb97-6353-4905-9013-ba5ab315cebf",
   "metadata": {},
   "outputs": [],
   "source": [
    "math.sqrt(5)"
   ]
  },
  {
   "cell_type": "code",
   "execution_count": null,
   "id": "7d1588ad-6d04-42a7-99cf-095ba9a59b28",
   "metadata": {},
   "outputs": [],
   "source": [
    "# Package name: random\n",
    "    #  method name: randint\n",
    "    #  method name: random\n",
    "    # method name : randrange\n",
    "   # method name : uniform\n",
    "# Package name : math\n",
    "    # Method name: sqrt\n",
    "    # Method name: pi  # constant no brackets\n",
    "    # Method name: pow\n",
    "    # Method name: sin\n",
    "    # method name: e  # constant no brackets\n",
    "    # method name: factorial\n",
    "    # method name: gcd\n",
    "\n",
    "# Package name: time\n",
    "     # Method name: sleep   i will explain\n",
    "\n",
    "# Package name : sys\n",
    "    # Method name: version"
   ]
  },
  {
   "cell_type": "markdown",
   "id": "fa46261e-9f70-400a-9330-9e743513f025",
   "metadata": {},
   "source": [
    "**Math**"
   ]
  },
  {
   "cell_type": "code",
   "execution_count": 34,
   "id": "97495182-33e1-4ff8-bdf7-c8131b7fbd34",
   "metadata": {},
   "outputs": [
    {
     "name": "stdout",
     "output_type": "stream",
     "text": [
      "Help on built-in function pow in module math:\n",
      "\n",
      "pow(x, y, /)\n",
      "    Return x**y (x to the power of y).\n",
      "\n"
     ]
    }
   ],
   "source": [
    "help(math.pow)"
   ]
  },
  {
   "cell_type": "code",
   "execution_count": 35,
   "id": "af22de03-43da-4ed6-ab26-95dbaf1b5471",
   "metadata": {},
   "outputs": [
    {
     "data": {
      "text/plain": [
       "8.0"
      ]
     },
     "execution_count": 35,
     "metadata": {},
     "output_type": "execute_result"
    }
   ],
   "source": [
    "math.pow(2,3)  #  2***3 =8"
   ]
  },
  {
   "cell_type": "code",
   "execution_count": 36,
   "id": "c9dd0ddf-f33f-4a87-88d5-588351d6d7de",
   "metadata": {},
   "outputs": [
    {
     "data": {
      "text/plain": [
       "3.141592653589793"
      ]
     },
     "execution_count": 36,
     "metadata": {},
     "output_type": "execute_result"
    }
   ],
   "source": [
    "math.pi"
   ]
  },
  {
   "cell_type": "code",
   "execution_count": 37,
   "id": "210c2db3-f52f-4782-be06-fd57aaf341d3",
   "metadata": {},
   "outputs": [
    {
     "data": {
      "text/plain": [
       "2.718281828459045"
      ]
     },
     "execution_count": 37,
     "metadata": {},
     "output_type": "execute_result"
    }
   ],
   "source": [
    "math.e"
   ]
  },
  {
   "cell_type": "code",
   "execution_count": 38,
   "id": "9bb44a1d-0e81-4c76-aa91-1f4c185e1dd5",
   "metadata": {},
   "outputs": [
    {
     "name": "stdout",
     "output_type": "stream",
     "text": [
      "Help on built-in function factorial in module math:\n",
      "\n",
      "factorial(n, /)\n",
      "    Find n!.\n",
      "    \n",
      "    Raise a ValueError if x is negative or non-integral.\n",
      "\n"
     ]
    }
   ],
   "source": [
    "help(math.factorial)"
   ]
  },
  {
   "cell_type": "code",
   "execution_count": 39,
   "id": "857b59e7-d6d5-41f4-8bdc-a65a24097f96",
   "metadata": {},
   "outputs": [
    {
     "data": {
      "text/plain": [
       "120"
      ]
     },
     "execution_count": 39,
     "metadata": {},
     "output_type": "execute_result"
    }
   ],
   "source": [
    "math.factorial(5)"
   ]
  },
  {
   "cell_type": "code",
   "execution_count": 40,
   "id": "73a0d408-9ac4-4ac4-858e-55018a8e0e0a",
   "metadata": {},
   "outputs": [
    {
     "name": "stdout",
     "output_type": "stream",
     "text": [
      "Help on built-in function sin in module math:\n",
      "\n",
      "sin(x, /)\n",
      "    Return the sine of x (measured in radians).\n",
      "\n"
     ]
    }
   ],
   "source": [
    "help(math.sin)"
   ]
  },
  {
   "cell_type": "code",
   "execution_count": 41,
   "id": "85dcbd9d-bb2e-4256-8160-bb61b001bff6",
   "metadata": {},
   "outputs": [
    {
     "data": {
      "text/plain": [
       "0.8939966636005579"
      ]
     },
     "execution_count": 41,
     "metadata": {},
     "output_type": "execute_result"
    }
   ],
   "source": [
    "math.sin(90)"
   ]
  },
  {
   "cell_type": "code",
   "execution_count": 42,
   "id": "0e6c6291-59ef-4073-a1f9-37cfcd331261",
   "metadata": {},
   "outputs": [
    {
     "data": {
      "text/plain": [
       "'3.11.7 | packaged by Anaconda, Inc. | (main, Dec 15 2023, 18:05:47) [MSC v.1916 64 bit (AMD64)]'"
      ]
     },
     "execution_count": 42,
     "metadata": {},
     "output_type": "execute_result"
    }
   ],
   "source": [
    "import sys\n",
    "sys.version\n"
   ]
  },
  {
   "cell_type": "code",
   "execution_count": 43,
   "id": "f05e802c-445b-48d7-a5ca-f6a07b0775a5",
   "metadata": {},
   "outputs": [
    {
     "name": "stdout",
     "output_type": "stream",
     "text": [
      "Help on built-in function random:\n",
      "\n",
      "random() method of random.Random instance\n",
      "    random() -> x in the interval [0, 1).\n",
      "\n"
     ]
    }
   ],
   "source": [
    "import random\n",
    "help(random.random)"
   ]
  },
  {
   "cell_type": "code",
   "execution_count": 46,
   "id": "f2a05111-ea47-4700-bb59-919786d9e28f",
   "metadata": {},
   "outputs": [
    {
     "data": {
      "text/plain": [
       "0.6652047857219057"
      ]
     },
     "execution_count": 46,
     "metadata": {},
     "output_type": "execute_result"
    }
   ],
   "source": [
    "random.random()"
   ]
  },
  {
   "cell_type": "code",
   "execution_count": 47,
   "id": "19fef6fe-04cd-4f53-aea9-1ebbd5fd9e31",
   "metadata": {},
   "outputs": [
    {
     "name": "stdout",
     "output_type": "stream",
     "text": [
      "Help on method randrange in module random:\n",
      "\n",
      "randrange(start, stop=None, step=1) method of random.Random instance\n",
      "    Choose a random item from range(stop) or range(start, stop[, step]).\n",
      "    \n",
      "    Roughly equivalent to ``choice(range(start, stop, step))`` but\n",
      "    supports arbitrarily large ranges and is optimized for common cases.\n",
      "\n"
     ]
    }
   ],
   "source": [
    "help(random.randrange)"
   ]
  },
  {
   "cell_type": "code",
   "execution_count": 55,
   "id": "73d62abe-162c-4c78-99b8-7bc1a4e9e6c1",
   "metadata": {},
   "outputs": [
    {
     "data": {
      "text/plain": [
       "17"
      ]
     },
     "execution_count": 55,
     "metadata": {},
     "output_type": "execute_result"
    }
   ],
   "source": [
    "random.randrange(1,20,2)\n",
    "# 1  2  3  4 5 6 7 8 9 10 11 12 13 14 15 16 17 18 19 20\n",
    "# 1     3    5   7   9    11    13    15    17    19"
   ]
  },
  {
   "cell_type": "code",
   "execution_count": 58,
   "id": "80b180bb-7fd8-4169-add5-d8307115194c",
   "metadata": {},
   "outputs": [
    {
     "data": {
      "text/plain": [
       "2"
      ]
     },
     "execution_count": 58,
     "metadata": {},
     "output_type": "execute_result"
    }
   ],
   "source": [
    "random.randrange(2,20,2)"
   ]
  },
  {
   "cell_type": "code",
   "execution_count": 59,
   "id": "2c7eb208-e6d7-4ecf-9b34-f9ab21a9a496",
   "metadata": {},
   "outputs": [
    {
     "name": "stdout",
     "output_type": "stream",
     "text": [
      "Help on method uniform in module random:\n",
      "\n",
      "uniform(a, b) method of random.Random instance\n",
      "    Get a random number in the range [a, b) or [a, b] depending on rounding.\n",
      "\n"
     ]
    }
   ],
   "source": [
    "help(random.uniform)"
   ]
  },
  {
   "cell_type": "code",
   "execution_count": 63,
   "id": "b53218b0-cb44-4260-bea8-293efdb98d6e",
   "metadata": {},
   "outputs": [
    {
     "data": {
      "text/plain": [
       "8.526437337719578"
      ]
     },
     "execution_count": 63,
     "metadata": {},
     "output_type": "execute_result"
    }
   ],
   "source": [
    "random.uniform(1,10)"
   ]
  },
  {
   "cell_type": "code",
   "execution_count": 65,
   "id": "d581f742-1e76-4d0d-9fa8-ad55a620f7af",
   "metadata": {},
   "outputs": [
    {
     "name": "stdout",
     "output_type": "stream",
     "text": [
      "Help on built-in function sleep in module time:\n",
      "\n",
      "sleep(...)\n",
      "    sleep(seconds)\n",
      "    \n",
      "    Delay execution for a given number of seconds.  The argument may be\n",
      "    a floating point number for subsecond precision.\n",
      "\n"
     ]
    }
   ],
   "source": [
    "import time\n",
    "help(time.sleep)"
   ]
  },
  {
   "cell_type": "code",
   "execution_count": 68,
   "id": "a722fe41-254f-4874-969b-ac17121c0e9a",
   "metadata": {},
   "outputs": [
    {
     "name": "stdout",
     "output_type": "stream",
     "text": [
      "hello\n",
      "bye\n"
     ]
    }
   ],
   "source": [
    "print('hello')\n",
    "time.sleep(5)\n",
    "print('bye')"
   ]
  },
  {
   "cell_type": "code",
   "execution_count": 69,
   "id": "2640a2ee-51d2-459f-956c-e3ef15fb368c",
   "metadata": {},
   "outputs": [
    {
     "data": {
      "text/plain": [
       "'3.11.7 | packaged by Anaconda, Inc. | (main, Dec 15 2023, 18:05:47) [MSC v.1916 64 bit (AMD64)]'"
      ]
     },
     "execution_count": 69,
     "metadata": {},
     "output_type": "execute_result"
    }
   ],
   "source": [
    "sys.version"
   ]
  },
  {
   "cell_type": "code",
   "execution_count": null,
   "id": "e056362f-af64-4f99-b71e-118b4d359eef",
   "metadata": {},
   "outputs": [],
   "source": [
    "# Comments"
   ]
  }
 ],
 "metadata": {
  "kernelspec": {
   "display_name": "Python 3 (ipykernel)",
   "language": "python",
   "name": "python3"
  },
  "language_info": {
   "codemirror_mode": {
    "name": "ipython",
    "version": 3
   },
   "file_extension": ".py",
   "mimetype": "text/x-python",
   "name": "python",
   "nbconvert_exporter": "python",
   "pygments_lexer": "ipython3",
   "version": "3.11.7"
  }
 },
 "nbformat": 4,
 "nbformat_minor": 5
}
